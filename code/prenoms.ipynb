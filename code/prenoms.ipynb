{
 "cells": [
  {
   "cell_type": "markdown",
   "id": "695a4f88-ada3-4960-807c-2e820f916934",
   "metadata": {},
   "source": [
    "# Imports "
   ]
  },
  {
   "cell_type": "code",
   "execution_count": 1,
   "id": "98c22438-97c8-48f6-8834-b12483e8748b",
   "metadata": {},
   "outputs": [],
   "source": [
    "import pandas as pd\n",
    "import numpy as np\n",
    "import os\n",
    "\n",
    "import plotly.express as px\n",
    "\n",
    "from math import ceil\n",
    "from datetime import datetime"
   ]
  },
  {
   "cell_type": "code",
   "execution_count": 2,
   "id": "34c76b42",
   "metadata": {},
   "outputs": [],
   "source": [
    "# def show_named_plotly_colours():\n",
    "#     \"\"\"\n",
    "#     function to display to user the colours to match plotly's named\n",
    "#     css colours.\n",
    "\n",
    "#     Reference:\n",
    "#         #https://community.plotly.com/t/plotly-colours-list/11730/3\n",
    "\n",
    "#     Returns:\n",
    "#         plotly dataframe with cell colour to match named colour name\n",
    "\n",
    "#     \"\"\"\n",
    "#     s='''\n",
    "#         aliceblue, antiquewhite, aqua, aquamarine, azure,\n",
    "#         beige, bisque, black, blanchedalmond, blue,\n",
    "#         blueviolet, brown, burlywood, cadetblue,\n",
    "#         chartreuse, chocolate, coral, cornflowerblue,\n",
    "#         cornsilk, crimson, cyan, darkblue, darkcyan,\n",
    "#         darkgoldenrod, darkgray, darkgrey, darkgreen,\n",
    "#         darkkhaki, darkmagenta, darkolivegreen, darkorange,\n",
    "#         darkorchid, darkred, darksalmon, darkseagreen,\n",
    "#         darkslateblue, darkslategray, darkslategrey,\n",
    "#         darkturquoise, darkviolet, deeppink, deepskyblue,\n",
    "#         dimgray, dimgrey, dodgerblue, firebrick,\n",
    "#         floralwhite, forestgreen, fuchsia, gainsboro,\n",
    "#         ghostwhite, gold, goldenrod, gray, grey, green,\n",
    "#         greenyellow, honeydew, hotpink, indianred, indigo,\n",
    "#         ivory, khaki, lavender, lavenderblush, lawngreen,\n",
    "#         lemonchiffon, lightblue, lightcoral, lightcyan,\n",
    "#         lightgoldenrodyellow, lightgray, lightgrey,\n",
    "#         lightgreen, lightpink, lightsalmon, lightseagreen,\n",
    "#         lightskyblue, lightslategray, lightslategrey,\n",
    "#         lightsteelblue, lightyellow, lime, limegreen,\n",
    "#         linen, magenta, maroon, mediumaquamarine,\n",
    "#         mediumblue, mediumorchid, mediumpurple,\n",
    "#         mediumseagreen, mediumslateblue, mediumspringgreen,\n",
    "#         mediumturquoise, mediumvioletred, midnightblue,\n",
    "#         mintcream, mistyrose, moccasin, navajowhite, navy,\n",
    "#         oldlace, olive, olivedrab, orange, orangered,\n",
    "#         orchid, palegoldenrod, palegreen, paleturquoise,\n",
    "#         palevioletred, papayawhip, peachpuff, peru, pink,\n",
    "#         plum, powderblue, purple, red, rosybrown,\n",
    "#         royalblue, saddlebrown, salmon, sandybrown,\n",
    "#         seagreen, seashell, sienna, silver, skyblue,\n",
    "#         slateblue, slategray, slategrey, snow, springgreen,\n",
    "#         steelblue, tan, teal, thistle, tomato, turquoise,\n",
    "#         violet, wheat, white, whitesmoke, yellow,\n",
    "#         yellowgreen\n",
    "#         '''\n",
    "#     li=s.split(',')\n",
    "#     li=[l.replace('\\n','') for l in li]\n",
    "#     li=[l.replace(' ','') for l in li]\n",
    "\n",
    "#     import pandas as pd\n",
    "#     import plotly.graph_objects as go\n",
    "\n",
    "#     df=pd.DataFrame.from_dict({'colour': li})\n",
    "#     fig = go.Figure(data=[go.Table(\n",
    "#       header=dict(\n",
    "#         values=[\"Plotly Named CSS colours\"],\n",
    "#         line_color='black', fill_color='white',\n",
    "#         align='center', font=dict(color='black', size=14)\n",
    "#       ),\n",
    "#       cells=dict(\n",
    "#         values=[df.colour],\n",
    "#         line_color=[df.colour], fill_color=[df.colour],\n",
    "#         align='center', font=dict(color='black', size=11)\n",
    "#       ))\n",
    "#     ])\n",
    "\n",
    "#     fig.show()\n",
    "# show_named_plotly_colours()"
   ]
  },
  {
   "cell_type": "code",
   "execution_count": 3,
   "id": "cf8f3256",
   "metadata": {},
   "outputs": [
    {
     "data": {
      "text/plain": [
       "2022"
      ]
     },
     "execution_count": 3,
     "metadata": {},
     "output_type": "execute_result"
    }
   ],
   "source": [
    "datetime.now().year"
   ]
  },
  {
   "cell_type": "code",
   "execution_count": 4,
   "id": "249a16e2-48e7-4655-8603-152f2502a65d",
   "metadata": {},
   "outputs": [
    {
     "data": {
      "text/plain": [
       "'/mnt/d/dev/app_prenoms/code'"
      ]
     },
     "execution_count": 4,
     "metadata": {},
     "output_type": "execute_result"
    }
   ],
   "source": [
    "os.getcwd()"
   ]
  },
  {
   "cell_type": "code",
   "execution_count": 5,
   "id": "5dd27aae-4a13-43b0-8a82-b5dbf7fd884a",
   "metadata": {},
   "outputs": [],
   "source": [
    "data_nat = '/mnt/d/dev/app_prenoms/data/nat2020.csv'"
   ]
  },
  {
   "cell_type": "code",
   "execution_count": 6,
   "id": "ccd3c3fb-b785-4493-a860-d27cb3856953",
   "metadata": {},
   "outputs": [],
   "source": [
    "df_raw = pd.read_csv(data_nat, sep=';')"
   ]
  },
  {
   "cell_type": "markdown",
   "id": "373c28e9-de50-423e-ace2-048b7acf809c",
   "metadata": {},
   "source": [
    "# Observations et nettoyage"
   ]
  },
  {
   "cell_type": "code",
   "execution_count": 8,
   "id": "111a0e89-64f7-4713-91ca-f42240415d6d",
   "metadata": {},
   "outputs": [
    {
     "data": {
      "text/html": [
       "<div>\n",
       "<style scoped>\n",
       "    .dataframe tbody tr th:only-of-type {\n",
       "        vertical-align: middle;\n",
       "    }\n",
       "\n",
       "    .dataframe tbody tr th {\n",
       "        vertical-align: top;\n",
       "    }\n",
       "\n",
       "    .dataframe thead th {\n",
       "        text-align: right;\n",
       "    }\n",
       "</style>\n",
       "<table border=\"1\" class=\"dataframe\">\n",
       "  <thead>\n",
       "    <tr style=\"text-align: right;\">\n",
       "      <th></th>\n",
       "      <th>sexe</th>\n",
       "      <th>preusuel</th>\n",
       "      <th>annais</th>\n",
       "      <th>nombre</th>\n",
       "    </tr>\n",
       "  </thead>\n",
       "  <tbody>\n",
       "    <tr>\n",
       "      <th>0</th>\n",
       "      <td>1</td>\n",
       "      <td>_PRENOMS_RARES</td>\n",
       "      <td>1900</td>\n",
       "      <td>1250</td>\n",
       "    </tr>\n",
       "    <tr>\n",
       "      <th>1</th>\n",
       "      <td>1</td>\n",
       "      <td>_PRENOMS_RARES</td>\n",
       "      <td>1901</td>\n",
       "      <td>1342</td>\n",
       "    </tr>\n",
       "    <tr>\n",
       "      <th>2</th>\n",
       "      <td>1</td>\n",
       "      <td>_PRENOMS_RARES</td>\n",
       "      <td>1902</td>\n",
       "      <td>1330</td>\n",
       "    </tr>\n",
       "    <tr>\n",
       "      <th>3</th>\n",
       "      <td>1</td>\n",
       "      <td>_PRENOMS_RARES</td>\n",
       "      <td>1903</td>\n",
       "      <td>1286</td>\n",
       "    </tr>\n",
       "    <tr>\n",
       "      <th>4</th>\n",
       "      <td>1</td>\n",
       "      <td>_PRENOMS_RARES</td>\n",
       "      <td>1904</td>\n",
       "      <td>1430</td>\n",
       "    </tr>\n",
       "  </tbody>\n",
       "</table>\n",
       "</div>"
      ],
      "text/plain": [
       "   sexe        preusuel annais  nombre\n",
       "0     1  _PRENOMS_RARES   1900    1250\n",
       "1     1  _PRENOMS_RARES   1901    1342\n",
       "2     1  _PRENOMS_RARES   1902    1330\n",
       "3     1  _PRENOMS_RARES   1903    1286\n",
       "4     1  _PRENOMS_RARES   1904    1430"
      ]
     },
     "execution_count": 8,
     "metadata": {},
     "output_type": "execute_result"
    }
   ],
   "source": [
    "df_raw.head()"
   ]
  },
  {
   "cell_type": "code",
   "execution_count": 13,
   "id": "a6471682",
   "metadata": {},
   "outputs": [
    {
     "data": {
      "text/html": [
       "<div>\n",
       "<style scoped>\n",
       "    .dataframe tbody tr th:only-of-type {\n",
       "        vertical-align: middle;\n",
       "    }\n",
       "\n",
       "    .dataframe tbody tr th {\n",
       "        vertical-align: top;\n",
       "    }\n",
       "\n",
       "    .dataframe thead th {\n",
       "        text-align: right;\n",
       "    }\n",
       "</style>\n",
       "<table border=\"1\" class=\"dataframe\">\n",
       "  <thead>\n",
       "    <tr style=\"text-align: right;\">\n",
       "      <th></th>\n",
       "      <th>nombre</th>\n",
       "    </tr>\n",
       "    <tr>\n",
       "      <th>preusuel</th>\n",
       "      <th></th>\n",
       "    </tr>\n",
       "  </thead>\n",
       "  <tbody>\n",
       "    <tr>\n",
       "      <th>JEAN</th>\n",
       "      <td>1914060</td>\n",
       "    </tr>\n",
       "    <tr>\n",
       "      <th>PIERRE</th>\n",
       "      <td>891611</td>\n",
       "    </tr>\n",
       "    <tr>\n",
       "      <th>MICHEL</th>\n",
       "      <td>820353</td>\n",
       "    </tr>\n",
       "    <tr>\n",
       "      <th>_PRENOMS_RARES</th>\n",
       "      <td>799188</td>\n",
       "    </tr>\n",
       "    <tr>\n",
       "      <th>ANDRÉ</th>\n",
       "      <td>711950</td>\n",
       "    </tr>\n",
       "  </tbody>\n",
       "</table>\n",
       "</div>"
      ],
      "text/plain": [
       "                 nombre\n",
       "preusuel               \n",
       "JEAN            1914060\n",
       "PIERRE           891611\n",
       "MICHEL           820353\n",
       "_PRENOMS_RARES   799188\n",
       "ANDRÉ            711950"
      ]
     },
     "execution_count": 13,
     "metadata": {},
     "output_type": "execute_result"
    }
   ],
   "source": [
    "df_raw[df_raw.sexe == 1].groupby('preusuel').agg(nombre=('nombre', sum)).sort_values(by=['nombre'], ascending=False).head()"
   ]
  },
  {
   "cell_type": "code",
   "execution_count": 9,
   "id": "ff31ac41-f7b7-4a6a-868c-1b41adf64d3c",
   "metadata": {},
   "outputs": [
    {
     "data": {
      "text/html": [
       "<div>\n",
       "<style scoped>\n",
       "    .dataframe tbody tr th:only-of-type {\n",
       "        vertical-align: middle;\n",
       "    }\n",
       "\n",
       "    .dataframe tbody tr th {\n",
       "        vertical-align: top;\n",
       "    }\n",
       "\n",
       "    .dataframe thead th {\n",
       "        text-align: right;\n",
       "    }\n",
       "</style>\n",
       "<table border=\"1\" class=\"dataframe\">\n",
       "  <thead>\n",
       "    <tr style=\"text-align: right;\">\n",
       "      <th></th>\n",
       "      <th>sexe</th>\n",
       "      <th>nombre</th>\n",
       "    </tr>\n",
       "  </thead>\n",
       "  <tbody>\n",
       "    <tr>\n",
       "      <th>count</th>\n",
       "      <td>667364.000000</td>\n",
       "      <td>667364.000000</td>\n",
       "    </tr>\n",
       "    <tr>\n",
       "      <th>mean</th>\n",
       "      <td>1.543828</td>\n",
       "      <td>129.772665</td>\n",
       "    </tr>\n",
       "    <tr>\n",
       "      <th>std</th>\n",
       "      <td>0.498076</td>\n",
       "      <td>884.912504</td>\n",
       "    </tr>\n",
       "    <tr>\n",
       "      <th>min</th>\n",
       "      <td>1.000000</td>\n",
       "      <td>1.000000</td>\n",
       "    </tr>\n",
       "    <tr>\n",
       "      <th>25%</th>\n",
       "      <td>1.000000</td>\n",
       "      <td>4.000000</td>\n",
       "    </tr>\n",
       "    <tr>\n",
       "      <th>50%</th>\n",
       "      <td>2.000000</td>\n",
       "      <td>8.000000</td>\n",
       "    </tr>\n",
       "    <tr>\n",
       "      <th>75%</th>\n",
       "      <td>2.000000</td>\n",
       "      <td>25.000000</td>\n",
       "    </tr>\n",
       "    <tr>\n",
       "      <th>max</th>\n",
       "      <td>2.000000</td>\n",
       "      <td>53584.000000</td>\n",
       "    </tr>\n",
       "  </tbody>\n",
       "</table>\n",
       "</div>"
      ],
      "text/plain": [
       "                sexe         nombre\n",
       "count  667364.000000  667364.000000\n",
       "mean        1.543828     129.772665\n",
       "std         0.498076     884.912504\n",
       "min         1.000000       1.000000\n",
       "25%         1.000000       4.000000\n",
       "50%         2.000000       8.000000\n",
       "75%         2.000000      25.000000\n",
       "max         2.000000   53584.000000"
      ]
     },
     "execution_count": 9,
     "metadata": {},
     "output_type": "execute_result"
    }
   ],
   "source": [
    "df_raw.describe()"
   ]
  },
  {
   "cell_type": "code",
   "execution_count": 10,
   "id": "e2a8152c-7283-4e0a-89e5-08aeb7061021",
   "metadata": {},
   "outputs": [
    {
     "data": {
      "text/plain": [
       "(35011,)"
      ]
     },
     "execution_count": 10,
     "metadata": {},
     "output_type": "execute_result"
    }
   ],
   "source": [
    "# Nombre de prénoms uniques\n",
    "df_raw.preusuel.unique().shape"
   ]
  },
  {
   "cell_type": "code",
   "execution_count": 11,
   "id": "81be6b4f-4e41-48a8-b03b-195ba2bbf569",
   "metadata": {},
   "outputs": [
    {
     "data": {
      "text/html": [
       "<div>\n",
       "<style scoped>\n",
       "    .dataframe tbody tr th:only-of-type {\n",
       "        vertical-align: middle;\n",
       "    }\n",
       "\n",
       "    .dataframe tbody tr th {\n",
       "        vertical-align: top;\n",
       "    }\n",
       "\n",
       "    .dataframe thead th {\n",
       "        text-align: right;\n",
       "    }\n",
       "</style>\n",
       "<table border=\"1\" class=\"dataframe\">\n",
       "  <thead>\n",
       "    <tr style=\"text-align: right;\">\n",
       "      <th></th>\n",
       "      <th>sexe</th>\n",
       "      <th>preusuel</th>\n",
       "      <th>annais</th>\n",
       "      <th>nombre</th>\n",
       "    </tr>\n",
       "  </thead>\n",
       "  <tbody>\n",
       "    <tr>\n",
       "      <th>123</th>\n",
       "      <td>1</td>\n",
       "      <td>A</td>\n",
       "      <td>XXXX</td>\n",
       "      <td>21</td>\n",
       "    </tr>\n",
       "    <tr>\n",
       "      <th>130</th>\n",
       "      <td>1</td>\n",
       "      <td>AADAM</td>\n",
       "      <td>XXXX</td>\n",
       "      <td>9</td>\n",
       "    </tr>\n",
       "    <tr>\n",
       "      <th>138</th>\n",
       "      <td>1</td>\n",
       "      <td>AADEL</td>\n",
       "      <td>XXXX</td>\n",
       "      <td>28</td>\n",
       "    </tr>\n",
       "    <tr>\n",
       "      <th>164</th>\n",
       "      <td>1</td>\n",
       "      <td>AADIL</td>\n",
       "      <td>XXXX</td>\n",
       "      <td>34</td>\n",
       "    </tr>\n",
       "    <tr>\n",
       "      <th>169</th>\n",
       "      <td>1</td>\n",
       "      <td>AAHIL</td>\n",
       "      <td>XXXX</td>\n",
       "      <td>6</td>\n",
       "    </tr>\n",
       "    <tr>\n",
       "      <th>...</th>\n",
       "      <td>...</td>\n",
       "      <td>...</td>\n",
       "      <td>...</td>\n",
       "      <td>...</td>\n",
       "    </tr>\n",
       "    <tr>\n",
       "      <th>667297</th>\n",
       "      <td>2</td>\n",
       "      <td>ZÜMRA</td>\n",
       "      <td>XXXX</td>\n",
       "      <td>1</td>\n",
       "    </tr>\n",
       "    <tr>\n",
       "      <th>667315</th>\n",
       "      <td>2</td>\n",
       "      <td>ZUZANNA</td>\n",
       "      <td>XXXX</td>\n",
       "      <td>10</td>\n",
       "    </tr>\n",
       "    <tr>\n",
       "      <th>667336</th>\n",
       "      <td>2</td>\n",
       "      <td>ZYA</td>\n",
       "      <td>XXXX</td>\n",
       "      <td>6</td>\n",
       "    </tr>\n",
       "    <tr>\n",
       "      <th>667346</th>\n",
       "      <td>2</td>\n",
       "      <td>ZYNA</td>\n",
       "      <td>XXXX</td>\n",
       "      <td>16</td>\n",
       "    </tr>\n",
       "    <tr>\n",
       "      <th>667363</th>\n",
       "      <td>2</td>\n",
       "      <td>ZYNEB</td>\n",
       "      <td>XXXX</td>\n",
       "      <td>19</td>\n",
       "    </tr>\n",
       "  </tbody>\n",
       "</table>\n",
       "<p>36675 rows × 4 columns</p>\n",
       "</div>"
      ],
      "text/plain": [
       "        sexe preusuel annais  nombre\n",
       "123        1        A   XXXX      21\n",
       "130        1    AADAM   XXXX       9\n",
       "138        1    AADEL   XXXX      28\n",
       "164        1    AADIL   XXXX      34\n",
       "169        1    AAHIL   XXXX       6\n",
       "...      ...      ...    ...     ...\n",
       "667297     2    ZÜMRA   XXXX       1\n",
       "667315     2  ZUZANNA   XXXX      10\n",
       "667336     2      ZYA   XXXX       6\n",
       "667346     2     ZYNA   XXXX      16\n",
       "667363     2    ZYNEB   XXXX      19\n",
       "\n",
       "[36675 rows x 4 columns]"
      ]
     },
     "execution_count": 11,
     "metadata": {},
     "output_type": "execute_result"
    }
   ],
   "source": [
    "df_raw[df_raw.annais == 'XXXX']"
   ]
  },
  {
   "cell_type": "markdown",
   "id": "2f8d558e-fa18-4374-b2b8-b3b0a2234d45",
   "metadata": {},
   "source": [
    "Conditions portant sur les prénoms retenus\n",
    "\n",
    "    1. Sur la période allant de 1900 à 1945, le prénom a été attribué au moins 20 fois à des personnes de sexe féminin et/ou au moins 20 fois à des personnes de sexe masculin\n",
    "    2. Sur la période allant de 1946 à 2020, le prénom a été attribué au moins 20 fois à des personnes de sexe féminin et/ou au moins 20 fois à des personnes de sexe masculin\n",
    "    3. Pour une année de naissance donnée, le prénom a été attribué au moins 3 fois à des personnes de sexe féminin ou de sexe masculin\n",
    "\n",
    "Les effectifs des prénoms ne remplissant pas les conditions 1 et 2 sont regroupés (pour chaque sexe et chaque année de naissance) dans un enregistrement dont le champ prénom (PREUSUEL) prend la valeur «_PRENOMS_RARES_». Les effectifs des prénoms remplissant la condition 2 mais pas la condition 3 sont regroupés (pour chaque sexe et chaque prénom) dans un enregistrement dont le champ année de naissance (ANNAIS) prend la valeur «XXXX»."
   ]
  },
  {
   "cell_type": "code",
   "execution_count": 12,
   "id": "32f3d423-315a-4329-b9f0-bb96275a9afa",
   "metadata": {},
   "outputs": [
    {
     "data": {
      "text/html": [
       "<div>\n",
       "<style scoped>\n",
       "    .dataframe tbody tr th:only-of-type {\n",
       "        vertical-align: middle;\n",
       "    }\n",
       "\n",
       "    .dataframe tbody tr th {\n",
       "        vertical-align: top;\n",
       "    }\n",
       "\n",
       "    .dataframe thead th {\n",
       "        text-align: right;\n",
       "    }\n",
       "</style>\n",
       "<table border=\"1\" class=\"dataframe\">\n",
       "  <thead>\n",
       "    <tr style=\"text-align: right;\">\n",
       "      <th></th>\n",
       "      <th>sexe</th>\n",
       "      <th>annais</th>\n",
       "      <th>nombre</th>\n",
       "    </tr>\n",
       "  </thead>\n",
       "  <tbody>\n",
       "    <tr>\n",
       "      <th>count</th>\n",
       "      <td>630689.000000</td>\n",
       "      <td>630689.000000</td>\n",
       "      <td>630689.000000</td>\n",
       "    </tr>\n",
       "    <tr>\n",
       "      <th>mean</th>\n",
       "      <td>1.543861</td>\n",
       "      <td>1983.349118</td>\n",
       "      <td>135.979288</td>\n",
       "    </tr>\n",
       "    <tr>\n",
       "      <th>std</th>\n",
       "      <td>0.498073</td>\n",
       "      <td>31.492272</td>\n",
       "      <td>909.887013</td>\n",
       "    </tr>\n",
       "    <tr>\n",
       "      <th>min</th>\n",
       "      <td>1.000000</td>\n",
       "      <td>1900.000000</td>\n",
       "      <td>3.000000</td>\n",
       "    </tr>\n",
       "    <tr>\n",
       "      <th>25%</th>\n",
       "      <td>1.000000</td>\n",
       "      <td>1965.000000</td>\n",
       "      <td>4.000000</td>\n",
       "    </tr>\n",
       "    <tr>\n",
       "      <th>50%</th>\n",
       "      <td>2.000000</td>\n",
       "      <td>1993.000000</td>\n",
       "      <td>8.000000</td>\n",
       "    </tr>\n",
       "    <tr>\n",
       "      <th>75%</th>\n",
       "      <td>2.000000</td>\n",
       "      <td>2009.000000</td>\n",
       "      <td>24.000000</td>\n",
       "    </tr>\n",
       "    <tr>\n",
       "      <th>max</th>\n",
       "      <td>2.000000</td>\n",
       "      <td>2020.000000</td>\n",
       "      <td>53584.000000</td>\n",
       "    </tr>\n",
       "  </tbody>\n",
       "</table>\n",
       "</div>"
      ],
      "text/plain": [
       "                sexe         annais         nombre\n",
       "count  630689.000000  630689.000000  630689.000000\n",
       "mean        1.543861    1983.349118     135.979288\n",
       "std         0.498073      31.492272     909.887013\n",
       "min         1.000000    1900.000000       3.000000\n",
       "25%         1.000000    1965.000000       4.000000\n",
       "50%         2.000000    1993.000000       8.000000\n",
       "75%         2.000000    2009.000000      24.000000\n",
       "max         2.000000    2020.000000   53584.000000"
      ]
     },
     "execution_count": 12,
     "metadata": {},
     "output_type": "execute_result"
    }
   ],
   "source": [
    "# On supprime les valeurs de 'annais' == 'XXXX'\n",
    "df_raw = df_raw[df_raw.annais != 'XXXX'].copy()\n",
    "df_raw.annais = df_raw.annais.astype(int)\n",
    "df_raw.describe()"
   ]
  },
  {
   "cell_type": "code",
   "execution_count": 13,
   "id": "2cd6d9b6-ac38-4d48-9c5b-b527448e1ddd",
   "metadata": {},
   "outputs": [
    {
     "data": {
      "text/plain": [
       "121           A\n",
       "122           A\n",
       "124       AADAM\n",
       "125       AADAM\n",
       "126       AADAM\n",
       "          ...  \n",
       "588418    ÖZLEM\n",
       "650267     ÜMMÜ\n",
       "650268     ÜMMÜ\n",
       "650269     ÜMMÜ\n",
       "563597      NaN\n",
       "Name: preusuel, Length: 630689, dtype: object"
      ]
     },
     "execution_count": 13,
     "metadata": {},
     "output_type": "execute_result"
    }
   ],
   "source": [
    "df_raw.preusuel.sort_values()"
   ]
  },
  {
   "cell_type": "code",
   "execution_count": 14,
   "id": "5c2b92ec-ac08-44da-aa31-2195aef5775c",
   "metadata": {},
   "outputs": [
    {
     "data": {
      "text/html": [
       "<div>\n",
       "<style scoped>\n",
       "    .dataframe tbody tr th:only-of-type {\n",
       "        vertical-align: middle;\n",
       "    }\n",
       "\n",
       "    .dataframe tbody tr th {\n",
       "        vertical-align: top;\n",
       "    }\n",
       "\n",
       "    .dataframe thead th {\n",
       "        text-align: right;\n",
       "    }\n",
       "</style>\n",
       "<table border=\"1\" class=\"dataframe\">\n",
       "  <thead>\n",
       "    <tr style=\"text-align: right;\">\n",
       "      <th></th>\n",
       "      <th>sexe</th>\n",
       "      <th>preusuel</th>\n",
       "      <th>annais</th>\n",
       "      <th>nombre</th>\n",
       "    </tr>\n",
       "  </thead>\n",
       "  <tbody>\n",
       "    <tr>\n",
       "      <th>563597</th>\n",
       "      <td>2</td>\n",
       "      <td>NaN</td>\n",
       "      <td>2003</td>\n",
       "      <td>3</td>\n",
       "    </tr>\n",
       "  </tbody>\n",
       "</table>\n",
       "</div>"
      ],
      "text/plain": [
       "        sexe preusuel  annais  nombre\n",
       "563597     2      NaN    2003       3"
      ]
     },
     "execution_count": 14,
     "metadata": {},
     "output_type": "execute_result"
    }
   ],
   "source": [
    "df_raw[df_raw.preusuel.isna()]"
   ]
  },
  {
   "cell_type": "code",
   "execution_count": 15,
   "id": "4881cd9b-8cf1-4f8f-bee5-b589986b0b5d",
   "metadata": {},
   "outputs": [],
   "source": [
    "df_raw.dropna(inplace=True)"
   ]
  },
  {
   "cell_type": "code",
   "execution_count": 16,
   "id": "6f2bfbe6-40cd-4882-9018-ef9a3e0227f5",
   "metadata": {},
   "outputs": [
    {
     "data": {
      "text/html": [
       "<div>\n",
       "<style scoped>\n",
       "    .dataframe tbody tr th:only-of-type {\n",
       "        vertical-align: middle;\n",
       "    }\n",
       "\n",
       "    .dataframe tbody tr th {\n",
       "        vertical-align: top;\n",
       "    }\n",
       "\n",
       "    .dataframe thead th {\n",
       "        text-align: right;\n",
       "    }\n",
       "</style>\n",
       "<table border=\"1\" class=\"dataframe\">\n",
       "  <thead>\n",
       "    <tr style=\"text-align: right;\">\n",
       "      <th></th>\n",
       "      <th>sexe</th>\n",
       "      <th>preusuel</th>\n",
       "      <th>annais</th>\n",
       "      <th>nombre</th>\n",
       "    </tr>\n",
       "  </thead>\n",
       "  <tbody>\n",
       "    <tr>\n",
       "      <th>113686</th>\n",
       "      <td>1</td>\n",
       "      <td>hani</td>\n",
       "      <td>1988</td>\n",
       "      <td>4</td>\n",
       "    </tr>\n",
       "    <tr>\n",
       "      <th>33640</th>\n",
       "      <td>1</td>\n",
       "      <td>aydine</td>\n",
       "      <td>2015</td>\n",
       "      <td>7</td>\n",
       "    </tr>\n",
       "    <tr>\n",
       "      <th>35901</th>\n",
       "      <td>1</td>\n",
       "      <td>badra</td>\n",
       "      <td>2009</td>\n",
       "      <td>3</td>\n",
       "    </tr>\n",
       "    <tr>\n",
       "      <th>665247</th>\n",
       "      <td>2</td>\n",
       "      <td>zely</td>\n",
       "      <td>2007</td>\n",
       "      <td>10</td>\n",
       "    </tr>\n",
       "    <tr>\n",
       "      <th>393728</th>\n",
       "      <td>2</td>\n",
       "      <td>elham</td>\n",
       "      <td>2018</td>\n",
       "      <td>4</td>\n",
       "    </tr>\n",
       "  </tbody>\n",
       "</table>\n",
       "</div>"
      ],
      "text/plain": [
       "        sexe preusuel  annais  nombre\n",
       "113686     1     hani    1988       4\n",
       "33640      1   aydine    2015       7\n",
       "35901      1    badra    2009       3\n",
       "665247     2     zely    2007      10\n",
       "393728     2    elham    2018       4"
      ]
     },
     "execution_count": 16,
     "metadata": {},
     "output_type": "execute_result"
    }
   ],
   "source": [
    "df_raw.preusuel = df_raw.preusuel.apply(lambda x: x.lower())\n",
    "df_raw.sample(5)"
   ]
  },
  {
   "cell_type": "code",
   "execution_count": 17,
   "id": "221ad878-2cae-4025-b23a-38b9a1e51a10",
   "metadata": {},
   "outputs": [
    {
     "data": {
      "text/plain": [
       "(33098,)"
      ]
     },
     "execution_count": 17,
     "metadata": {},
     "output_type": "execute_result"
    }
   ],
   "source": [
    "df_raw.preusuel.unique().shape"
   ]
  },
  {
   "cell_type": "code",
   "execution_count": 18,
   "id": "fe6d523c-ef61-458b-a5ca-599968ed3c04",
   "metadata": {},
   "outputs": [
    {
     "data": {
      "text/html": [
       "<div>\n",
       "<style scoped>\n",
       "    .dataframe tbody tr th:only-of-type {\n",
       "        vertical-align: middle;\n",
       "    }\n",
       "\n",
       "    .dataframe tbody tr th {\n",
       "        vertical-align: top;\n",
       "    }\n",
       "\n",
       "    .dataframe thead th {\n",
       "        text-align: right;\n",
       "    }\n",
       "</style>\n",
       "<table border=\"1\" class=\"dataframe\">\n",
       "  <thead>\n",
       "    <tr style=\"text-align: right;\">\n",
       "      <th></th>\n",
       "      <th>sexe</th>\n",
       "      <th>preusuel</th>\n",
       "      <th>annais</th>\n",
       "      <th>nombre</th>\n",
       "    </tr>\n",
       "  </thead>\n",
       "  <tbody>\n",
       "    <tr>\n",
       "      <th>406192</th>\n",
       "      <td>2</td>\n",
       "      <td>estelle</td>\n",
       "      <td>1900</td>\n",
       "      <td>164</td>\n",
       "    </tr>\n",
       "    <tr>\n",
       "      <th>406193</th>\n",
       "      <td>2</td>\n",
       "      <td>estelle</td>\n",
       "      <td>1901</td>\n",
       "      <td>191</td>\n",
       "    </tr>\n",
       "    <tr>\n",
       "      <th>406194</th>\n",
       "      <td>2</td>\n",
       "      <td>estelle</td>\n",
       "      <td>1902</td>\n",
       "      <td>153</td>\n",
       "    </tr>\n",
       "    <tr>\n",
       "      <th>406195</th>\n",
       "      <td>2</td>\n",
       "      <td>estelle</td>\n",
       "      <td>1903</td>\n",
       "      <td>153</td>\n",
       "    </tr>\n",
       "    <tr>\n",
       "      <th>406196</th>\n",
       "      <td>2</td>\n",
       "      <td>estelle</td>\n",
       "      <td>1904</td>\n",
       "      <td>151</td>\n",
       "    </tr>\n",
       "    <tr>\n",
       "      <th>...</th>\n",
       "      <td>...</td>\n",
       "      <td>...</td>\n",
       "      <td>...</td>\n",
       "      <td>...</td>\n",
       "    </tr>\n",
       "    <tr>\n",
       "      <th>406308</th>\n",
       "      <td>2</td>\n",
       "      <td>estelle</td>\n",
       "      <td>2016</td>\n",
       "      <td>244</td>\n",
       "    </tr>\n",
       "    <tr>\n",
       "      <th>406309</th>\n",
       "      <td>2</td>\n",
       "      <td>estelle</td>\n",
       "      <td>2017</td>\n",
       "      <td>212</td>\n",
       "    </tr>\n",
       "    <tr>\n",
       "      <th>406310</th>\n",
       "      <td>2</td>\n",
       "      <td>estelle</td>\n",
       "      <td>2018</td>\n",
       "      <td>195</td>\n",
       "    </tr>\n",
       "    <tr>\n",
       "      <th>406311</th>\n",
       "      <td>2</td>\n",
       "      <td>estelle</td>\n",
       "      <td>2019</td>\n",
       "      <td>158</td>\n",
       "    </tr>\n",
       "    <tr>\n",
       "      <th>406312</th>\n",
       "      <td>2</td>\n",
       "      <td>estelle</td>\n",
       "      <td>2020</td>\n",
       "      <td>156</td>\n",
       "    </tr>\n",
       "  </tbody>\n",
       "</table>\n",
       "<p>121 rows × 4 columns</p>\n",
       "</div>"
      ],
      "text/plain": [
       "        sexe preusuel  annais  nombre\n",
       "406192     2  estelle    1900     164\n",
       "406193     2  estelle    1901     191\n",
       "406194     2  estelle    1902     153\n",
       "406195     2  estelle    1903     153\n",
       "406196     2  estelle    1904     151\n",
       "...      ...      ...     ...     ...\n",
       "406308     2  estelle    2016     244\n",
       "406309     2  estelle    2017     212\n",
       "406310     2  estelle    2018     195\n",
       "406311     2  estelle    2019     158\n",
       "406312     2  estelle    2020     156\n",
       "\n",
       "[121 rows x 4 columns]"
      ]
     },
     "execution_count": 18,
     "metadata": {},
     "output_type": "execute_result"
    }
   ],
   "source": [
    "df_raw[df_raw.preusuel == 'estelle']"
   ]
  },
  {
   "cell_type": "code",
   "execution_count": null,
   "id": "31d32cd5-a47e-4e2f-ac75-9f5c8707aebf",
   "metadata": {},
   "outputs": [],
   "source": []
  },
  {
   "cell_type": "code",
   "execution_count": 19,
   "id": "1e2a357f-b372-4450-bb59-71e5f6fa3a2b",
   "metadata": {},
   "outputs": [],
   "source": [
    "df_nat = df_raw.copy(deep=True)"
   ]
  },
  {
   "cell_type": "code",
   "execution_count": null,
   "id": "8cc599c3-bf7e-44fb-b2ea-4944a8c3b92c",
   "metadata": {},
   "outputs": [],
   "source": []
  },
  {
   "cell_type": "markdown",
   "id": "8e851ad8-5d97-4967-9014-d6ef88a661b7",
   "metadata": {},
   "source": [
    "## Suppression des accents"
   ]
  },
  {
   "cell_type": "code",
   "execution_count": 20,
   "id": "723968e1-21c4-48da-90df-4108a2947670",
   "metadata": {},
   "outputs": [
    {
     "data": {
      "text/plain": [
       "array(['agnes', 'leon', 'mickael', 'noel', 'eleanor', 'ingrid'],\n",
       "      dtype=object)"
      ]
     },
     "execution_count": 20,
     "metadata": {},
     "output_type": "execute_result"
    }
   ],
   "source": [
    "df_nat[df_nat.preusuel.isin(['noël', 'agnès', 'mickaël', 'éléanor', 'léon', 'ingrid'])].preusuel.str.normalize('NFKD').str.encode('ascii', errors='ignore').str.decode('utf-8').unique()"
   ]
  },
  {
   "cell_type": "code",
   "execution_count": 21,
   "id": "00983d80-c086-40f9-9e7d-6493e8d93a2f",
   "metadata": {},
   "outputs": [],
   "source": [
    "df_nat['preusuel'] = df_nat['preusuel'].str.normalize('NFKD').str.encode('ascii', errors='ignore').str.decode('utf-8')"
   ]
  },
  {
   "cell_type": "code",
   "execution_count": 22,
   "id": "1dcb4137-1d7e-4f50-abb4-79f021a51b95",
   "metadata": {},
   "outputs": [
    {
     "data": {
      "text/plain": [
       "(30133,)"
      ]
     },
     "execution_count": 22,
     "metadata": {},
     "output_type": "execute_result"
    }
   ],
   "source": [
    "df_nat.preusuel.unique().shape"
   ]
  },
  {
   "cell_type": "code",
   "execution_count": 23,
   "id": "db64af88",
   "metadata": {},
   "outputs": [
    {
     "data": {
      "text/plain": [
       "2020"
      ]
     },
     "execution_count": 23,
     "metadata": {},
     "output_type": "execute_result"
    }
   ],
   "source": [
    "df_nat.annais.max()"
   ]
  },
  {
   "cell_type": "markdown",
   "id": "fbbca4f9-0dcd-4c1c-baa4-705e0bcbe43f",
   "metadata": {},
   "source": [
    "## Aggrégation des prénoms désaccentués"
   ]
  },
  {
   "cell_type": "code",
   "execution_count": 26,
   "id": "9f359621-8d90-42ea-8499-d29b3c7a5548",
   "metadata": {},
   "outputs": [
    {
     "data": {
      "text/html": [
       "<div>\n",
       "<style scoped>\n",
       "    .dataframe tbody tr th:only-of-type {\n",
       "        vertical-align: middle;\n",
       "    }\n",
       "\n",
       "    .dataframe tbody tr th {\n",
       "        vertical-align: top;\n",
       "    }\n",
       "\n",
       "    .dataframe thead th {\n",
       "        text-align: right;\n",
       "    }\n",
       "</style>\n",
       "<table border=\"1\" class=\"dataframe\">\n",
       "  <thead>\n",
       "    <tr style=\"text-align: right;\">\n",
       "      <th></th>\n",
       "      <th>preusuel</th>\n",
       "      <th>annais</th>\n",
       "      <th>sexe</th>\n",
       "      <th>nombre</th>\n",
       "    </tr>\n",
       "  </thead>\n",
       "  <tbody>\n",
       "    <tr>\n",
       "      <th>0</th>\n",
       "      <td>_prenoms_rares</td>\n",
       "      <td>1900</td>\n",
       "      <td>1</td>\n",
       "      <td>1250</td>\n",
       "    </tr>\n",
       "    <tr>\n",
       "      <th>1</th>\n",
       "      <td>_prenoms_rares</td>\n",
       "      <td>1900</td>\n",
       "      <td>2</td>\n",
       "      <td>1727</td>\n",
       "    </tr>\n",
       "    <tr>\n",
       "      <th>2</th>\n",
       "      <td>_prenoms_rares</td>\n",
       "      <td>1901</td>\n",
       "      <td>1</td>\n",
       "      <td>1342</td>\n",
       "    </tr>\n",
       "    <tr>\n",
       "      <th>3</th>\n",
       "      <td>_prenoms_rares</td>\n",
       "      <td>1901</td>\n",
       "      <td>2</td>\n",
       "      <td>1774</td>\n",
       "    </tr>\n",
       "    <tr>\n",
       "      <th>4</th>\n",
       "      <td>_prenoms_rares</td>\n",
       "      <td>1902</td>\n",
       "      <td>1</td>\n",
       "      <td>1330</td>\n",
       "    </tr>\n",
       "    <tr>\n",
       "      <th>...</th>\n",
       "      <td>...</td>\n",
       "      <td>...</td>\n",
       "      <td>...</td>\n",
       "      <td>...</td>\n",
       "    </tr>\n",
       "    <tr>\n",
       "      <th>604731</th>\n",
       "      <td>zyneb</td>\n",
       "      <td>2020</td>\n",
       "      <td>2</td>\n",
       "      <td>8</td>\n",
       "    </tr>\n",
       "    <tr>\n",
       "      <th>604732</th>\n",
       "      <td>zyon</td>\n",
       "      <td>2001</td>\n",
       "      <td>1</td>\n",
       "      <td>4</td>\n",
       "    </tr>\n",
       "    <tr>\n",
       "      <th>604733</th>\n",
       "      <td>zyon</td>\n",
       "      <td>2010</td>\n",
       "      <td>1</td>\n",
       "      <td>3</td>\n",
       "    </tr>\n",
       "    <tr>\n",
       "      <th>604734</th>\n",
       "      <td>zyon</td>\n",
       "      <td>2013</td>\n",
       "      <td>1</td>\n",
       "      <td>4</td>\n",
       "    </tr>\n",
       "    <tr>\n",
       "      <th>604735</th>\n",
       "      <td>zyon</td>\n",
       "      <td>2020</td>\n",
       "      <td>1</td>\n",
       "      <td>5</td>\n",
       "    </tr>\n",
       "  </tbody>\n",
       "</table>\n",
       "<p>604736 rows × 4 columns</p>\n",
       "</div>"
      ],
      "text/plain": [
       "              preusuel  annais  sexe  nombre\n",
       "0       _prenoms_rares    1900     1    1250\n",
       "1       _prenoms_rares    1900     2    1727\n",
       "2       _prenoms_rares    1901     1    1342\n",
       "3       _prenoms_rares    1901     2    1774\n",
       "4       _prenoms_rares    1902     1    1330\n",
       "...                ...     ...   ...     ...\n",
       "604731           zyneb    2020     2       8\n",
       "604732            zyon    2001     1       4\n",
       "604733            zyon    2010     1       3\n",
       "604734            zyon    2013     1       4\n",
       "604735            zyon    2020     1       5\n",
       "\n",
       "[604736 rows x 4 columns]"
      ]
     },
     "execution_count": 26,
     "metadata": {},
     "output_type": "execute_result"
    }
   ],
   "source": [
    "df_gb_1 = df_nat.groupby(['preusuel', 'annais', 'sexe']).agg(nombre=('nombre', sum)).reset_index()\n",
    "df_gb_1"
   ]
  },
  {
   "cell_type": "markdown",
   "id": "6da15b7f-896d-45f8-911c-06e557e19aa8",
   "metadata": {},
   "source": [
    "Vérification de l'aggrégation"
   ]
  },
  {
   "cell_type": "code",
   "execution_count": 27,
   "id": "de68d1c9-ec98-4ff3-b579-3cc6bcc016f8",
   "metadata": {},
   "outputs": [
    {
     "data": {
      "text/html": [
       "<div>\n",
       "<style scoped>\n",
       "    .dataframe tbody tr th:only-of-type {\n",
       "        vertical-align: middle;\n",
       "    }\n",
       "\n",
       "    .dataframe tbody tr th {\n",
       "        vertical-align: top;\n",
       "    }\n",
       "\n",
       "    .dataframe thead th {\n",
       "        text-align: right;\n",
       "    }\n",
       "</style>\n",
       "<table border=\"1\" class=\"dataframe\">\n",
       "  <thead>\n",
       "    <tr style=\"text-align: right;\">\n",
       "      <th></th>\n",
       "      <th>sexe</th>\n",
       "      <th>preusuel</th>\n",
       "      <th>annais</th>\n",
       "      <th>nombre</th>\n",
       "    </tr>\n",
       "  </thead>\n",
       "  <tbody>\n",
       "    <tr>\n",
       "      <th>324952</th>\n",
       "      <td>2</td>\n",
       "      <td>andréa</td>\n",
       "      <td>1900</td>\n",
       "      <td>402</td>\n",
       "    </tr>\n",
       "    <tr>\n",
       "      <th>324953</th>\n",
       "      <td>2</td>\n",
       "      <td>andréa</td>\n",
       "      <td>1901</td>\n",
       "      <td>478</td>\n",
       "    </tr>\n",
       "    <tr>\n",
       "      <th>324954</th>\n",
       "      <td>2</td>\n",
       "      <td>andréa</td>\n",
       "      <td>1902</td>\n",
       "      <td>492</td>\n",
       "    </tr>\n",
       "    <tr>\n",
       "      <th>22100</th>\n",
       "      <td>1</td>\n",
       "      <td>andréa</td>\n",
       "      <td>1903</td>\n",
       "      <td>3</td>\n",
       "    </tr>\n",
       "    <tr>\n",
       "      <th>324955</th>\n",
       "      <td>2</td>\n",
       "      <td>andréa</td>\n",
       "      <td>1903</td>\n",
       "      <td>486</td>\n",
       "    </tr>\n",
       "    <tr>\n",
       "      <th>...</th>\n",
       "      <td>...</td>\n",
       "      <td>...</td>\n",
       "      <td>...</td>\n",
       "      <td>...</td>\n",
       "    </tr>\n",
       "    <tr>\n",
       "      <th>325071</th>\n",
       "      <td>2</td>\n",
       "      <td>andréa</td>\n",
       "      <td>2019</td>\n",
       "      <td>573</td>\n",
       "    </tr>\n",
       "    <tr>\n",
       "      <th>22098</th>\n",
       "      <td>1</td>\n",
       "      <td>andrea</td>\n",
       "      <td>2020</td>\n",
       "      <td>524</td>\n",
       "    </tr>\n",
       "    <tr>\n",
       "      <th>22179</th>\n",
       "      <td>1</td>\n",
       "      <td>andréa</td>\n",
       "      <td>2020</td>\n",
       "      <td>295</td>\n",
       "    </tr>\n",
       "    <tr>\n",
       "      <th>324950</th>\n",
       "      <td>2</td>\n",
       "      <td>andrea</td>\n",
       "      <td>2020</td>\n",
       "      <td>97</td>\n",
       "    </tr>\n",
       "    <tr>\n",
       "      <th>325072</th>\n",
       "      <td>2</td>\n",
       "      <td>andréa</td>\n",
       "      <td>2020</td>\n",
       "      <td>504</td>\n",
       "    </tr>\n",
       "  </tbody>\n",
       "</table>\n",
       "<p>226 rows × 4 columns</p>\n",
       "</div>"
      ],
      "text/plain": [
       "        sexe preusuel  annais  nombre\n",
       "324952     2   andréa    1900     402\n",
       "324953     2   andréa    1901     478\n",
       "324954     2   andréa    1902     492\n",
       "22100      1   andréa    1903       3\n",
       "324955     2   andréa    1903     486\n",
       "...      ...      ...     ...     ...\n",
       "325071     2   andréa    2019     573\n",
       "22098      1   andrea    2020     524\n",
       "22179      1   andréa    2020     295\n",
       "324950     2   andrea    2020      97\n",
       "325072     2   andréa    2020     504\n",
       "\n",
       "[226 rows x 4 columns]"
      ]
     },
     "execution_count": 27,
     "metadata": {},
     "output_type": "execute_result"
    }
   ],
   "source": [
    "df_raw.preusuel = df_raw.preusuel.apply(lambda x: x.lower())\n",
    "df_raw[df_raw.preusuel.isin(['andrea', 'andréa'])].sort_values(by=['annais', 'sexe'])"
   ]
  },
  {
   "cell_type": "code",
   "execution_count": 28,
   "id": "4cb1ed44-1e4d-47a8-958f-c0e922b35639",
   "metadata": {},
   "outputs": [
    {
     "data": {
      "text/html": [
       "<div>\n",
       "<style scoped>\n",
       "    .dataframe tbody tr th:only-of-type {\n",
       "        vertical-align: middle;\n",
       "    }\n",
       "\n",
       "    .dataframe tbody tr th {\n",
       "        vertical-align: top;\n",
       "    }\n",
       "\n",
       "    .dataframe thead th {\n",
       "        text-align: right;\n",
       "    }\n",
       "</style>\n",
       "<table border=\"1\" class=\"dataframe\">\n",
       "  <thead>\n",
       "    <tr style=\"text-align: right;\">\n",
       "      <th></th>\n",
       "      <th>preusuel</th>\n",
       "      <th>annais</th>\n",
       "      <th>sexe</th>\n",
       "      <th>nombre</th>\n",
       "    </tr>\n",
       "  </thead>\n",
       "  <tbody>\n",
       "    <tr>\n",
       "      <th>38555</th>\n",
       "      <td>andrea</td>\n",
       "      <td>1900</td>\n",
       "      <td>2</td>\n",
       "      <td>402</td>\n",
       "    </tr>\n",
       "    <tr>\n",
       "      <th>38556</th>\n",
       "      <td>andrea</td>\n",
       "      <td>1901</td>\n",
       "      <td>2</td>\n",
       "      <td>478</td>\n",
       "    </tr>\n",
       "    <tr>\n",
       "      <th>38557</th>\n",
       "      <td>andrea</td>\n",
       "      <td>1902</td>\n",
       "      <td>2</td>\n",
       "      <td>492</td>\n",
       "    </tr>\n",
       "    <tr>\n",
       "      <th>38558</th>\n",
       "      <td>andrea</td>\n",
       "      <td>1903</td>\n",
       "      <td>1</td>\n",
       "      <td>3</td>\n",
       "    </tr>\n",
       "    <tr>\n",
       "      <th>38559</th>\n",
       "      <td>andrea</td>\n",
       "      <td>1903</td>\n",
       "      <td>2</td>\n",
       "      <td>486</td>\n",
       "    </tr>\n",
       "    <tr>\n",
       "      <th>...</th>\n",
       "      <td>...</td>\n",
       "      <td>...</td>\n",
       "      <td>...</td>\n",
       "      <td>...</td>\n",
       "    </tr>\n",
       "    <tr>\n",
       "      <th>38751</th>\n",
       "      <td>andrea</td>\n",
       "      <td>2018</td>\n",
       "      <td>2</td>\n",
       "      <td>708</td>\n",
       "    </tr>\n",
       "    <tr>\n",
       "      <th>38752</th>\n",
       "      <td>andrea</td>\n",
       "      <td>2019</td>\n",
       "      <td>1</td>\n",
       "      <td>687</td>\n",
       "    </tr>\n",
       "    <tr>\n",
       "      <th>38753</th>\n",
       "      <td>andrea</td>\n",
       "      <td>2019</td>\n",
       "      <td>2</td>\n",
       "      <td>691</td>\n",
       "    </tr>\n",
       "    <tr>\n",
       "      <th>38754</th>\n",
       "      <td>andrea</td>\n",
       "      <td>2020</td>\n",
       "      <td>1</td>\n",
       "      <td>819</td>\n",
       "    </tr>\n",
       "    <tr>\n",
       "      <th>38755</th>\n",
       "      <td>andrea</td>\n",
       "      <td>2020</td>\n",
       "      <td>2</td>\n",
       "      <td>601</td>\n",
       "    </tr>\n",
       "  </tbody>\n",
       "</table>\n",
       "<p>201 rows × 4 columns</p>\n",
       "</div>"
      ],
      "text/plain": [
       "      preusuel  annais  sexe  nombre\n",
       "38555   andrea    1900     2     402\n",
       "38556   andrea    1901     2     478\n",
       "38557   andrea    1902     2     492\n",
       "38558   andrea    1903     1       3\n",
       "38559   andrea    1903     2     486\n",
       "...        ...     ...   ...     ...\n",
       "38751   andrea    2018     2     708\n",
       "38752   andrea    2019     1     687\n",
       "38753   andrea    2019     2     691\n",
       "38754   andrea    2020     1     819\n",
       "38755   andrea    2020     2     601\n",
       "\n",
       "[201 rows x 4 columns]"
      ]
     },
     "execution_count": 28,
     "metadata": {},
     "output_type": "execute_result"
    }
   ],
   "source": [
    "df_gb_1[df_gb_1.preusuel == 'andrea']"
   ]
  },
  {
   "cell_type": "code",
   "execution_count": 29,
   "id": "61950f1b-aa0e-470b-a3bd-b9168b3c3e29",
   "metadata": {},
   "outputs": [
    {
     "data": {
      "text/plain": [
       "preusuel    object\n",
       "annais       int64\n",
       "sexe         int64\n",
       "nombre       int64\n",
       "dtype: object"
      ]
     },
     "execution_count": 29,
     "metadata": {},
     "output_type": "execute_result"
    }
   ],
   "source": [
    "df_gb_1.dtypes"
   ]
  },
  {
   "cell_type": "markdown",
   "id": "19d1f60f-ce47-4adf-9519-560eb4f9bbdb",
   "metadata": {},
   "source": [
    "# Observation d'un prénom"
   ]
  },
  {
   "cell_type": "code",
   "execution_count": 30,
   "id": "7639442d-8976-45fd-b827-d75fadc966d5",
   "metadata": {},
   "outputs": [
    {
     "data": {
      "application/vnd.plotly.v1+json": {
       "config": {
        "plotlyServerURL": "https://plot.ly"
       },
       "data": [
        {
         "hovertemplate": "annais=%{x}<br>nombre=%{y}<extra></extra>",
         "legendgroup": "",
         "line": {
          "color": "#636efa",
          "dash": "solid"
         },
         "marker": {
          "symbol": "circle"
         },
         "mode": "lines+markers",
         "name": "",
         "orientation": "v",
         "showlegend": false,
         "type": "scatter",
         "x": [
          1903,
          1904,
          1907,
          1908,
          1909,
          1911,
          1914,
          1916,
          1923,
          1926,
          1928,
          1930,
          1931,
          1932,
          1953,
          1954,
          1956,
          1957,
          1958,
          1959,
          1960,
          1961,
          1962,
          1963,
          1964,
          1965,
          1966,
          1967,
          1968,
          1969,
          1971,
          1972,
          1973,
          1974,
          1975,
          1976,
          1977,
          1978,
          1979,
          1980,
          1981,
          1982,
          1983,
          1984,
          1985,
          1986,
          1987,
          1988,
          1989,
          1990,
          1991,
          1992,
          1993,
          1994,
          1995,
          1996,
          1997,
          1998,
          1999,
          2000,
          2001,
          2002,
          2003,
          2004,
          2005,
          2006,
          2007,
          2008,
          2009,
          2010,
          2011,
          2012,
          2013,
          2014,
          2015,
          2016,
          2017,
          2018,
          2019,
          2020
         ],
         "xaxis": "x",
         "y": [
          3,
          4,
          3,
          4,
          5,
          6,
          4,
          3,
          4,
          3,
          3,
          5,
          3,
          3,
          4,
          3,
          3,
          4,
          6,
          9,
          6,
          8,
          6,
          7,
          8,
          14,
          5,
          14,
          14,
          6,
          8,
          6,
          9,
          7,
          4,
          11,
          5,
          5,
          4,
          4,
          5,
          3,
          5,
          16,
          28,
          35,
          49,
          53,
          73,
          59,
          130,
          105,
          117,
          138,
          102,
          95,
          147,
          221,
          176,
          153,
          146,
          152,
          207,
          226,
          309,
          327,
          336,
          370,
          336,
          330,
          294,
          370,
          490,
          451,
          494,
          485,
          551,
          644,
          687,
          819
         ],
         "yaxis": "y"
        }
       ],
       "layout": {
        "legend": {
         "tracegroupgap": 0
        },
        "margin": {
         "t": 60
        },
        "template": {
         "data": {
          "bar": [
           {
            "error_x": {
             "color": "#2a3f5f"
            },
            "error_y": {
             "color": "#2a3f5f"
            },
            "marker": {
             "line": {
              "color": "#E5ECF6",
              "width": 0.5
             },
             "pattern": {
              "fillmode": "overlay",
              "size": 10,
              "solidity": 0.2
             }
            },
            "type": "bar"
           }
          ],
          "barpolar": [
           {
            "marker": {
             "line": {
              "color": "#E5ECF6",
              "width": 0.5
             },
             "pattern": {
              "fillmode": "overlay",
              "size": 10,
              "solidity": 0.2
             }
            },
            "type": "barpolar"
           }
          ],
          "carpet": [
           {
            "aaxis": {
             "endlinecolor": "#2a3f5f",
             "gridcolor": "white",
             "linecolor": "white",
             "minorgridcolor": "white",
             "startlinecolor": "#2a3f5f"
            },
            "baxis": {
             "endlinecolor": "#2a3f5f",
             "gridcolor": "white",
             "linecolor": "white",
             "minorgridcolor": "white",
             "startlinecolor": "#2a3f5f"
            },
            "type": "carpet"
           }
          ],
          "choropleth": [
           {
            "colorbar": {
             "outlinewidth": 0,
             "ticks": ""
            },
            "type": "choropleth"
           }
          ],
          "contour": [
           {
            "colorbar": {
             "outlinewidth": 0,
             "ticks": ""
            },
            "colorscale": [
             [
              0,
              "#0d0887"
             ],
             [
              0.1111111111111111,
              "#46039f"
             ],
             [
              0.2222222222222222,
              "#7201a8"
             ],
             [
              0.3333333333333333,
              "#9c179e"
             ],
             [
              0.4444444444444444,
              "#bd3786"
             ],
             [
              0.5555555555555556,
              "#d8576b"
             ],
             [
              0.6666666666666666,
              "#ed7953"
             ],
             [
              0.7777777777777778,
              "#fb9f3a"
             ],
             [
              0.8888888888888888,
              "#fdca26"
             ],
             [
              1,
              "#f0f921"
             ]
            ],
            "type": "contour"
           }
          ],
          "contourcarpet": [
           {
            "colorbar": {
             "outlinewidth": 0,
             "ticks": ""
            },
            "type": "contourcarpet"
           }
          ],
          "heatmap": [
           {
            "colorbar": {
             "outlinewidth": 0,
             "ticks": ""
            },
            "colorscale": [
             [
              0,
              "#0d0887"
             ],
             [
              0.1111111111111111,
              "#46039f"
             ],
             [
              0.2222222222222222,
              "#7201a8"
             ],
             [
              0.3333333333333333,
              "#9c179e"
             ],
             [
              0.4444444444444444,
              "#bd3786"
             ],
             [
              0.5555555555555556,
              "#d8576b"
             ],
             [
              0.6666666666666666,
              "#ed7953"
             ],
             [
              0.7777777777777778,
              "#fb9f3a"
             ],
             [
              0.8888888888888888,
              "#fdca26"
             ],
             [
              1,
              "#f0f921"
             ]
            ],
            "type": "heatmap"
           }
          ],
          "heatmapgl": [
           {
            "colorbar": {
             "outlinewidth": 0,
             "ticks": ""
            },
            "colorscale": [
             [
              0,
              "#0d0887"
             ],
             [
              0.1111111111111111,
              "#46039f"
             ],
             [
              0.2222222222222222,
              "#7201a8"
             ],
             [
              0.3333333333333333,
              "#9c179e"
             ],
             [
              0.4444444444444444,
              "#bd3786"
             ],
             [
              0.5555555555555556,
              "#d8576b"
             ],
             [
              0.6666666666666666,
              "#ed7953"
             ],
             [
              0.7777777777777778,
              "#fb9f3a"
             ],
             [
              0.8888888888888888,
              "#fdca26"
             ],
             [
              1,
              "#f0f921"
             ]
            ],
            "type": "heatmapgl"
           }
          ],
          "histogram": [
           {
            "marker": {
             "pattern": {
              "fillmode": "overlay",
              "size": 10,
              "solidity": 0.2
             }
            },
            "type": "histogram"
           }
          ],
          "histogram2d": [
           {
            "colorbar": {
             "outlinewidth": 0,
             "ticks": ""
            },
            "colorscale": [
             [
              0,
              "#0d0887"
             ],
             [
              0.1111111111111111,
              "#46039f"
             ],
             [
              0.2222222222222222,
              "#7201a8"
             ],
             [
              0.3333333333333333,
              "#9c179e"
             ],
             [
              0.4444444444444444,
              "#bd3786"
             ],
             [
              0.5555555555555556,
              "#d8576b"
             ],
             [
              0.6666666666666666,
              "#ed7953"
             ],
             [
              0.7777777777777778,
              "#fb9f3a"
             ],
             [
              0.8888888888888888,
              "#fdca26"
             ],
             [
              1,
              "#f0f921"
             ]
            ],
            "type": "histogram2d"
           }
          ],
          "histogram2dcontour": [
           {
            "colorbar": {
             "outlinewidth": 0,
             "ticks": ""
            },
            "colorscale": [
             [
              0,
              "#0d0887"
             ],
             [
              0.1111111111111111,
              "#46039f"
             ],
             [
              0.2222222222222222,
              "#7201a8"
             ],
             [
              0.3333333333333333,
              "#9c179e"
             ],
             [
              0.4444444444444444,
              "#bd3786"
             ],
             [
              0.5555555555555556,
              "#d8576b"
             ],
             [
              0.6666666666666666,
              "#ed7953"
             ],
             [
              0.7777777777777778,
              "#fb9f3a"
             ],
             [
              0.8888888888888888,
              "#fdca26"
             ],
             [
              1,
              "#f0f921"
             ]
            ],
            "type": "histogram2dcontour"
           }
          ],
          "mesh3d": [
           {
            "colorbar": {
             "outlinewidth": 0,
             "ticks": ""
            },
            "type": "mesh3d"
           }
          ],
          "parcoords": [
           {
            "line": {
             "colorbar": {
              "outlinewidth": 0,
              "ticks": ""
             }
            },
            "type": "parcoords"
           }
          ],
          "pie": [
           {
            "automargin": true,
            "type": "pie"
           }
          ],
          "scatter": [
           {
            "marker": {
             "colorbar": {
              "outlinewidth": 0,
              "ticks": ""
             }
            },
            "type": "scatter"
           }
          ],
          "scatter3d": [
           {
            "line": {
             "colorbar": {
              "outlinewidth": 0,
              "ticks": ""
             }
            },
            "marker": {
             "colorbar": {
              "outlinewidth": 0,
              "ticks": ""
             }
            },
            "type": "scatter3d"
           }
          ],
          "scattercarpet": [
           {
            "marker": {
             "colorbar": {
              "outlinewidth": 0,
              "ticks": ""
             }
            },
            "type": "scattercarpet"
           }
          ],
          "scattergeo": [
           {
            "marker": {
             "colorbar": {
              "outlinewidth": 0,
              "ticks": ""
             }
            },
            "type": "scattergeo"
           }
          ],
          "scattergl": [
           {
            "marker": {
             "colorbar": {
              "outlinewidth": 0,
              "ticks": ""
             }
            },
            "type": "scattergl"
           }
          ],
          "scattermapbox": [
           {
            "marker": {
             "colorbar": {
              "outlinewidth": 0,
              "ticks": ""
             }
            },
            "type": "scattermapbox"
           }
          ],
          "scatterpolar": [
           {
            "marker": {
             "colorbar": {
              "outlinewidth": 0,
              "ticks": ""
             }
            },
            "type": "scatterpolar"
           }
          ],
          "scatterpolargl": [
           {
            "marker": {
             "colorbar": {
              "outlinewidth": 0,
              "ticks": ""
             }
            },
            "type": "scatterpolargl"
           }
          ],
          "scatterternary": [
           {
            "marker": {
             "colorbar": {
              "outlinewidth": 0,
              "ticks": ""
             }
            },
            "type": "scatterternary"
           }
          ],
          "surface": [
           {
            "colorbar": {
             "outlinewidth": 0,
             "ticks": ""
            },
            "colorscale": [
             [
              0,
              "#0d0887"
             ],
             [
              0.1111111111111111,
              "#46039f"
             ],
             [
              0.2222222222222222,
              "#7201a8"
             ],
             [
              0.3333333333333333,
              "#9c179e"
             ],
             [
              0.4444444444444444,
              "#bd3786"
             ],
             [
              0.5555555555555556,
              "#d8576b"
             ],
             [
              0.6666666666666666,
              "#ed7953"
             ],
             [
              0.7777777777777778,
              "#fb9f3a"
             ],
             [
              0.8888888888888888,
              "#fdca26"
             ],
             [
              1,
              "#f0f921"
             ]
            ],
            "type": "surface"
           }
          ],
          "table": [
           {
            "cells": {
             "fill": {
              "color": "#EBF0F8"
             },
             "line": {
              "color": "white"
             }
            },
            "header": {
             "fill": {
              "color": "#C8D4E3"
             },
             "line": {
              "color": "white"
             }
            },
            "type": "table"
           }
          ]
         },
         "layout": {
          "annotationdefaults": {
           "arrowcolor": "#2a3f5f",
           "arrowhead": 0,
           "arrowwidth": 1
          },
          "autotypenumbers": "strict",
          "coloraxis": {
           "colorbar": {
            "outlinewidth": 0,
            "ticks": ""
           }
          },
          "colorscale": {
           "diverging": [
            [
             0,
             "#8e0152"
            ],
            [
             0.1,
             "#c51b7d"
            ],
            [
             0.2,
             "#de77ae"
            ],
            [
             0.3,
             "#f1b6da"
            ],
            [
             0.4,
             "#fde0ef"
            ],
            [
             0.5,
             "#f7f7f7"
            ],
            [
             0.6,
             "#e6f5d0"
            ],
            [
             0.7,
             "#b8e186"
            ],
            [
             0.8,
             "#7fbc41"
            ],
            [
             0.9,
             "#4d9221"
            ],
            [
             1,
             "#276419"
            ]
           ],
           "sequential": [
            [
             0,
             "#0d0887"
            ],
            [
             0.1111111111111111,
             "#46039f"
            ],
            [
             0.2222222222222222,
             "#7201a8"
            ],
            [
             0.3333333333333333,
             "#9c179e"
            ],
            [
             0.4444444444444444,
             "#bd3786"
            ],
            [
             0.5555555555555556,
             "#d8576b"
            ],
            [
             0.6666666666666666,
             "#ed7953"
            ],
            [
             0.7777777777777778,
             "#fb9f3a"
            ],
            [
             0.8888888888888888,
             "#fdca26"
            ],
            [
             1,
             "#f0f921"
            ]
           ],
           "sequentialminus": [
            [
             0,
             "#0d0887"
            ],
            [
             0.1111111111111111,
             "#46039f"
            ],
            [
             0.2222222222222222,
             "#7201a8"
            ],
            [
             0.3333333333333333,
             "#9c179e"
            ],
            [
             0.4444444444444444,
             "#bd3786"
            ],
            [
             0.5555555555555556,
             "#d8576b"
            ],
            [
             0.6666666666666666,
             "#ed7953"
            ],
            [
             0.7777777777777778,
             "#fb9f3a"
            ],
            [
             0.8888888888888888,
             "#fdca26"
            ],
            [
             1,
             "#f0f921"
            ]
           ]
          },
          "colorway": [
           "#636efa",
           "#EF553B",
           "#00cc96",
           "#ab63fa",
           "#FFA15A",
           "#19d3f3",
           "#FF6692",
           "#B6E880",
           "#FF97FF",
           "#FECB52"
          ],
          "font": {
           "color": "#2a3f5f"
          },
          "geo": {
           "bgcolor": "white",
           "lakecolor": "white",
           "landcolor": "#E5ECF6",
           "showlakes": true,
           "showland": true,
           "subunitcolor": "white"
          },
          "hoverlabel": {
           "align": "left"
          },
          "hovermode": "closest",
          "mapbox": {
           "style": "light"
          },
          "paper_bgcolor": "white",
          "plot_bgcolor": "#E5ECF6",
          "polar": {
           "angularaxis": {
            "gridcolor": "white",
            "linecolor": "white",
            "ticks": ""
           },
           "bgcolor": "#E5ECF6",
           "radialaxis": {
            "gridcolor": "white",
            "linecolor": "white",
            "ticks": ""
           }
          },
          "scene": {
           "xaxis": {
            "backgroundcolor": "#E5ECF6",
            "gridcolor": "white",
            "gridwidth": 2,
            "linecolor": "white",
            "showbackground": true,
            "ticks": "",
            "zerolinecolor": "white"
           },
           "yaxis": {
            "backgroundcolor": "#E5ECF6",
            "gridcolor": "white",
            "gridwidth": 2,
            "linecolor": "white",
            "showbackground": true,
            "ticks": "",
            "zerolinecolor": "white"
           },
           "zaxis": {
            "backgroundcolor": "#E5ECF6",
            "gridcolor": "white",
            "gridwidth": 2,
            "linecolor": "white",
            "showbackground": true,
            "ticks": "",
            "zerolinecolor": "white"
           }
          },
          "shapedefaults": {
           "line": {
            "color": "#2a3f5f"
           }
          },
          "ternary": {
           "aaxis": {
            "gridcolor": "white",
            "linecolor": "white",
            "ticks": ""
           },
           "baxis": {
            "gridcolor": "white",
            "linecolor": "white",
            "ticks": ""
           },
           "bgcolor": "#E5ECF6",
           "caxis": {
            "gridcolor": "white",
            "linecolor": "white",
            "ticks": ""
           }
          },
          "title": {
           "x": 0.05
          },
          "xaxis": {
           "automargin": true,
           "gridcolor": "white",
           "linecolor": "white",
           "ticks": "",
           "title": {
            "standoff": 15
           },
           "zerolinecolor": "white",
           "zerolinewidth": 2
          },
          "yaxis": {
           "automargin": true,
           "gridcolor": "white",
           "linecolor": "white",
           "ticks": "",
           "title": {
            "standoff": 15
           },
           "zerolinecolor": "white",
           "zerolinewidth": 2
          }
         }
        },
        "xaxis": {
         "anchor": "y",
         "domain": [
          0,
          1
         ],
         "title": {
          "text": "annais"
         }
        },
        "yaxis": {
         "anchor": "x",
         "domain": [
          0,
          1
         ],
         "title": {
          "text": "nombre"
         }
        }
       }
      },
      "text/html": [
       "<div>                            <div id=\"3e1681bd-357c-4080-a88f-815bfbf273f4\" class=\"plotly-graph-div\" style=\"height:525px; width:100%;\"></div>            <script type=\"text/javascript\">                require([\"plotly\"], function(Plotly) {                    window.PLOTLYENV=window.PLOTLYENV || {};                                    if (document.getElementById(\"3e1681bd-357c-4080-a88f-815bfbf273f4\")) {                    Plotly.newPlot(                        \"3e1681bd-357c-4080-a88f-815bfbf273f4\",                        [{\"hovertemplate\":\"annais=%{x}<br>nombre=%{y}<extra></extra>\",\"legendgroup\":\"\",\"line\":{\"color\":\"#636efa\",\"dash\":\"solid\"},\"marker\":{\"symbol\":\"circle\"},\"mode\":\"lines+markers\",\"name\":\"\",\"orientation\":\"v\",\"showlegend\":false,\"x\":[1903,1904,1907,1908,1909,1911,1914,1916,1923,1926,1928,1930,1931,1932,1953,1954,1956,1957,1958,1959,1960,1961,1962,1963,1964,1965,1966,1967,1968,1969,1971,1972,1973,1974,1975,1976,1977,1978,1979,1980,1981,1982,1983,1984,1985,1986,1987,1988,1989,1990,1991,1992,1993,1994,1995,1996,1997,1998,1999,2000,2001,2002,2003,2004,2005,2006,2007,2008,2009,2010,2011,2012,2013,2014,2015,2016,2017,2018,2019,2020],\"xaxis\":\"x\",\"y\":[3,4,3,4,5,6,4,3,4,3,3,5,3,3,4,3,3,4,6,9,6,8,6,7,8,14,5,14,14,6,8,6,9,7,4,11,5,5,4,4,5,3,5,16,28,35,49,53,73,59,130,105,117,138,102,95,147,221,176,153,146,152,207,226,309,327,336,370,336,330,294,370,490,451,494,485,551,644,687,819],\"yaxis\":\"y\",\"type\":\"scatter\"}],                        {\"template\":{\"data\":{\"bar\":[{\"error_x\":{\"color\":\"#2a3f5f\"},\"error_y\":{\"color\":\"#2a3f5f\"},\"marker\":{\"line\":{\"color\":\"#E5ECF6\",\"width\":0.5},\"pattern\":{\"fillmode\":\"overlay\",\"size\":10,\"solidity\":0.2}},\"type\":\"bar\"}],\"barpolar\":[{\"marker\":{\"line\":{\"color\":\"#E5ECF6\",\"width\":0.5},\"pattern\":{\"fillmode\":\"overlay\",\"size\":10,\"solidity\":0.2}},\"type\":\"barpolar\"}],\"carpet\":[{\"aaxis\":{\"endlinecolor\":\"#2a3f5f\",\"gridcolor\":\"white\",\"linecolor\":\"white\",\"minorgridcolor\":\"white\",\"startlinecolor\":\"#2a3f5f\"},\"baxis\":{\"endlinecolor\":\"#2a3f5f\",\"gridcolor\":\"white\",\"linecolor\":\"white\",\"minorgridcolor\":\"white\",\"startlinecolor\":\"#2a3f5f\"},\"type\":\"carpet\"}],\"choropleth\":[{\"colorbar\":{\"outlinewidth\":0,\"ticks\":\"\"},\"type\":\"choropleth\"}],\"contour\":[{\"colorbar\":{\"outlinewidth\":0,\"ticks\":\"\"},\"colorscale\":[[0.0,\"#0d0887\"],[0.1111111111111111,\"#46039f\"],[0.2222222222222222,\"#7201a8\"],[0.3333333333333333,\"#9c179e\"],[0.4444444444444444,\"#bd3786\"],[0.5555555555555556,\"#d8576b\"],[0.6666666666666666,\"#ed7953\"],[0.7777777777777778,\"#fb9f3a\"],[0.8888888888888888,\"#fdca26\"],[1.0,\"#f0f921\"]],\"type\":\"contour\"}],\"contourcarpet\":[{\"colorbar\":{\"outlinewidth\":0,\"ticks\":\"\"},\"type\":\"contourcarpet\"}],\"heatmap\":[{\"colorbar\":{\"outlinewidth\":0,\"ticks\":\"\"},\"colorscale\":[[0.0,\"#0d0887\"],[0.1111111111111111,\"#46039f\"],[0.2222222222222222,\"#7201a8\"],[0.3333333333333333,\"#9c179e\"],[0.4444444444444444,\"#bd3786\"],[0.5555555555555556,\"#d8576b\"],[0.6666666666666666,\"#ed7953\"],[0.7777777777777778,\"#fb9f3a\"],[0.8888888888888888,\"#fdca26\"],[1.0,\"#f0f921\"]],\"type\":\"heatmap\"}],\"heatmapgl\":[{\"colorbar\":{\"outlinewidth\":0,\"ticks\":\"\"},\"colorscale\":[[0.0,\"#0d0887\"],[0.1111111111111111,\"#46039f\"],[0.2222222222222222,\"#7201a8\"],[0.3333333333333333,\"#9c179e\"],[0.4444444444444444,\"#bd3786\"],[0.5555555555555556,\"#d8576b\"],[0.6666666666666666,\"#ed7953\"],[0.7777777777777778,\"#fb9f3a\"],[0.8888888888888888,\"#fdca26\"],[1.0,\"#f0f921\"]],\"type\":\"heatmapgl\"}],\"histogram\":[{\"marker\":{\"pattern\":{\"fillmode\":\"overlay\",\"size\":10,\"solidity\":0.2}},\"type\":\"histogram\"}],\"histogram2d\":[{\"colorbar\":{\"outlinewidth\":0,\"ticks\":\"\"},\"colorscale\":[[0.0,\"#0d0887\"],[0.1111111111111111,\"#46039f\"],[0.2222222222222222,\"#7201a8\"],[0.3333333333333333,\"#9c179e\"],[0.4444444444444444,\"#bd3786\"],[0.5555555555555556,\"#d8576b\"],[0.6666666666666666,\"#ed7953\"],[0.7777777777777778,\"#fb9f3a\"],[0.8888888888888888,\"#fdca26\"],[1.0,\"#f0f921\"]],\"type\":\"histogram2d\"}],\"histogram2dcontour\":[{\"colorbar\":{\"outlinewidth\":0,\"ticks\":\"\"},\"colorscale\":[[0.0,\"#0d0887\"],[0.1111111111111111,\"#46039f\"],[0.2222222222222222,\"#7201a8\"],[0.3333333333333333,\"#9c179e\"],[0.4444444444444444,\"#bd3786\"],[0.5555555555555556,\"#d8576b\"],[0.6666666666666666,\"#ed7953\"],[0.7777777777777778,\"#fb9f3a\"],[0.8888888888888888,\"#fdca26\"],[1.0,\"#f0f921\"]],\"type\":\"histogram2dcontour\"}],\"mesh3d\":[{\"colorbar\":{\"outlinewidth\":0,\"ticks\":\"\"},\"type\":\"mesh3d\"}],\"parcoords\":[{\"line\":{\"colorbar\":{\"outlinewidth\":0,\"ticks\":\"\"}},\"type\":\"parcoords\"}],\"pie\":[{\"automargin\":true,\"type\":\"pie\"}],\"scatter\":[{\"marker\":{\"colorbar\":{\"outlinewidth\":0,\"ticks\":\"\"}},\"type\":\"scatter\"}],\"scatter3d\":[{\"line\":{\"colorbar\":{\"outlinewidth\":0,\"ticks\":\"\"}},\"marker\":{\"colorbar\":{\"outlinewidth\":0,\"ticks\":\"\"}},\"type\":\"scatter3d\"}],\"scattercarpet\":[{\"marker\":{\"colorbar\":{\"outlinewidth\":0,\"ticks\":\"\"}},\"type\":\"scattercarpet\"}],\"scattergeo\":[{\"marker\":{\"colorbar\":{\"outlinewidth\":0,\"ticks\":\"\"}},\"type\":\"scattergeo\"}],\"scattergl\":[{\"marker\":{\"colorbar\":{\"outlinewidth\":0,\"ticks\":\"\"}},\"type\":\"scattergl\"}],\"scattermapbox\":[{\"marker\":{\"colorbar\":{\"outlinewidth\":0,\"ticks\":\"\"}},\"type\":\"scattermapbox\"}],\"scatterpolar\":[{\"marker\":{\"colorbar\":{\"outlinewidth\":0,\"ticks\":\"\"}},\"type\":\"scatterpolar\"}],\"scatterpolargl\":[{\"marker\":{\"colorbar\":{\"outlinewidth\":0,\"ticks\":\"\"}},\"type\":\"scatterpolargl\"}],\"scatterternary\":[{\"marker\":{\"colorbar\":{\"outlinewidth\":0,\"ticks\":\"\"}},\"type\":\"scatterternary\"}],\"surface\":[{\"colorbar\":{\"outlinewidth\":0,\"ticks\":\"\"},\"colorscale\":[[0.0,\"#0d0887\"],[0.1111111111111111,\"#46039f\"],[0.2222222222222222,\"#7201a8\"],[0.3333333333333333,\"#9c179e\"],[0.4444444444444444,\"#bd3786\"],[0.5555555555555556,\"#d8576b\"],[0.6666666666666666,\"#ed7953\"],[0.7777777777777778,\"#fb9f3a\"],[0.8888888888888888,\"#fdca26\"],[1.0,\"#f0f921\"]],\"type\":\"surface\"}],\"table\":[{\"cells\":{\"fill\":{\"color\":\"#EBF0F8\"},\"line\":{\"color\":\"white\"}},\"header\":{\"fill\":{\"color\":\"#C8D4E3\"},\"line\":{\"color\":\"white\"}},\"type\":\"table\"}]},\"layout\":{\"annotationdefaults\":{\"arrowcolor\":\"#2a3f5f\",\"arrowhead\":0,\"arrowwidth\":1},\"autotypenumbers\":\"strict\",\"coloraxis\":{\"colorbar\":{\"outlinewidth\":0,\"ticks\":\"\"}},\"colorscale\":{\"diverging\":[[0,\"#8e0152\"],[0.1,\"#c51b7d\"],[0.2,\"#de77ae\"],[0.3,\"#f1b6da\"],[0.4,\"#fde0ef\"],[0.5,\"#f7f7f7\"],[0.6,\"#e6f5d0\"],[0.7,\"#b8e186\"],[0.8,\"#7fbc41\"],[0.9,\"#4d9221\"],[1,\"#276419\"]],\"sequential\":[[0.0,\"#0d0887\"],[0.1111111111111111,\"#46039f\"],[0.2222222222222222,\"#7201a8\"],[0.3333333333333333,\"#9c179e\"],[0.4444444444444444,\"#bd3786\"],[0.5555555555555556,\"#d8576b\"],[0.6666666666666666,\"#ed7953\"],[0.7777777777777778,\"#fb9f3a\"],[0.8888888888888888,\"#fdca26\"],[1.0,\"#f0f921\"]],\"sequentialminus\":[[0.0,\"#0d0887\"],[0.1111111111111111,\"#46039f\"],[0.2222222222222222,\"#7201a8\"],[0.3333333333333333,\"#9c179e\"],[0.4444444444444444,\"#bd3786\"],[0.5555555555555556,\"#d8576b\"],[0.6666666666666666,\"#ed7953\"],[0.7777777777777778,\"#fb9f3a\"],[0.8888888888888888,\"#fdca26\"],[1.0,\"#f0f921\"]]},\"colorway\":[\"#636efa\",\"#EF553B\",\"#00cc96\",\"#ab63fa\",\"#FFA15A\",\"#19d3f3\",\"#FF6692\",\"#B6E880\",\"#FF97FF\",\"#FECB52\"],\"font\":{\"color\":\"#2a3f5f\"},\"geo\":{\"bgcolor\":\"white\",\"lakecolor\":\"white\",\"landcolor\":\"#E5ECF6\",\"showlakes\":true,\"showland\":true,\"subunitcolor\":\"white\"},\"hoverlabel\":{\"align\":\"left\"},\"hovermode\":\"closest\",\"mapbox\":{\"style\":\"light\"},\"paper_bgcolor\":\"white\",\"plot_bgcolor\":\"#E5ECF6\",\"polar\":{\"angularaxis\":{\"gridcolor\":\"white\",\"linecolor\":\"white\",\"ticks\":\"\"},\"bgcolor\":\"#E5ECF6\",\"radialaxis\":{\"gridcolor\":\"white\",\"linecolor\":\"white\",\"ticks\":\"\"}},\"scene\":{\"xaxis\":{\"backgroundcolor\":\"#E5ECF6\",\"gridcolor\":\"white\",\"gridwidth\":2,\"linecolor\":\"white\",\"showbackground\":true,\"ticks\":\"\",\"zerolinecolor\":\"white\"},\"yaxis\":{\"backgroundcolor\":\"#E5ECF6\",\"gridcolor\":\"white\",\"gridwidth\":2,\"linecolor\":\"white\",\"showbackground\":true,\"ticks\":\"\",\"zerolinecolor\":\"white\"},\"zaxis\":{\"backgroundcolor\":\"#E5ECF6\",\"gridcolor\":\"white\",\"gridwidth\":2,\"linecolor\":\"white\",\"showbackground\":true,\"ticks\":\"\",\"zerolinecolor\":\"white\"}},\"shapedefaults\":{\"line\":{\"color\":\"#2a3f5f\"}},\"ternary\":{\"aaxis\":{\"gridcolor\":\"white\",\"linecolor\":\"white\",\"ticks\":\"\"},\"baxis\":{\"gridcolor\":\"white\",\"linecolor\":\"white\",\"ticks\":\"\"},\"bgcolor\":\"#E5ECF6\",\"caxis\":{\"gridcolor\":\"white\",\"linecolor\":\"white\",\"ticks\":\"\"}},\"title\":{\"x\":0.05},\"xaxis\":{\"automargin\":true,\"gridcolor\":\"white\",\"linecolor\":\"white\",\"ticks\":\"\",\"title\":{\"standoff\":15},\"zerolinecolor\":\"white\",\"zerolinewidth\":2},\"yaxis\":{\"automargin\":true,\"gridcolor\":\"white\",\"linecolor\":\"white\",\"ticks\":\"\",\"title\":{\"standoff\":15},\"zerolinecolor\":\"white\",\"zerolinewidth\":2}}},\"xaxis\":{\"anchor\":\"y\",\"domain\":[0.0,1.0],\"title\":{\"text\":\"annais\"}},\"yaxis\":{\"anchor\":\"x\",\"domain\":[0.0,1.0],\"title\":{\"text\":\"nombre\"}},\"legend\":{\"tracegroupgap\":0},\"margin\":{\"t\":60}},                        {\"responsive\": true}                    ).then(function(){\n",
       "                            \n",
       "var gd = document.getElementById('3e1681bd-357c-4080-a88f-815bfbf273f4');\n",
       "var x = new MutationObserver(function (mutations, observer) {{\n",
       "        var display = window.getComputedStyle(gd).display;\n",
       "        if (!display || display === 'none') {{\n",
       "            console.log([gd, 'removed!']);\n",
       "            Plotly.purge(gd);\n",
       "            observer.disconnect();\n",
       "        }}\n",
       "}});\n",
       "\n",
       "// Listen for the removal of the full notebook cells\n",
       "var notebookContainer = gd.closest('#notebook-container');\n",
       "if (notebookContainer) {{\n",
       "    x.observe(notebookContainer, {childList: true});\n",
       "}}\n",
       "\n",
       "// Listen for the clearing of the current output cell\n",
       "var outputEl = gd.closest('.output');\n",
       "if (outputEl) {{\n",
       "    x.observe(outputEl, {childList: true});\n",
       "}}\n",
       "\n",
       "                        })                };                });            </script>        </div>"
      ]
     },
     "metadata": {},
     "output_type": "display_data"
    }
   ],
   "source": [
    "sexe = 1\n",
    "prenom = 'andrea'\n",
    "df_prenom = df_gb_1[(df_gb_1.preusuel == prenom) & (df_gb_1.sexe == sexe)]\n",
    "px.line(df_prenom, x='annais', y='nombre', markers=True)"
   ]
  },
  {
   "cell_type": "code",
   "execution_count": 31,
   "id": "279c34c0-f21a-4857-8d28-072ffa530aab",
   "metadata": {},
   "outputs": [
    {
     "data": {
      "text/plain": [
       "129         aadam\n",
       "168         aahil\n",
       "177         aarav\n",
       "235         aaron\n",
       "254        aarone\n",
       "           ...   \n",
       "667296      zumra\n",
       "667314    zuzanna\n",
       "667335        zya\n",
       "667345       zyna\n",
       "667362      zyneb\n",
       "Name: preusuel, Length: 13078, dtype: object"
      ]
     },
     "execution_count": 31,
     "metadata": {},
     "output_type": "execute_result"
    }
   ],
   "source": [
    "seuil = 5000\n",
    "annee = 2020\n",
    "df_nat[(df_nat.annais == annee) & (df_nat.nombre <= seuil)].preusuel"
   ]
  },
  {
   "cell_type": "code",
   "execution_count": 32,
   "id": "fd5ff14f-7135-4cdd-9a98-0f5826628f6a",
   "metadata": {},
   "outputs": [
    {
     "data": {
      "text/html": [
       "<div>\n",
       "<style scoped>\n",
       "    .dataframe tbody tr th:only-of-type {\n",
       "        vertical-align: middle;\n",
       "    }\n",
       "\n",
       "    .dataframe tbody tr th {\n",
       "        vertical-align: top;\n",
       "    }\n",
       "\n",
       "    .dataframe thead th {\n",
       "        text-align: right;\n",
       "    }\n",
       "</style>\n",
       "<table border=\"1\" class=\"dataframe\">\n",
       "  <thead>\n",
       "    <tr style=\"text-align: right;\">\n",
       "      <th></th>\n",
       "      <th>sexe</th>\n",
       "      <th>preusuel</th>\n",
       "      <th>annais</th>\n",
       "      <th>nombre</th>\n",
       "    </tr>\n",
       "  </thead>\n",
       "  <tbody>\n",
       "    <tr>\n",
       "      <th>574959</th>\n",
       "      <td>2</td>\n",
       "      <td>neylla</td>\n",
       "      <td>2020</td>\n",
       "      <td>3</td>\n",
       "    </tr>\n",
       "    <tr>\n",
       "      <th>642010</th>\n",
       "      <td>2</td>\n",
       "      <td>taous</td>\n",
       "      <td>2020</td>\n",
       "      <td>3</td>\n",
       "    </tr>\n",
       "    <tr>\n",
       "      <th>469776</th>\n",
       "      <td>2</td>\n",
       "      <td>kaori</td>\n",
       "      <td>2020</td>\n",
       "      <td>3</td>\n",
       "    </tr>\n",
       "    <tr>\n",
       "      <th>92300</th>\n",
       "      <td>1</td>\n",
       "      <td>fily</td>\n",
       "      <td>2020</td>\n",
       "      <td>3</td>\n",
       "    </tr>\n",
       "    <tr>\n",
       "      <th>92309</th>\n",
       "      <td>1</td>\n",
       "      <td>finlay</td>\n",
       "      <td>2020</td>\n",
       "      <td>3</td>\n",
       "    </tr>\n",
       "    <tr>\n",
       "      <th>...</th>\n",
       "      <td>...</td>\n",
       "      <td>...</td>\n",
       "      <td>...</td>\n",
       "      <td>...</td>\n",
       "    </tr>\n",
       "    <tr>\n",
       "      <th>237467</th>\n",
       "      <td>1</td>\n",
       "      <td>raphael</td>\n",
       "      <td>2020</td>\n",
       "      <td>3970</td>\n",
       "    </tr>\n",
       "    <tr>\n",
       "      <th>98655</th>\n",
       "      <td>1</td>\n",
       "      <td>gabriel</td>\n",
       "      <td>2020</td>\n",
       "      <td>4415</td>\n",
       "    </tr>\n",
       "    <tr>\n",
       "      <th>169840</th>\n",
       "      <td>1</td>\n",
       "      <td>leo</td>\n",
       "      <td>2020</td>\n",
       "      <td>4496</td>\n",
       "    </tr>\n",
       "    <tr>\n",
       "      <th>120</th>\n",
       "      <td>1</td>\n",
       "      <td>_prenoms_rares</td>\n",
       "      <td>2020</td>\n",
       "      <td>26109</td>\n",
       "    </tr>\n",
       "    <tr>\n",
       "      <th>304553</th>\n",
       "      <td>2</td>\n",
       "      <td>_prenoms_rares</td>\n",
       "      <td>2020</td>\n",
       "      <td>27800</td>\n",
       "    </tr>\n",
       "  </tbody>\n",
       "</table>\n",
       "<p>13080 rows × 4 columns</p>\n",
       "</div>"
      ],
      "text/plain": [
       "        sexe        preusuel  annais  nombre\n",
       "574959     2          neylla    2020       3\n",
       "642010     2           taous    2020       3\n",
       "469776     2           kaori    2020       3\n",
       "92300      1            fily    2020       3\n",
       "92309      1          finlay    2020       3\n",
       "...      ...             ...     ...     ...\n",
       "237467     1         raphael    2020    3970\n",
       "98655      1         gabriel    2020    4415\n",
       "169840     1             leo    2020    4496\n",
       "120        1  _prenoms_rares    2020   26109\n",
       "304553     2  _prenoms_rares    2020   27800\n",
       "\n",
       "[13080 rows x 4 columns]"
      ]
     },
     "execution_count": 32,
     "metadata": {},
     "output_type": "execute_result"
    }
   ],
   "source": [
    "seuil = 5000\n",
    "annee = 2020\n",
    "df_nat[df_nat.annais == annee].sort_values(by='nombre')"
   ]
  },
  {
   "cell_type": "code",
   "execution_count": 101,
   "id": "c3b9e2bf",
   "metadata": {},
   "outputs": [
    {
     "data": {
      "text/plain": [
       "56927"
      ]
     },
     "execution_count": 101,
     "metadata": {},
     "output_type": "execute_result"
    }
   ],
   "source": [
    "df_nat[df_nat.preusuel == 'sacha'].nombre.sum()"
   ]
  },
  {
   "cell_type": "code",
   "execution_count": 113,
   "id": "6d623f27",
   "metadata": {},
   "outputs": [
    {
     "data": {
      "text/html": [
       "<div>\n",
       "<style scoped>\n",
       "    .dataframe tbody tr th:only-of-type {\n",
       "        vertical-align: middle;\n",
       "    }\n",
       "\n",
       "    .dataframe tbody tr th {\n",
       "        vertical-align: top;\n",
       "    }\n",
       "\n",
       "    .dataframe thead th {\n",
       "        text-align: right;\n",
       "    }\n",
       "</style>\n",
       "<table border=\"1\" class=\"dataframe\">\n",
       "  <thead>\n",
       "    <tr style=\"text-align: right;\">\n",
       "      <th></th>\n",
       "      <th>sexe</th>\n",
       "      <th>preusuel</th>\n",
       "      <th>annais</th>\n",
       "      <th>nombre</th>\n",
       "    </tr>\n",
       "  </thead>\n",
       "  <tbody>\n",
       "    <tr>\n",
       "      <th>0</th>\n",
       "      <td>1</td>\n",
       "      <td>_prenoms_rares</td>\n",
       "      <td>1900</td>\n",
       "      <td>1250</td>\n",
       "    </tr>\n",
       "    <tr>\n",
       "      <th>1</th>\n",
       "      <td>1</td>\n",
       "      <td>_prenoms_rares</td>\n",
       "      <td>1901</td>\n",
       "      <td>1342</td>\n",
       "    </tr>\n",
       "    <tr>\n",
       "      <th>2</th>\n",
       "      <td>1</td>\n",
       "      <td>_prenoms_rares</td>\n",
       "      <td>1902</td>\n",
       "      <td>1330</td>\n",
       "    </tr>\n",
       "    <tr>\n",
       "      <th>3</th>\n",
       "      <td>1</td>\n",
       "      <td>_prenoms_rares</td>\n",
       "      <td>1903</td>\n",
       "      <td>1286</td>\n",
       "    </tr>\n",
       "    <tr>\n",
       "      <th>4</th>\n",
       "      <td>1</td>\n",
       "      <td>_prenoms_rares</td>\n",
       "      <td>1904</td>\n",
       "      <td>1430</td>\n",
       "    </tr>\n",
       "  </tbody>\n",
       "</table>\n",
       "</div>"
      ],
      "text/plain": [
       "   sexe        preusuel  annais  nombre\n",
       "0     1  _prenoms_rares    1900    1250\n",
       "1     1  _prenoms_rares    1901    1342\n",
       "2     1  _prenoms_rares    1902    1330\n",
       "3     1  _prenoms_rares    1903    1286\n",
       "4     1  _prenoms_rares    1904    1430"
      ]
     },
     "execution_count": 113,
     "metadata": {},
     "output_type": "execute_result"
    }
   ],
   "source": [
    "df_nat.head()"
   ]
  },
  {
   "cell_type": "markdown",
   "id": "d5b6576c-0ca4-405b-8fd1-a759cb5bd183",
   "metadata": {},
   "source": [
    "# Totaux naissances et prénoms"
   ]
  },
  {
   "cell_type": "code",
   "execution_count": 33,
   "id": "ba73a0cd-ff5b-4935-b553-2aa63ca26f80",
   "metadata": {},
   "outputs": [
    {
     "data": {
      "text/html": [
       "<div>\n",
       "<style scoped>\n",
       "    .dataframe tbody tr th:only-of-type {\n",
       "        vertical-align: middle;\n",
       "    }\n",
       "\n",
       "    .dataframe tbody tr th {\n",
       "        vertical-align: top;\n",
       "    }\n",
       "\n",
       "    .dataframe thead th {\n",
       "        text-align: right;\n",
       "    }\n",
       "</style>\n",
       "<table border=\"1\" class=\"dataframe\">\n",
       "  <thead>\n",
       "    <tr style=\"text-align: right;\">\n",
       "      <th></th>\n",
       "      <th>nombre</th>\n",
       "    </tr>\n",
       "    <tr>\n",
       "      <th>annais</th>\n",
       "      <th></th>\n",
       "    </tr>\n",
       "  </thead>\n",
       "  <tbody>\n",
       "    <tr>\n",
       "      <th>2016</th>\n",
       "      <td>760502</td>\n",
       "    </tr>\n",
       "    <tr>\n",
       "      <th>2017</th>\n",
       "      <td>746478</td>\n",
       "    </tr>\n",
       "    <tr>\n",
       "      <th>2018</th>\n",
       "      <td>736262</td>\n",
       "    </tr>\n",
       "    <tr>\n",
       "      <th>2019</th>\n",
       "      <td>731117</td>\n",
       "    </tr>\n",
       "    <tr>\n",
       "      <th>2020</th>\n",
       "      <td>713273</td>\n",
       "    </tr>\n",
       "  </tbody>\n",
       "</table>\n",
       "</div>"
      ],
      "text/plain": [
       "        nombre\n",
       "annais        \n",
       "2016    760502\n",
       "2017    746478\n",
       "2018    736262\n",
       "2019    731117\n",
       "2020    713273"
      ]
     },
     "metadata": {},
     "output_type": "display_data"
    },
    {
     "data": {
      "application/vnd.plotly.v1+json": {
       "config": {
        "plotlyServerURL": "https://plot.ly"
       },
       "data": [
        {
         "alignmentgroup": "True",
         "hovertemplate": "annais=%{x}<br>nombre=%{y}<extra></extra>",
         "legendgroup": "",
         "marker": {
          "color": "#636efa",
          "pattern": {
           "shape": ""
          }
         },
         "name": "",
         "offsetgroup": "",
         "orientation": "v",
         "showlegend": false,
         "textposition": "auto",
         "type": "bar",
         "x": [
          1900,
          1901,
          1902,
          1903,
          1904,
          1905,
          1906,
          1907,
          1908,
          1909,
          1910,
          1911,
          1912,
          1913,
          1914,
          1915,
          1916,
          1917,
          1918,
          1919,
          1920,
          1921,
          1922,
          1923,
          1924,
          1925,
          1926,
          1927,
          1928,
          1929,
          1930,
          1931,
          1932,
          1933,
          1934,
          1935,
          1936,
          1937,
          1938,
          1939,
          1940,
          1941,
          1942,
          1943,
          1944,
          1945,
          1946,
          1947,
          1948,
          1949,
          1950,
          1951,
          1952,
          1953,
          1954,
          1955,
          1956,
          1957,
          1958,
          1959,
          1960,
          1961,
          1962,
          1963,
          1964,
          1965,
          1966,
          1967,
          1968,
          1969,
          1970,
          1971,
          1972,
          1973,
          1974,
          1975,
          1976,
          1977,
          1978,
          1979,
          1980,
          1981,
          1982,
          1983,
          1984,
          1985,
          1986,
          1987,
          1988,
          1989,
          1990,
          1991,
          1992,
          1993,
          1994,
          1995,
          1996,
          1997,
          1998,
          1999,
          2000,
          2001,
          2002,
          2003,
          2004,
          2005,
          2006,
          2007,
          2008,
          2009,
          2010,
          2011,
          2012,
          2013,
          2014,
          2015,
          2016,
          2017,
          2018,
          2019,
          2020
         ],
         "xaxis": "x",
         "y": [
          415041,
          453456,
          465790,
          468808,
          478962,
          489694,
          501745,
          501024,
          525489,
          526232,
          535394,
          514615,
          545889,
          547768,
          538912,
          351396,
          282497,
          306359,
          348520,
          385513,
          648321,
          636514,
          610179,
          616313,
          619781,
          637909,
          639798,
          633191,
          638333,
          629262,
          657126,
          649996,
          642816,
          609510,
          613023,
          584391,
          578714,
          570572,
          565527,
          566373,
          514272,
          486175,
          535402,
          577543,
          584003,
          591765,
          866208,
          892856,
          892231,
          894767,
          884857,
          849678,
          847284,
          830495,
          837045,
          833196,
          834515,
          844019,
          840198,
          857431,
          849281,
          867901,
          863207,
          899674,
          908817,
          897102,
          894761,
          870326,
          865645,
          869774,
          876266,
          908325,
          903263,
          881164,
          824130,
          766157,
          738637,
          761170,
          751678,
          773131,
          816203,
          820722,
          812884,
          765172,
          777071,
          786020,
          794775,
          785198,
          789922,
          785509,
          782807,
          779595,
          763485,
          730051,
          729202,
          746938,
          751737,
          745351,
          756675,
          764832,
          799507,
          792630,
          783416,
          781144,
          787361,
          794353,
          816404,
          805675,
          814464,
          810864,
          820968,
          809162,
          806738,
          797635,
          797380,
          776054,
          760502,
          746478,
          736262,
          731117,
          713273
         ],
         "yaxis": "y"
        }
       ],
       "layout": {
        "barmode": "relative",
        "legend": {
         "tracegroupgap": 0
        },
        "margin": {
         "t": 60
        },
        "template": {
         "data": {
          "bar": [
           {
            "error_x": {
             "color": "#2a3f5f"
            },
            "error_y": {
             "color": "#2a3f5f"
            },
            "marker": {
             "line": {
              "color": "#E5ECF6",
              "width": 0.5
             },
             "pattern": {
              "fillmode": "overlay",
              "size": 10,
              "solidity": 0.2
             }
            },
            "type": "bar"
           }
          ],
          "barpolar": [
           {
            "marker": {
             "line": {
              "color": "#E5ECF6",
              "width": 0.5
             },
             "pattern": {
              "fillmode": "overlay",
              "size": 10,
              "solidity": 0.2
             }
            },
            "type": "barpolar"
           }
          ],
          "carpet": [
           {
            "aaxis": {
             "endlinecolor": "#2a3f5f",
             "gridcolor": "white",
             "linecolor": "white",
             "minorgridcolor": "white",
             "startlinecolor": "#2a3f5f"
            },
            "baxis": {
             "endlinecolor": "#2a3f5f",
             "gridcolor": "white",
             "linecolor": "white",
             "minorgridcolor": "white",
             "startlinecolor": "#2a3f5f"
            },
            "type": "carpet"
           }
          ],
          "choropleth": [
           {
            "colorbar": {
             "outlinewidth": 0,
             "ticks": ""
            },
            "type": "choropleth"
           }
          ],
          "contour": [
           {
            "colorbar": {
             "outlinewidth": 0,
             "ticks": ""
            },
            "colorscale": [
             [
              0,
              "#0d0887"
             ],
             [
              0.1111111111111111,
              "#46039f"
             ],
             [
              0.2222222222222222,
              "#7201a8"
             ],
             [
              0.3333333333333333,
              "#9c179e"
             ],
             [
              0.4444444444444444,
              "#bd3786"
             ],
             [
              0.5555555555555556,
              "#d8576b"
             ],
             [
              0.6666666666666666,
              "#ed7953"
             ],
             [
              0.7777777777777778,
              "#fb9f3a"
             ],
             [
              0.8888888888888888,
              "#fdca26"
             ],
             [
              1,
              "#f0f921"
             ]
            ],
            "type": "contour"
           }
          ],
          "contourcarpet": [
           {
            "colorbar": {
             "outlinewidth": 0,
             "ticks": ""
            },
            "type": "contourcarpet"
           }
          ],
          "heatmap": [
           {
            "colorbar": {
             "outlinewidth": 0,
             "ticks": ""
            },
            "colorscale": [
             [
              0,
              "#0d0887"
             ],
             [
              0.1111111111111111,
              "#46039f"
             ],
             [
              0.2222222222222222,
              "#7201a8"
             ],
             [
              0.3333333333333333,
              "#9c179e"
             ],
             [
              0.4444444444444444,
              "#bd3786"
             ],
             [
              0.5555555555555556,
              "#d8576b"
             ],
             [
              0.6666666666666666,
              "#ed7953"
             ],
             [
              0.7777777777777778,
              "#fb9f3a"
             ],
             [
              0.8888888888888888,
              "#fdca26"
             ],
             [
              1,
              "#f0f921"
             ]
            ],
            "type": "heatmap"
           }
          ],
          "heatmapgl": [
           {
            "colorbar": {
             "outlinewidth": 0,
             "ticks": ""
            },
            "colorscale": [
             [
              0,
              "#0d0887"
             ],
             [
              0.1111111111111111,
              "#46039f"
             ],
             [
              0.2222222222222222,
              "#7201a8"
             ],
             [
              0.3333333333333333,
              "#9c179e"
             ],
             [
              0.4444444444444444,
              "#bd3786"
             ],
             [
              0.5555555555555556,
              "#d8576b"
             ],
             [
              0.6666666666666666,
              "#ed7953"
             ],
             [
              0.7777777777777778,
              "#fb9f3a"
             ],
             [
              0.8888888888888888,
              "#fdca26"
             ],
             [
              1,
              "#f0f921"
             ]
            ],
            "type": "heatmapgl"
           }
          ],
          "histogram": [
           {
            "marker": {
             "pattern": {
              "fillmode": "overlay",
              "size": 10,
              "solidity": 0.2
             }
            },
            "type": "histogram"
           }
          ],
          "histogram2d": [
           {
            "colorbar": {
             "outlinewidth": 0,
             "ticks": ""
            },
            "colorscale": [
             [
              0,
              "#0d0887"
             ],
             [
              0.1111111111111111,
              "#46039f"
             ],
             [
              0.2222222222222222,
              "#7201a8"
             ],
             [
              0.3333333333333333,
              "#9c179e"
             ],
             [
              0.4444444444444444,
              "#bd3786"
             ],
             [
              0.5555555555555556,
              "#d8576b"
             ],
             [
              0.6666666666666666,
              "#ed7953"
             ],
             [
              0.7777777777777778,
              "#fb9f3a"
             ],
             [
              0.8888888888888888,
              "#fdca26"
             ],
             [
              1,
              "#f0f921"
             ]
            ],
            "type": "histogram2d"
           }
          ],
          "histogram2dcontour": [
           {
            "colorbar": {
             "outlinewidth": 0,
             "ticks": ""
            },
            "colorscale": [
             [
              0,
              "#0d0887"
             ],
             [
              0.1111111111111111,
              "#46039f"
             ],
             [
              0.2222222222222222,
              "#7201a8"
             ],
             [
              0.3333333333333333,
              "#9c179e"
             ],
             [
              0.4444444444444444,
              "#bd3786"
             ],
             [
              0.5555555555555556,
              "#d8576b"
             ],
             [
              0.6666666666666666,
              "#ed7953"
             ],
             [
              0.7777777777777778,
              "#fb9f3a"
             ],
             [
              0.8888888888888888,
              "#fdca26"
             ],
             [
              1,
              "#f0f921"
             ]
            ],
            "type": "histogram2dcontour"
           }
          ],
          "mesh3d": [
           {
            "colorbar": {
             "outlinewidth": 0,
             "ticks": ""
            },
            "type": "mesh3d"
           }
          ],
          "parcoords": [
           {
            "line": {
             "colorbar": {
              "outlinewidth": 0,
              "ticks": ""
             }
            },
            "type": "parcoords"
           }
          ],
          "pie": [
           {
            "automargin": true,
            "type": "pie"
           }
          ],
          "scatter": [
           {
            "marker": {
             "colorbar": {
              "outlinewidth": 0,
              "ticks": ""
             }
            },
            "type": "scatter"
           }
          ],
          "scatter3d": [
           {
            "line": {
             "colorbar": {
              "outlinewidth": 0,
              "ticks": ""
             }
            },
            "marker": {
             "colorbar": {
              "outlinewidth": 0,
              "ticks": ""
             }
            },
            "type": "scatter3d"
           }
          ],
          "scattercarpet": [
           {
            "marker": {
             "colorbar": {
              "outlinewidth": 0,
              "ticks": ""
             }
            },
            "type": "scattercarpet"
           }
          ],
          "scattergeo": [
           {
            "marker": {
             "colorbar": {
              "outlinewidth": 0,
              "ticks": ""
             }
            },
            "type": "scattergeo"
           }
          ],
          "scattergl": [
           {
            "marker": {
             "colorbar": {
              "outlinewidth": 0,
              "ticks": ""
             }
            },
            "type": "scattergl"
           }
          ],
          "scattermapbox": [
           {
            "marker": {
             "colorbar": {
              "outlinewidth": 0,
              "ticks": ""
             }
            },
            "type": "scattermapbox"
           }
          ],
          "scatterpolar": [
           {
            "marker": {
             "colorbar": {
              "outlinewidth": 0,
              "ticks": ""
             }
            },
            "type": "scatterpolar"
           }
          ],
          "scatterpolargl": [
           {
            "marker": {
             "colorbar": {
              "outlinewidth": 0,
              "ticks": ""
             }
            },
            "type": "scatterpolargl"
           }
          ],
          "scatterternary": [
           {
            "marker": {
             "colorbar": {
              "outlinewidth": 0,
              "ticks": ""
             }
            },
            "type": "scatterternary"
           }
          ],
          "surface": [
           {
            "colorbar": {
             "outlinewidth": 0,
             "ticks": ""
            },
            "colorscale": [
             [
              0,
              "#0d0887"
             ],
             [
              0.1111111111111111,
              "#46039f"
             ],
             [
              0.2222222222222222,
              "#7201a8"
             ],
             [
              0.3333333333333333,
              "#9c179e"
             ],
             [
              0.4444444444444444,
              "#bd3786"
             ],
             [
              0.5555555555555556,
              "#d8576b"
             ],
             [
              0.6666666666666666,
              "#ed7953"
             ],
             [
              0.7777777777777778,
              "#fb9f3a"
             ],
             [
              0.8888888888888888,
              "#fdca26"
             ],
             [
              1,
              "#f0f921"
             ]
            ],
            "type": "surface"
           }
          ],
          "table": [
           {
            "cells": {
             "fill": {
              "color": "#EBF0F8"
             },
             "line": {
              "color": "white"
             }
            },
            "header": {
             "fill": {
              "color": "#C8D4E3"
             },
             "line": {
              "color": "white"
             }
            },
            "type": "table"
           }
          ]
         },
         "layout": {
          "annotationdefaults": {
           "arrowcolor": "#2a3f5f",
           "arrowhead": 0,
           "arrowwidth": 1
          },
          "autotypenumbers": "strict",
          "coloraxis": {
           "colorbar": {
            "outlinewidth": 0,
            "ticks": ""
           }
          },
          "colorscale": {
           "diverging": [
            [
             0,
             "#8e0152"
            ],
            [
             0.1,
             "#c51b7d"
            ],
            [
             0.2,
             "#de77ae"
            ],
            [
             0.3,
             "#f1b6da"
            ],
            [
             0.4,
             "#fde0ef"
            ],
            [
             0.5,
             "#f7f7f7"
            ],
            [
             0.6,
             "#e6f5d0"
            ],
            [
             0.7,
             "#b8e186"
            ],
            [
             0.8,
             "#7fbc41"
            ],
            [
             0.9,
             "#4d9221"
            ],
            [
             1,
             "#276419"
            ]
           ],
           "sequential": [
            [
             0,
             "#0d0887"
            ],
            [
             0.1111111111111111,
             "#46039f"
            ],
            [
             0.2222222222222222,
             "#7201a8"
            ],
            [
             0.3333333333333333,
             "#9c179e"
            ],
            [
             0.4444444444444444,
             "#bd3786"
            ],
            [
             0.5555555555555556,
             "#d8576b"
            ],
            [
             0.6666666666666666,
             "#ed7953"
            ],
            [
             0.7777777777777778,
             "#fb9f3a"
            ],
            [
             0.8888888888888888,
             "#fdca26"
            ],
            [
             1,
             "#f0f921"
            ]
           ],
           "sequentialminus": [
            [
             0,
             "#0d0887"
            ],
            [
             0.1111111111111111,
             "#46039f"
            ],
            [
             0.2222222222222222,
             "#7201a8"
            ],
            [
             0.3333333333333333,
             "#9c179e"
            ],
            [
             0.4444444444444444,
             "#bd3786"
            ],
            [
             0.5555555555555556,
             "#d8576b"
            ],
            [
             0.6666666666666666,
             "#ed7953"
            ],
            [
             0.7777777777777778,
             "#fb9f3a"
            ],
            [
             0.8888888888888888,
             "#fdca26"
            ],
            [
             1,
             "#f0f921"
            ]
           ]
          },
          "colorway": [
           "#636efa",
           "#EF553B",
           "#00cc96",
           "#ab63fa",
           "#FFA15A",
           "#19d3f3",
           "#FF6692",
           "#B6E880",
           "#FF97FF",
           "#FECB52"
          ],
          "font": {
           "color": "#2a3f5f"
          },
          "geo": {
           "bgcolor": "white",
           "lakecolor": "white",
           "landcolor": "#E5ECF6",
           "showlakes": true,
           "showland": true,
           "subunitcolor": "white"
          },
          "hoverlabel": {
           "align": "left"
          },
          "hovermode": "closest",
          "mapbox": {
           "style": "light"
          },
          "paper_bgcolor": "white",
          "plot_bgcolor": "#E5ECF6",
          "polar": {
           "angularaxis": {
            "gridcolor": "white",
            "linecolor": "white",
            "ticks": ""
           },
           "bgcolor": "#E5ECF6",
           "radialaxis": {
            "gridcolor": "white",
            "linecolor": "white",
            "ticks": ""
           }
          },
          "scene": {
           "xaxis": {
            "backgroundcolor": "#E5ECF6",
            "gridcolor": "white",
            "gridwidth": 2,
            "linecolor": "white",
            "showbackground": true,
            "ticks": "",
            "zerolinecolor": "white"
           },
           "yaxis": {
            "backgroundcolor": "#E5ECF6",
            "gridcolor": "white",
            "gridwidth": 2,
            "linecolor": "white",
            "showbackground": true,
            "ticks": "",
            "zerolinecolor": "white"
           },
           "zaxis": {
            "backgroundcolor": "#E5ECF6",
            "gridcolor": "white",
            "gridwidth": 2,
            "linecolor": "white",
            "showbackground": true,
            "ticks": "",
            "zerolinecolor": "white"
           }
          },
          "shapedefaults": {
           "line": {
            "color": "#2a3f5f"
           }
          },
          "ternary": {
           "aaxis": {
            "gridcolor": "white",
            "linecolor": "white",
            "ticks": ""
           },
           "baxis": {
            "gridcolor": "white",
            "linecolor": "white",
            "ticks": ""
           },
           "bgcolor": "#E5ECF6",
           "caxis": {
            "gridcolor": "white",
            "linecolor": "white",
            "ticks": ""
           }
          },
          "title": {
           "x": 0.05
          },
          "xaxis": {
           "automargin": true,
           "gridcolor": "white",
           "linecolor": "white",
           "ticks": "",
           "title": {
            "standoff": 15
           },
           "zerolinecolor": "white",
           "zerolinewidth": 2
          },
          "yaxis": {
           "automargin": true,
           "gridcolor": "white",
           "linecolor": "white",
           "ticks": "",
           "title": {
            "standoff": 15
           },
           "zerolinecolor": "white",
           "zerolinewidth": 2
          }
         }
        },
        "xaxis": {
         "anchor": "y",
         "domain": [
          0,
          1
         ],
         "title": {
          "text": "annais"
         }
        },
        "yaxis": {
         "anchor": "x",
         "domain": [
          0,
          1
         ],
         "title": {
          "text": "nombre"
         }
        }
       }
      },
      "text/html": [
       "<div>                            <div id=\"0041f7e1-89c8-41fa-b88e-fbd1466759bf\" class=\"plotly-graph-div\" style=\"height:525px; width:100%;\"></div>            <script type=\"text/javascript\">                require([\"plotly\"], function(Plotly) {                    window.PLOTLYENV=window.PLOTLYENV || {};                                    if (document.getElementById(\"0041f7e1-89c8-41fa-b88e-fbd1466759bf\")) {                    Plotly.newPlot(                        \"0041f7e1-89c8-41fa-b88e-fbd1466759bf\",                        [{\"alignmentgroup\":\"True\",\"hovertemplate\":\"annais=%{x}<br>nombre=%{y}<extra></extra>\",\"legendgroup\":\"\",\"marker\":{\"color\":\"#636efa\",\"pattern\":{\"shape\":\"\"}},\"name\":\"\",\"offsetgroup\":\"\",\"orientation\":\"v\",\"showlegend\":false,\"textposition\":\"auto\",\"x\":[1900,1901,1902,1903,1904,1905,1906,1907,1908,1909,1910,1911,1912,1913,1914,1915,1916,1917,1918,1919,1920,1921,1922,1923,1924,1925,1926,1927,1928,1929,1930,1931,1932,1933,1934,1935,1936,1937,1938,1939,1940,1941,1942,1943,1944,1945,1946,1947,1948,1949,1950,1951,1952,1953,1954,1955,1956,1957,1958,1959,1960,1961,1962,1963,1964,1965,1966,1967,1968,1969,1970,1971,1972,1973,1974,1975,1976,1977,1978,1979,1980,1981,1982,1983,1984,1985,1986,1987,1988,1989,1990,1991,1992,1993,1994,1995,1996,1997,1998,1999,2000,2001,2002,2003,2004,2005,2006,2007,2008,2009,2010,2011,2012,2013,2014,2015,2016,2017,2018,2019,2020],\"xaxis\":\"x\",\"y\":[415041,453456,465790,468808,478962,489694,501745,501024,525489,526232,535394,514615,545889,547768,538912,351396,282497,306359,348520,385513,648321,636514,610179,616313,619781,637909,639798,633191,638333,629262,657126,649996,642816,609510,613023,584391,578714,570572,565527,566373,514272,486175,535402,577543,584003,591765,866208,892856,892231,894767,884857,849678,847284,830495,837045,833196,834515,844019,840198,857431,849281,867901,863207,899674,908817,897102,894761,870326,865645,869774,876266,908325,903263,881164,824130,766157,738637,761170,751678,773131,816203,820722,812884,765172,777071,786020,794775,785198,789922,785509,782807,779595,763485,730051,729202,746938,751737,745351,756675,764832,799507,792630,783416,781144,787361,794353,816404,805675,814464,810864,820968,809162,806738,797635,797380,776054,760502,746478,736262,731117,713273],\"yaxis\":\"y\",\"type\":\"bar\"}],                        {\"template\":{\"data\":{\"bar\":[{\"error_x\":{\"color\":\"#2a3f5f\"},\"error_y\":{\"color\":\"#2a3f5f\"},\"marker\":{\"line\":{\"color\":\"#E5ECF6\",\"width\":0.5},\"pattern\":{\"fillmode\":\"overlay\",\"size\":10,\"solidity\":0.2}},\"type\":\"bar\"}],\"barpolar\":[{\"marker\":{\"line\":{\"color\":\"#E5ECF6\",\"width\":0.5},\"pattern\":{\"fillmode\":\"overlay\",\"size\":10,\"solidity\":0.2}},\"type\":\"barpolar\"}],\"carpet\":[{\"aaxis\":{\"endlinecolor\":\"#2a3f5f\",\"gridcolor\":\"white\",\"linecolor\":\"white\",\"minorgridcolor\":\"white\",\"startlinecolor\":\"#2a3f5f\"},\"baxis\":{\"endlinecolor\":\"#2a3f5f\",\"gridcolor\":\"white\",\"linecolor\":\"white\",\"minorgridcolor\":\"white\",\"startlinecolor\":\"#2a3f5f\"},\"type\":\"carpet\"}],\"choropleth\":[{\"colorbar\":{\"outlinewidth\":0,\"ticks\":\"\"},\"type\":\"choropleth\"}],\"contour\":[{\"colorbar\":{\"outlinewidth\":0,\"ticks\":\"\"},\"colorscale\":[[0.0,\"#0d0887\"],[0.1111111111111111,\"#46039f\"],[0.2222222222222222,\"#7201a8\"],[0.3333333333333333,\"#9c179e\"],[0.4444444444444444,\"#bd3786\"],[0.5555555555555556,\"#d8576b\"],[0.6666666666666666,\"#ed7953\"],[0.7777777777777778,\"#fb9f3a\"],[0.8888888888888888,\"#fdca26\"],[1.0,\"#f0f921\"]],\"type\":\"contour\"}],\"contourcarpet\":[{\"colorbar\":{\"outlinewidth\":0,\"ticks\":\"\"},\"type\":\"contourcarpet\"}],\"heatmap\":[{\"colorbar\":{\"outlinewidth\":0,\"ticks\":\"\"},\"colorscale\":[[0.0,\"#0d0887\"],[0.1111111111111111,\"#46039f\"],[0.2222222222222222,\"#7201a8\"],[0.3333333333333333,\"#9c179e\"],[0.4444444444444444,\"#bd3786\"],[0.5555555555555556,\"#d8576b\"],[0.6666666666666666,\"#ed7953\"],[0.7777777777777778,\"#fb9f3a\"],[0.8888888888888888,\"#fdca26\"],[1.0,\"#f0f921\"]],\"type\":\"heatmap\"}],\"heatmapgl\":[{\"colorbar\":{\"outlinewidth\":0,\"ticks\":\"\"},\"colorscale\":[[0.0,\"#0d0887\"],[0.1111111111111111,\"#46039f\"],[0.2222222222222222,\"#7201a8\"],[0.3333333333333333,\"#9c179e\"],[0.4444444444444444,\"#bd3786\"],[0.5555555555555556,\"#d8576b\"],[0.6666666666666666,\"#ed7953\"],[0.7777777777777778,\"#fb9f3a\"],[0.8888888888888888,\"#fdca26\"],[1.0,\"#f0f921\"]],\"type\":\"heatmapgl\"}],\"histogram\":[{\"marker\":{\"pattern\":{\"fillmode\":\"overlay\",\"size\":10,\"solidity\":0.2}},\"type\":\"histogram\"}],\"histogram2d\":[{\"colorbar\":{\"outlinewidth\":0,\"ticks\":\"\"},\"colorscale\":[[0.0,\"#0d0887\"],[0.1111111111111111,\"#46039f\"],[0.2222222222222222,\"#7201a8\"],[0.3333333333333333,\"#9c179e\"],[0.4444444444444444,\"#bd3786\"],[0.5555555555555556,\"#d8576b\"],[0.6666666666666666,\"#ed7953\"],[0.7777777777777778,\"#fb9f3a\"],[0.8888888888888888,\"#fdca26\"],[1.0,\"#f0f921\"]],\"type\":\"histogram2d\"}],\"histogram2dcontour\":[{\"colorbar\":{\"outlinewidth\":0,\"ticks\":\"\"},\"colorscale\":[[0.0,\"#0d0887\"],[0.1111111111111111,\"#46039f\"],[0.2222222222222222,\"#7201a8\"],[0.3333333333333333,\"#9c179e\"],[0.4444444444444444,\"#bd3786\"],[0.5555555555555556,\"#d8576b\"],[0.6666666666666666,\"#ed7953\"],[0.7777777777777778,\"#fb9f3a\"],[0.8888888888888888,\"#fdca26\"],[1.0,\"#f0f921\"]],\"type\":\"histogram2dcontour\"}],\"mesh3d\":[{\"colorbar\":{\"outlinewidth\":0,\"ticks\":\"\"},\"type\":\"mesh3d\"}],\"parcoords\":[{\"line\":{\"colorbar\":{\"outlinewidth\":0,\"ticks\":\"\"}},\"type\":\"parcoords\"}],\"pie\":[{\"automargin\":true,\"type\":\"pie\"}],\"scatter\":[{\"marker\":{\"colorbar\":{\"outlinewidth\":0,\"ticks\":\"\"}},\"type\":\"scatter\"}],\"scatter3d\":[{\"line\":{\"colorbar\":{\"outlinewidth\":0,\"ticks\":\"\"}},\"marker\":{\"colorbar\":{\"outlinewidth\":0,\"ticks\":\"\"}},\"type\":\"scatter3d\"}],\"scattercarpet\":[{\"marker\":{\"colorbar\":{\"outlinewidth\":0,\"ticks\":\"\"}},\"type\":\"scattercarpet\"}],\"scattergeo\":[{\"marker\":{\"colorbar\":{\"outlinewidth\":0,\"ticks\":\"\"}},\"type\":\"scattergeo\"}],\"scattergl\":[{\"marker\":{\"colorbar\":{\"outlinewidth\":0,\"ticks\":\"\"}},\"type\":\"scattergl\"}],\"scattermapbox\":[{\"marker\":{\"colorbar\":{\"outlinewidth\":0,\"ticks\":\"\"}},\"type\":\"scattermapbox\"}],\"scatterpolar\":[{\"marker\":{\"colorbar\":{\"outlinewidth\":0,\"ticks\":\"\"}},\"type\":\"scatterpolar\"}],\"scatterpolargl\":[{\"marker\":{\"colorbar\":{\"outlinewidth\":0,\"ticks\":\"\"}},\"type\":\"scatterpolargl\"}],\"scatterternary\":[{\"marker\":{\"colorbar\":{\"outlinewidth\":0,\"ticks\":\"\"}},\"type\":\"scatterternary\"}],\"surface\":[{\"colorbar\":{\"outlinewidth\":0,\"ticks\":\"\"},\"colorscale\":[[0.0,\"#0d0887\"],[0.1111111111111111,\"#46039f\"],[0.2222222222222222,\"#7201a8\"],[0.3333333333333333,\"#9c179e\"],[0.4444444444444444,\"#bd3786\"],[0.5555555555555556,\"#d8576b\"],[0.6666666666666666,\"#ed7953\"],[0.7777777777777778,\"#fb9f3a\"],[0.8888888888888888,\"#fdca26\"],[1.0,\"#f0f921\"]],\"type\":\"surface\"}],\"table\":[{\"cells\":{\"fill\":{\"color\":\"#EBF0F8\"},\"line\":{\"color\":\"white\"}},\"header\":{\"fill\":{\"color\":\"#C8D4E3\"},\"line\":{\"color\":\"white\"}},\"type\":\"table\"}]},\"layout\":{\"annotationdefaults\":{\"arrowcolor\":\"#2a3f5f\",\"arrowhead\":0,\"arrowwidth\":1},\"autotypenumbers\":\"strict\",\"coloraxis\":{\"colorbar\":{\"outlinewidth\":0,\"ticks\":\"\"}},\"colorscale\":{\"diverging\":[[0,\"#8e0152\"],[0.1,\"#c51b7d\"],[0.2,\"#de77ae\"],[0.3,\"#f1b6da\"],[0.4,\"#fde0ef\"],[0.5,\"#f7f7f7\"],[0.6,\"#e6f5d0\"],[0.7,\"#b8e186\"],[0.8,\"#7fbc41\"],[0.9,\"#4d9221\"],[1,\"#276419\"]],\"sequential\":[[0.0,\"#0d0887\"],[0.1111111111111111,\"#46039f\"],[0.2222222222222222,\"#7201a8\"],[0.3333333333333333,\"#9c179e\"],[0.4444444444444444,\"#bd3786\"],[0.5555555555555556,\"#d8576b\"],[0.6666666666666666,\"#ed7953\"],[0.7777777777777778,\"#fb9f3a\"],[0.8888888888888888,\"#fdca26\"],[1.0,\"#f0f921\"]],\"sequentialminus\":[[0.0,\"#0d0887\"],[0.1111111111111111,\"#46039f\"],[0.2222222222222222,\"#7201a8\"],[0.3333333333333333,\"#9c179e\"],[0.4444444444444444,\"#bd3786\"],[0.5555555555555556,\"#d8576b\"],[0.6666666666666666,\"#ed7953\"],[0.7777777777777778,\"#fb9f3a\"],[0.8888888888888888,\"#fdca26\"],[1.0,\"#f0f921\"]]},\"colorway\":[\"#636efa\",\"#EF553B\",\"#00cc96\",\"#ab63fa\",\"#FFA15A\",\"#19d3f3\",\"#FF6692\",\"#B6E880\",\"#FF97FF\",\"#FECB52\"],\"font\":{\"color\":\"#2a3f5f\"},\"geo\":{\"bgcolor\":\"white\",\"lakecolor\":\"white\",\"landcolor\":\"#E5ECF6\",\"showlakes\":true,\"showland\":true,\"subunitcolor\":\"white\"},\"hoverlabel\":{\"align\":\"left\"},\"hovermode\":\"closest\",\"mapbox\":{\"style\":\"light\"},\"paper_bgcolor\":\"white\",\"plot_bgcolor\":\"#E5ECF6\",\"polar\":{\"angularaxis\":{\"gridcolor\":\"white\",\"linecolor\":\"white\",\"ticks\":\"\"},\"bgcolor\":\"#E5ECF6\",\"radialaxis\":{\"gridcolor\":\"white\",\"linecolor\":\"white\",\"ticks\":\"\"}},\"scene\":{\"xaxis\":{\"backgroundcolor\":\"#E5ECF6\",\"gridcolor\":\"white\",\"gridwidth\":2,\"linecolor\":\"white\",\"showbackground\":true,\"ticks\":\"\",\"zerolinecolor\":\"white\"},\"yaxis\":{\"backgroundcolor\":\"#E5ECF6\",\"gridcolor\":\"white\",\"gridwidth\":2,\"linecolor\":\"white\",\"showbackground\":true,\"ticks\":\"\",\"zerolinecolor\":\"white\"},\"zaxis\":{\"backgroundcolor\":\"#E5ECF6\",\"gridcolor\":\"white\",\"gridwidth\":2,\"linecolor\":\"white\",\"showbackground\":true,\"ticks\":\"\",\"zerolinecolor\":\"white\"}},\"shapedefaults\":{\"line\":{\"color\":\"#2a3f5f\"}},\"ternary\":{\"aaxis\":{\"gridcolor\":\"white\",\"linecolor\":\"white\",\"ticks\":\"\"},\"baxis\":{\"gridcolor\":\"white\",\"linecolor\":\"white\",\"ticks\":\"\"},\"bgcolor\":\"#E5ECF6\",\"caxis\":{\"gridcolor\":\"white\",\"linecolor\":\"white\",\"ticks\":\"\"}},\"title\":{\"x\":0.05},\"xaxis\":{\"automargin\":true,\"gridcolor\":\"white\",\"linecolor\":\"white\",\"ticks\":\"\",\"title\":{\"standoff\":15},\"zerolinecolor\":\"white\",\"zerolinewidth\":2},\"yaxis\":{\"automargin\":true,\"gridcolor\":\"white\",\"linecolor\":\"white\",\"ticks\":\"\",\"title\":{\"standoff\":15},\"zerolinecolor\":\"white\",\"zerolinewidth\":2}}},\"xaxis\":{\"anchor\":\"y\",\"domain\":[0.0,1.0],\"title\":{\"text\":\"annais\"}},\"yaxis\":{\"anchor\":\"x\",\"domain\":[0.0,1.0],\"title\":{\"text\":\"nombre\"}},\"legend\":{\"tracegroupgap\":0},\"margin\":{\"t\":60},\"barmode\":\"relative\"},                        {\"responsive\": true}                    ).then(function(){\n",
       "                            \n",
       "var gd = document.getElementById('0041f7e1-89c8-41fa-b88e-fbd1466759bf');\n",
       "var x = new MutationObserver(function (mutations, observer) {{\n",
       "        var display = window.getComputedStyle(gd).display;\n",
       "        if (!display || display === 'none') {{\n",
       "            console.log([gd, 'removed!']);\n",
       "            Plotly.purge(gd);\n",
       "            observer.disconnect();\n",
       "        }}\n",
       "}});\n",
       "\n",
       "// Listen for the removal of the full notebook cells\n",
       "var notebookContainer = gd.closest('#notebook-container');\n",
       "if (notebookContainer) {{\n",
       "    x.observe(notebookContainer, {childList: true});\n",
       "}}\n",
       "\n",
       "// Listen for the clearing of the current output cell\n",
       "var outputEl = gd.closest('.output');\n",
       "if (outputEl) {{\n",
       "    x.observe(outputEl, {childList: true});\n",
       "}}\n",
       "\n",
       "                        })                };                });            </script>        </div>"
      ]
     },
     "metadata": {},
     "output_type": "display_data"
    }
   ],
   "source": [
    "df_total_nais_annees = df_nat.groupby('annais').agg({'nombre' : sum})\n",
    "display(df_total_nais_annees.tail())\n",
    "px.bar(df_total_nais_annees, y='nombre')"
   ]
  },
  {
   "cell_type": "code",
   "execution_count": 35,
   "id": "81fd6df0-e0f4-4d00-b2a3-a1317d7a3eca",
   "metadata": {},
   "outputs": [
    {
     "data": {
      "text/html": [
       "<div>\n",
       "<style scoped>\n",
       "    .dataframe tbody tr th:only-of-type {\n",
       "        vertical-align: middle;\n",
       "    }\n",
       "\n",
       "    .dataframe tbody tr th {\n",
       "        vertical-align: top;\n",
       "    }\n",
       "\n",
       "    .dataframe thead th {\n",
       "        text-align: right;\n",
       "    }\n",
       "</style>\n",
       "<table border=\"1\" class=\"dataframe\">\n",
       "  <thead>\n",
       "    <tr style=\"text-align: right;\">\n",
       "      <th></th>\n",
       "      <th>preusuel</th>\n",
       "    </tr>\n",
       "    <tr>\n",
       "      <th>annais</th>\n",
       "      <th></th>\n",
       "    </tr>\n",
       "  </thead>\n",
       "  <tbody>\n",
       "    <tr>\n",
       "      <th>2016</th>\n",
       "      <td>6376</td>\n",
       "    </tr>\n",
       "    <tr>\n",
       "      <th>2017</th>\n",
       "      <td>6353</td>\n",
       "    </tr>\n",
       "    <tr>\n",
       "      <th>2018</th>\n",
       "      <td>6384</td>\n",
       "    </tr>\n",
       "    <tr>\n",
       "      <th>2019</th>\n",
       "      <td>6275</td>\n",
       "    </tr>\n",
       "    <tr>\n",
       "      <th>2020</th>\n",
       "      <td>6197</td>\n",
       "    </tr>\n",
       "  </tbody>\n",
       "</table>\n",
       "</div>"
      ],
      "text/plain": [
       "        preusuel\n",
       "annais          \n",
       "2016        6376\n",
       "2017        6353\n",
       "2018        6384\n",
       "2019        6275\n",
       "2020        6197"
      ]
     },
     "metadata": {},
     "output_type": "display_data"
    },
    {
     "data": {
      "application/vnd.plotly.v1+json": {
       "config": {
        "plotlyServerURL": "https://plot.ly"
       },
       "data": [
        {
         "alignmentgroup": "True",
         "hovertemplate": "annais=%{x}<br>preusuel=%{y}<extra></extra>",
         "legendgroup": "",
         "marker": {
          "color": "#636efa",
          "pattern": {
           "shape": ""
          }
         },
         "name": "",
         "offsetgroup": "",
         "orientation": "v",
         "showlegend": false,
         "textposition": "auto",
         "type": "bar",
         "x": [
          1900,
          1901,
          1902,
          1903,
          1904,
          1905,
          1906,
          1907,
          1908,
          1909,
          1910,
          1911,
          1912,
          1913,
          1914,
          1915,
          1916,
          1917,
          1918,
          1919,
          1920,
          1921,
          1922,
          1923,
          1924,
          1925,
          1926,
          1927,
          1928,
          1929,
          1930,
          1931,
          1932,
          1933,
          1934,
          1935,
          1936,
          1937,
          1938,
          1939,
          1940,
          1941,
          1942,
          1943,
          1944,
          1945,
          1946,
          1947,
          1948,
          1949,
          1950,
          1951,
          1952,
          1953,
          1954,
          1955,
          1956,
          1957,
          1958,
          1959,
          1960,
          1961,
          1962,
          1963,
          1964,
          1965,
          1966,
          1967,
          1968,
          1969,
          1970,
          1971,
          1972,
          1973,
          1974,
          1975,
          1976,
          1977,
          1978,
          1979,
          1980,
          1981,
          1982,
          1983,
          1984,
          1985,
          1986,
          1987,
          1988,
          1989,
          1990,
          1991,
          1992,
          1993,
          1994,
          1995,
          1996,
          1997,
          1998,
          1999,
          2000,
          2001,
          2002,
          2003,
          2004,
          2005,
          2006,
          2007,
          2008,
          2009,
          2010,
          2011,
          2012,
          2013,
          2014,
          2015,
          2016,
          2017,
          2018,
          2019,
          2020
         ],
         "xaxis": "x",
         "y": [
          724,
          720,
          722,
          738,
          766,
          774,
          796,
          772,
          827,
          816,
          849,
          830,
          851,
          862,
          832,
          698,
          664,
          700,
          693,
          674,
          830,
          851,
          855,
          920,
          1005,
          1057,
          1076,
          1090,
          1038,
          1038,
          1075,
          1060,
          1057,
          964,
          974,
          945,
          912,
          918,
          915,
          920,
          862,
          829,
          854,
          852,
          873,
          849,
          1003,
          1030,
          1120,
          1197,
          1207,
          1233,
          1225,
          1276,
          1268,
          1264,
          1399,
          1419,
          1530,
          1594,
          1580,
          1665,
          1694,
          1793,
          1772,
          1812,
          1848,
          1852,
          1880,
          1961,
          2042,
          2174,
          2239,
          2328,
          2379,
          2460,
          2474,
          2559,
          2642,
          2746,
          2851,
          2936,
          3010,
          2987,
          2992,
          3058,
          3065,
          3097,
          3097,
          3225,
          3318,
          3342,
          3428,
          3521,
          3542,
          3610,
          3731,
          3891,
          4002,
          4151,
          4337,
          4494,
          4700,
          4852,
          5085,
          5311,
          5540,
          5616,
          5743,
          5772,
          6172,
          6362,
          6413,
          6414,
          6457,
          6383,
          6376,
          6353,
          6384,
          6275,
          6197
         ],
         "yaxis": "y"
        }
       ],
       "layout": {
        "barmode": "relative",
        "legend": {
         "tracegroupgap": 0
        },
        "margin": {
         "t": 60
        },
        "template": {
         "data": {
          "bar": [
           {
            "error_x": {
             "color": "#2a3f5f"
            },
            "error_y": {
             "color": "#2a3f5f"
            },
            "marker": {
             "line": {
              "color": "#E5ECF6",
              "width": 0.5
             },
             "pattern": {
              "fillmode": "overlay",
              "size": 10,
              "solidity": 0.2
             }
            },
            "type": "bar"
           }
          ],
          "barpolar": [
           {
            "marker": {
             "line": {
              "color": "#E5ECF6",
              "width": 0.5
             },
             "pattern": {
              "fillmode": "overlay",
              "size": 10,
              "solidity": 0.2
             }
            },
            "type": "barpolar"
           }
          ],
          "carpet": [
           {
            "aaxis": {
             "endlinecolor": "#2a3f5f",
             "gridcolor": "white",
             "linecolor": "white",
             "minorgridcolor": "white",
             "startlinecolor": "#2a3f5f"
            },
            "baxis": {
             "endlinecolor": "#2a3f5f",
             "gridcolor": "white",
             "linecolor": "white",
             "minorgridcolor": "white",
             "startlinecolor": "#2a3f5f"
            },
            "type": "carpet"
           }
          ],
          "choropleth": [
           {
            "colorbar": {
             "outlinewidth": 0,
             "ticks": ""
            },
            "type": "choropleth"
           }
          ],
          "contour": [
           {
            "colorbar": {
             "outlinewidth": 0,
             "ticks": ""
            },
            "colorscale": [
             [
              0,
              "#0d0887"
             ],
             [
              0.1111111111111111,
              "#46039f"
             ],
             [
              0.2222222222222222,
              "#7201a8"
             ],
             [
              0.3333333333333333,
              "#9c179e"
             ],
             [
              0.4444444444444444,
              "#bd3786"
             ],
             [
              0.5555555555555556,
              "#d8576b"
             ],
             [
              0.6666666666666666,
              "#ed7953"
             ],
             [
              0.7777777777777778,
              "#fb9f3a"
             ],
             [
              0.8888888888888888,
              "#fdca26"
             ],
             [
              1,
              "#f0f921"
             ]
            ],
            "type": "contour"
           }
          ],
          "contourcarpet": [
           {
            "colorbar": {
             "outlinewidth": 0,
             "ticks": ""
            },
            "type": "contourcarpet"
           }
          ],
          "heatmap": [
           {
            "colorbar": {
             "outlinewidth": 0,
             "ticks": ""
            },
            "colorscale": [
             [
              0,
              "#0d0887"
             ],
             [
              0.1111111111111111,
              "#46039f"
             ],
             [
              0.2222222222222222,
              "#7201a8"
             ],
             [
              0.3333333333333333,
              "#9c179e"
             ],
             [
              0.4444444444444444,
              "#bd3786"
             ],
             [
              0.5555555555555556,
              "#d8576b"
             ],
             [
              0.6666666666666666,
              "#ed7953"
             ],
             [
              0.7777777777777778,
              "#fb9f3a"
             ],
             [
              0.8888888888888888,
              "#fdca26"
             ],
             [
              1,
              "#f0f921"
             ]
            ],
            "type": "heatmap"
           }
          ],
          "heatmapgl": [
           {
            "colorbar": {
             "outlinewidth": 0,
             "ticks": ""
            },
            "colorscale": [
             [
              0,
              "#0d0887"
             ],
             [
              0.1111111111111111,
              "#46039f"
             ],
             [
              0.2222222222222222,
              "#7201a8"
             ],
             [
              0.3333333333333333,
              "#9c179e"
             ],
             [
              0.4444444444444444,
              "#bd3786"
             ],
             [
              0.5555555555555556,
              "#d8576b"
             ],
             [
              0.6666666666666666,
              "#ed7953"
             ],
             [
              0.7777777777777778,
              "#fb9f3a"
             ],
             [
              0.8888888888888888,
              "#fdca26"
             ],
             [
              1,
              "#f0f921"
             ]
            ],
            "type": "heatmapgl"
           }
          ],
          "histogram": [
           {
            "marker": {
             "pattern": {
              "fillmode": "overlay",
              "size": 10,
              "solidity": 0.2
             }
            },
            "type": "histogram"
           }
          ],
          "histogram2d": [
           {
            "colorbar": {
             "outlinewidth": 0,
             "ticks": ""
            },
            "colorscale": [
             [
              0,
              "#0d0887"
             ],
             [
              0.1111111111111111,
              "#46039f"
             ],
             [
              0.2222222222222222,
              "#7201a8"
             ],
             [
              0.3333333333333333,
              "#9c179e"
             ],
             [
              0.4444444444444444,
              "#bd3786"
             ],
             [
              0.5555555555555556,
              "#d8576b"
             ],
             [
              0.6666666666666666,
              "#ed7953"
             ],
             [
              0.7777777777777778,
              "#fb9f3a"
             ],
             [
              0.8888888888888888,
              "#fdca26"
             ],
             [
              1,
              "#f0f921"
             ]
            ],
            "type": "histogram2d"
           }
          ],
          "histogram2dcontour": [
           {
            "colorbar": {
             "outlinewidth": 0,
             "ticks": ""
            },
            "colorscale": [
             [
              0,
              "#0d0887"
             ],
             [
              0.1111111111111111,
              "#46039f"
             ],
             [
              0.2222222222222222,
              "#7201a8"
             ],
             [
              0.3333333333333333,
              "#9c179e"
             ],
             [
              0.4444444444444444,
              "#bd3786"
             ],
             [
              0.5555555555555556,
              "#d8576b"
             ],
             [
              0.6666666666666666,
              "#ed7953"
             ],
             [
              0.7777777777777778,
              "#fb9f3a"
             ],
             [
              0.8888888888888888,
              "#fdca26"
             ],
             [
              1,
              "#f0f921"
             ]
            ],
            "type": "histogram2dcontour"
           }
          ],
          "mesh3d": [
           {
            "colorbar": {
             "outlinewidth": 0,
             "ticks": ""
            },
            "type": "mesh3d"
           }
          ],
          "parcoords": [
           {
            "line": {
             "colorbar": {
              "outlinewidth": 0,
              "ticks": ""
             }
            },
            "type": "parcoords"
           }
          ],
          "pie": [
           {
            "automargin": true,
            "type": "pie"
           }
          ],
          "scatter": [
           {
            "marker": {
             "colorbar": {
              "outlinewidth": 0,
              "ticks": ""
             }
            },
            "type": "scatter"
           }
          ],
          "scatter3d": [
           {
            "line": {
             "colorbar": {
              "outlinewidth": 0,
              "ticks": ""
             }
            },
            "marker": {
             "colorbar": {
              "outlinewidth": 0,
              "ticks": ""
             }
            },
            "type": "scatter3d"
           }
          ],
          "scattercarpet": [
           {
            "marker": {
             "colorbar": {
              "outlinewidth": 0,
              "ticks": ""
             }
            },
            "type": "scattercarpet"
           }
          ],
          "scattergeo": [
           {
            "marker": {
             "colorbar": {
              "outlinewidth": 0,
              "ticks": ""
             }
            },
            "type": "scattergeo"
           }
          ],
          "scattergl": [
           {
            "marker": {
             "colorbar": {
              "outlinewidth": 0,
              "ticks": ""
             }
            },
            "type": "scattergl"
           }
          ],
          "scattermapbox": [
           {
            "marker": {
             "colorbar": {
              "outlinewidth": 0,
              "ticks": ""
             }
            },
            "type": "scattermapbox"
           }
          ],
          "scatterpolar": [
           {
            "marker": {
             "colorbar": {
              "outlinewidth": 0,
              "ticks": ""
             }
            },
            "type": "scatterpolar"
           }
          ],
          "scatterpolargl": [
           {
            "marker": {
             "colorbar": {
              "outlinewidth": 0,
              "ticks": ""
             }
            },
            "type": "scatterpolargl"
           }
          ],
          "scatterternary": [
           {
            "marker": {
             "colorbar": {
              "outlinewidth": 0,
              "ticks": ""
             }
            },
            "type": "scatterternary"
           }
          ],
          "surface": [
           {
            "colorbar": {
             "outlinewidth": 0,
             "ticks": ""
            },
            "colorscale": [
             [
              0,
              "#0d0887"
             ],
             [
              0.1111111111111111,
              "#46039f"
             ],
             [
              0.2222222222222222,
              "#7201a8"
             ],
             [
              0.3333333333333333,
              "#9c179e"
             ],
             [
              0.4444444444444444,
              "#bd3786"
             ],
             [
              0.5555555555555556,
              "#d8576b"
             ],
             [
              0.6666666666666666,
              "#ed7953"
             ],
             [
              0.7777777777777778,
              "#fb9f3a"
             ],
             [
              0.8888888888888888,
              "#fdca26"
             ],
             [
              1,
              "#f0f921"
             ]
            ],
            "type": "surface"
           }
          ],
          "table": [
           {
            "cells": {
             "fill": {
              "color": "#EBF0F8"
             },
             "line": {
              "color": "white"
             }
            },
            "header": {
             "fill": {
              "color": "#C8D4E3"
             },
             "line": {
              "color": "white"
             }
            },
            "type": "table"
           }
          ]
         },
         "layout": {
          "annotationdefaults": {
           "arrowcolor": "#2a3f5f",
           "arrowhead": 0,
           "arrowwidth": 1
          },
          "autotypenumbers": "strict",
          "coloraxis": {
           "colorbar": {
            "outlinewidth": 0,
            "ticks": ""
           }
          },
          "colorscale": {
           "diverging": [
            [
             0,
             "#8e0152"
            ],
            [
             0.1,
             "#c51b7d"
            ],
            [
             0.2,
             "#de77ae"
            ],
            [
             0.3,
             "#f1b6da"
            ],
            [
             0.4,
             "#fde0ef"
            ],
            [
             0.5,
             "#f7f7f7"
            ],
            [
             0.6,
             "#e6f5d0"
            ],
            [
             0.7,
             "#b8e186"
            ],
            [
             0.8,
             "#7fbc41"
            ],
            [
             0.9,
             "#4d9221"
            ],
            [
             1,
             "#276419"
            ]
           ],
           "sequential": [
            [
             0,
             "#0d0887"
            ],
            [
             0.1111111111111111,
             "#46039f"
            ],
            [
             0.2222222222222222,
             "#7201a8"
            ],
            [
             0.3333333333333333,
             "#9c179e"
            ],
            [
             0.4444444444444444,
             "#bd3786"
            ],
            [
             0.5555555555555556,
             "#d8576b"
            ],
            [
             0.6666666666666666,
             "#ed7953"
            ],
            [
             0.7777777777777778,
             "#fb9f3a"
            ],
            [
             0.8888888888888888,
             "#fdca26"
            ],
            [
             1,
             "#f0f921"
            ]
           ],
           "sequentialminus": [
            [
             0,
             "#0d0887"
            ],
            [
             0.1111111111111111,
             "#46039f"
            ],
            [
             0.2222222222222222,
             "#7201a8"
            ],
            [
             0.3333333333333333,
             "#9c179e"
            ],
            [
             0.4444444444444444,
             "#bd3786"
            ],
            [
             0.5555555555555556,
             "#d8576b"
            ],
            [
             0.6666666666666666,
             "#ed7953"
            ],
            [
             0.7777777777777778,
             "#fb9f3a"
            ],
            [
             0.8888888888888888,
             "#fdca26"
            ],
            [
             1,
             "#f0f921"
            ]
           ]
          },
          "colorway": [
           "#636efa",
           "#EF553B",
           "#00cc96",
           "#ab63fa",
           "#FFA15A",
           "#19d3f3",
           "#FF6692",
           "#B6E880",
           "#FF97FF",
           "#FECB52"
          ],
          "font": {
           "color": "#2a3f5f"
          },
          "geo": {
           "bgcolor": "white",
           "lakecolor": "white",
           "landcolor": "#E5ECF6",
           "showlakes": true,
           "showland": true,
           "subunitcolor": "white"
          },
          "hoverlabel": {
           "align": "left"
          },
          "hovermode": "closest",
          "mapbox": {
           "style": "light"
          },
          "paper_bgcolor": "white",
          "plot_bgcolor": "#E5ECF6",
          "polar": {
           "angularaxis": {
            "gridcolor": "white",
            "linecolor": "white",
            "ticks": ""
           },
           "bgcolor": "#E5ECF6",
           "radialaxis": {
            "gridcolor": "white",
            "linecolor": "white",
            "ticks": ""
           }
          },
          "scene": {
           "xaxis": {
            "backgroundcolor": "#E5ECF6",
            "gridcolor": "white",
            "gridwidth": 2,
            "linecolor": "white",
            "showbackground": true,
            "ticks": "",
            "zerolinecolor": "white"
           },
           "yaxis": {
            "backgroundcolor": "#E5ECF6",
            "gridcolor": "white",
            "gridwidth": 2,
            "linecolor": "white",
            "showbackground": true,
            "ticks": "",
            "zerolinecolor": "white"
           },
           "zaxis": {
            "backgroundcolor": "#E5ECF6",
            "gridcolor": "white",
            "gridwidth": 2,
            "linecolor": "white",
            "showbackground": true,
            "ticks": "",
            "zerolinecolor": "white"
           }
          },
          "shapedefaults": {
           "line": {
            "color": "#2a3f5f"
           }
          },
          "ternary": {
           "aaxis": {
            "gridcolor": "white",
            "linecolor": "white",
            "ticks": ""
           },
           "baxis": {
            "gridcolor": "white",
            "linecolor": "white",
            "ticks": ""
           },
           "bgcolor": "#E5ECF6",
           "caxis": {
            "gridcolor": "white",
            "linecolor": "white",
            "ticks": ""
           }
          },
          "title": {
           "x": 0.05
          },
          "xaxis": {
           "automargin": true,
           "gridcolor": "white",
           "linecolor": "white",
           "ticks": "",
           "title": {
            "standoff": 15
           },
           "zerolinecolor": "white",
           "zerolinewidth": 2
          },
          "yaxis": {
           "automargin": true,
           "gridcolor": "white",
           "linecolor": "white",
           "ticks": "",
           "title": {
            "standoff": 15
           },
           "zerolinecolor": "white",
           "zerolinewidth": 2
          }
         }
        },
        "xaxis": {
         "anchor": "y",
         "domain": [
          0,
          1
         ],
         "title": {
          "text": "annais"
         }
        },
        "yaxis": {
         "anchor": "x",
         "domain": [
          0,
          1
         ],
         "title": {
          "text": "preusuel"
         }
        }
       }
      },
      "text/html": [
       "<div>                            <div id=\"22f1b23c-c7c0-4c56-b7bb-4521de2a9276\" class=\"plotly-graph-div\" style=\"height:525px; width:100%;\"></div>            <script type=\"text/javascript\">                require([\"plotly\"], function(Plotly) {                    window.PLOTLYENV=window.PLOTLYENV || {};                                    if (document.getElementById(\"22f1b23c-c7c0-4c56-b7bb-4521de2a9276\")) {                    Plotly.newPlot(                        \"22f1b23c-c7c0-4c56-b7bb-4521de2a9276\",                        [{\"alignmentgroup\":\"True\",\"hovertemplate\":\"annais=%{x}<br>preusuel=%{y}<extra></extra>\",\"legendgroup\":\"\",\"marker\":{\"color\":\"#636efa\",\"pattern\":{\"shape\":\"\"}},\"name\":\"\",\"offsetgroup\":\"\",\"orientation\":\"v\",\"showlegend\":false,\"textposition\":\"auto\",\"x\":[1900,1901,1902,1903,1904,1905,1906,1907,1908,1909,1910,1911,1912,1913,1914,1915,1916,1917,1918,1919,1920,1921,1922,1923,1924,1925,1926,1927,1928,1929,1930,1931,1932,1933,1934,1935,1936,1937,1938,1939,1940,1941,1942,1943,1944,1945,1946,1947,1948,1949,1950,1951,1952,1953,1954,1955,1956,1957,1958,1959,1960,1961,1962,1963,1964,1965,1966,1967,1968,1969,1970,1971,1972,1973,1974,1975,1976,1977,1978,1979,1980,1981,1982,1983,1984,1985,1986,1987,1988,1989,1990,1991,1992,1993,1994,1995,1996,1997,1998,1999,2000,2001,2002,2003,2004,2005,2006,2007,2008,2009,2010,2011,2012,2013,2014,2015,2016,2017,2018,2019,2020],\"xaxis\":\"x\",\"y\":[724,720,722,738,766,774,796,772,827,816,849,830,851,862,832,698,664,700,693,674,830,851,855,920,1005,1057,1076,1090,1038,1038,1075,1060,1057,964,974,945,912,918,915,920,862,829,854,852,873,849,1003,1030,1120,1197,1207,1233,1225,1276,1268,1264,1399,1419,1530,1594,1580,1665,1694,1793,1772,1812,1848,1852,1880,1961,2042,2174,2239,2328,2379,2460,2474,2559,2642,2746,2851,2936,3010,2987,2992,3058,3065,3097,3097,3225,3318,3342,3428,3521,3542,3610,3731,3891,4002,4151,4337,4494,4700,4852,5085,5311,5540,5616,5743,5772,6172,6362,6413,6414,6457,6383,6376,6353,6384,6275,6197],\"yaxis\":\"y\",\"type\":\"bar\"}],                        {\"template\":{\"data\":{\"bar\":[{\"error_x\":{\"color\":\"#2a3f5f\"},\"error_y\":{\"color\":\"#2a3f5f\"},\"marker\":{\"line\":{\"color\":\"#E5ECF6\",\"width\":0.5},\"pattern\":{\"fillmode\":\"overlay\",\"size\":10,\"solidity\":0.2}},\"type\":\"bar\"}],\"barpolar\":[{\"marker\":{\"line\":{\"color\":\"#E5ECF6\",\"width\":0.5},\"pattern\":{\"fillmode\":\"overlay\",\"size\":10,\"solidity\":0.2}},\"type\":\"barpolar\"}],\"carpet\":[{\"aaxis\":{\"endlinecolor\":\"#2a3f5f\",\"gridcolor\":\"white\",\"linecolor\":\"white\",\"minorgridcolor\":\"white\",\"startlinecolor\":\"#2a3f5f\"},\"baxis\":{\"endlinecolor\":\"#2a3f5f\",\"gridcolor\":\"white\",\"linecolor\":\"white\",\"minorgridcolor\":\"white\",\"startlinecolor\":\"#2a3f5f\"},\"type\":\"carpet\"}],\"choropleth\":[{\"colorbar\":{\"outlinewidth\":0,\"ticks\":\"\"},\"type\":\"choropleth\"}],\"contour\":[{\"colorbar\":{\"outlinewidth\":0,\"ticks\":\"\"},\"colorscale\":[[0.0,\"#0d0887\"],[0.1111111111111111,\"#46039f\"],[0.2222222222222222,\"#7201a8\"],[0.3333333333333333,\"#9c179e\"],[0.4444444444444444,\"#bd3786\"],[0.5555555555555556,\"#d8576b\"],[0.6666666666666666,\"#ed7953\"],[0.7777777777777778,\"#fb9f3a\"],[0.8888888888888888,\"#fdca26\"],[1.0,\"#f0f921\"]],\"type\":\"contour\"}],\"contourcarpet\":[{\"colorbar\":{\"outlinewidth\":0,\"ticks\":\"\"},\"type\":\"contourcarpet\"}],\"heatmap\":[{\"colorbar\":{\"outlinewidth\":0,\"ticks\":\"\"},\"colorscale\":[[0.0,\"#0d0887\"],[0.1111111111111111,\"#46039f\"],[0.2222222222222222,\"#7201a8\"],[0.3333333333333333,\"#9c179e\"],[0.4444444444444444,\"#bd3786\"],[0.5555555555555556,\"#d8576b\"],[0.6666666666666666,\"#ed7953\"],[0.7777777777777778,\"#fb9f3a\"],[0.8888888888888888,\"#fdca26\"],[1.0,\"#f0f921\"]],\"type\":\"heatmap\"}],\"heatmapgl\":[{\"colorbar\":{\"outlinewidth\":0,\"ticks\":\"\"},\"colorscale\":[[0.0,\"#0d0887\"],[0.1111111111111111,\"#46039f\"],[0.2222222222222222,\"#7201a8\"],[0.3333333333333333,\"#9c179e\"],[0.4444444444444444,\"#bd3786\"],[0.5555555555555556,\"#d8576b\"],[0.6666666666666666,\"#ed7953\"],[0.7777777777777778,\"#fb9f3a\"],[0.8888888888888888,\"#fdca26\"],[1.0,\"#f0f921\"]],\"type\":\"heatmapgl\"}],\"histogram\":[{\"marker\":{\"pattern\":{\"fillmode\":\"overlay\",\"size\":10,\"solidity\":0.2}},\"type\":\"histogram\"}],\"histogram2d\":[{\"colorbar\":{\"outlinewidth\":0,\"ticks\":\"\"},\"colorscale\":[[0.0,\"#0d0887\"],[0.1111111111111111,\"#46039f\"],[0.2222222222222222,\"#7201a8\"],[0.3333333333333333,\"#9c179e\"],[0.4444444444444444,\"#bd3786\"],[0.5555555555555556,\"#d8576b\"],[0.6666666666666666,\"#ed7953\"],[0.7777777777777778,\"#fb9f3a\"],[0.8888888888888888,\"#fdca26\"],[1.0,\"#f0f921\"]],\"type\":\"histogram2d\"}],\"histogram2dcontour\":[{\"colorbar\":{\"outlinewidth\":0,\"ticks\":\"\"},\"colorscale\":[[0.0,\"#0d0887\"],[0.1111111111111111,\"#46039f\"],[0.2222222222222222,\"#7201a8\"],[0.3333333333333333,\"#9c179e\"],[0.4444444444444444,\"#bd3786\"],[0.5555555555555556,\"#d8576b\"],[0.6666666666666666,\"#ed7953\"],[0.7777777777777778,\"#fb9f3a\"],[0.8888888888888888,\"#fdca26\"],[1.0,\"#f0f921\"]],\"type\":\"histogram2dcontour\"}],\"mesh3d\":[{\"colorbar\":{\"outlinewidth\":0,\"ticks\":\"\"},\"type\":\"mesh3d\"}],\"parcoords\":[{\"line\":{\"colorbar\":{\"outlinewidth\":0,\"ticks\":\"\"}},\"type\":\"parcoords\"}],\"pie\":[{\"automargin\":true,\"type\":\"pie\"}],\"scatter\":[{\"marker\":{\"colorbar\":{\"outlinewidth\":0,\"ticks\":\"\"}},\"type\":\"scatter\"}],\"scatter3d\":[{\"line\":{\"colorbar\":{\"outlinewidth\":0,\"ticks\":\"\"}},\"marker\":{\"colorbar\":{\"outlinewidth\":0,\"ticks\":\"\"}},\"type\":\"scatter3d\"}],\"scattercarpet\":[{\"marker\":{\"colorbar\":{\"outlinewidth\":0,\"ticks\":\"\"}},\"type\":\"scattercarpet\"}],\"scattergeo\":[{\"marker\":{\"colorbar\":{\"outlinewidth\":0,\"ticks\":\"\"}},\"type\":\"scattergeo\"}],\"scattergl\":[{\"marker\":{\"colorbar\":{\"outlinewidth\":0,\"ticks\":\"\"}},\"type\":\"scattergl\"}],\"scattermapbox\":[{\"marker\":{\"colorbar\":{\"outlinewidth\":0,\"ticks\":\"\"}},\"type\":\"scattermapbox\"}],\"scatterpolar\":[{\"marker\":{\"colorbar\":{\"outlinewidth\":0,\"ticks\":\"\"}},\"type\":\"scatterpolar\"}],\"scatterpolargl\":[{\"marker\":{\"colorbar\":{\"outlinewidth\":0,\"ticks\":\"\"}},\"type\":\"scatterpolargl\"}],\"scatterternary\":[{\"marker\":{\"colorbar\":{\"outlinewidth\":0,\"ticks\":\"\"}},\"type\":\"scatterternary\"}],\"surface\":[{\"colorbar\":{\"outlinewidth\":0,\"ticks\":\"\"},\"colorscale\":[[0.0,\"#0d0887\"],[0.1111111111111111,\"#46039f\"],[0.2222222222222222,\"#7201a8\"],[0.3333333333333333,\"#9c179e\"],[0.4444444444444444,\"#bd3786\"],[0.5555555555555556,\"#d8576b\"],[0.6666666666666666,\"#ed7953\"],[0.7777777777777778,\"#fb9f3a\"],[0.8888888888888888,\"#fdca26\"],[1.0,\"#f0f921\"]],\"type\":\"surface\"}],\"table\":[{\"cells\":{\"fill\":{\"color\":\"#EBF0F8\"},\"line\":{\"color\":\"white\"}},\"header\":{\"fill\":{\"color\":\"#C8D4E3\"},\"line\":{\"color\":\"white\"}},\"type\":\"table\"}]},\"layout\":{\"annotationdefaults\":{\"arrowcolor\":\"#2a3f5f\",\"arrowhead\":0,\"arrowwidth\":1},\"autotypenumbers\":\"strict\",\"coloraxis\":{\"colorbar\":{\"outlinewidth\":0,\"ticks\":\"\"}},\"colorscale\":{\"diverging\":[[0,\"#8e0152\"],[0.1,\"#c51b7d\"],[0.2,\"#de77ae\"],[0.3,\"#f1b6da\"],[0.4,\"#fde0ef\"],[0.5,\"#f7f7f7\"],[0.6,\"#e6f5d0\"],[0.7,\"#b8e186\"],[0.8,\"#7fbc41\"],[0.9,\"#4d9221\"],[1,\"#276419\"]],\"sequential\":[[0.0,\"#0d0887\"],[0.1111111111111111,\"#46039f\"],[0.2222222222222222,\"#7201a8\"],[0.3333333333333333,\"#9c179e\"],[0.4444444444444444,\"#bd3786\"],[0.5555555555555556,\"#d8576b\"],[0.6666666666666666,\"#ed7953\"],[0.7777777777777778,\"#fb9f3a\"],[0.8888888888888888,\"#fdca26\"],[1.0,\"#f0f921\"]],\"sequentialminus\":[[0.0,\"#0d0887\"],[0.1111111111111111,\"#46039f\"],[0.2222222222222222,\"#7201a8\"],[0.3333333333333333,\"#9c179e\"],[0.4444444444444444,\"#bd3786\"],[0.5555555555555556,\"#d8576b\"],[0.6666666666666666,\"#ed7953\"],[0.7777777777777778,\"#fb9f3a\"],[0.8888888888888888,\"#fdca26\"],[1.0,\"#f0f921\"]]},\"colorway\":[\"#636efa\",\"#EF553B\",\"#00cc96\",\"#ab63fa\",\"#FFA15A\",\"#19d3f3\",\"#FF6692\",\"#B6E880\",\"#FF97FF\",\"#FECB52\"],\"font\":{\"color\":\"#2a3f5f\"},\"geo\":{\"bgcolor\":\"white\",\"lakecolor\":\"white\",\"landcolor\":\"#E5ECF6\",\"showlakes\":true,\"showland\":true,\"subunitcolor\":\"white\"},\"hoverlabel\":{\"align\":\"left\"},\"hovermode\":\"closest\",\"mapbox\":{\"style\":\"light\"},\"paper_bgcolor\":\"white\",\"plot_bgcolor\":\"#E5ECF6\",\"polar\":{\"angularaxis\":{\"gridcolor\":\"white\",\"linecolor\":\"white\",\"ticks\":\"\"},\"bgcolor\":\"#E5ECF6\",\"radialaxis\":{\"gridcolor\":\"white\",\"linecolor\":\"white\",\"ticks\":\"\"}},\"scene\":{\"xaxis\":{\"backgroundcolor\":\"#E5ECF6\",\"gridcolor\":\"white\",\"gridwidth\":2,\"linecolor\":\"white\",\"showbackground\":true,\"ticks\":\"\",\"zerolinecolor\":\"white\"},\"yaxis\":{\"backgroundcolor\":\"#E5ECF6\",\"gridcolor\":\"white\",\"gridwidth\":2,\"linecolor\":\"white\",\"showbackground\":true,\"ticks\":\"\",\"zerolinecolor\":\"white\"},\"zaxis\":{\"backgroundcolor\":\"#E5ECF6\",\"gridcolor\":\"white\",\"gridwidth\":2,\"linecolor\":\"white\",\"showbackground\":true,\"ticks\":\"\",\"zerolinecolor\":\"white\"}},\"shapedefaults\":{\"line\":{\"color\":\"#2a3f5f\"}},\"ternary\":{\"aaxis\":{\"gridcolor\":\"white\",\"linecolor\":\"white\",\"ticks\":\"\"},\"baxis\":{\"gridcolor\":\"white\",\"linecolor\":\"white\",\"ticks\":\"\"},\"bgcolor\":\"#E5ECF6\",\"caxis\":{\"gridcolor\":\"white\",\"linecolor\":\"white\",\"ticks\":\"\"}},\"title\":{\"x\":0.05},\"xaxis\":{\"automargin\":true,\"gridcolor\":\"white\",\"linecolor\":\"white\",\"ticks\":\"\",\"title\":{\"standoff\":15},\"zerolinecolor\":\"white\",\"zerolinewidth\":2},\"yaxis\":{\"automargin\":true,\"gridcolor\":\"white\",\"linecolor\":\"white\",\"ticks\":\"\",\"title\":{\"standoff\":15},\"zerolinecolor\":\"white\",\"zerolinewidth\":2}}},\"xaxis\":{\"anchor\":\"y\",\"domain\":[0.0,1.0],\"title\":{\"text\":\"annais\"}},\"yaxis\":{\"anchor\":\"x\",\"domain\":[0.0,1.0],\"title\":{\"text\":\"preusuel\"}},\"legend\":{\"tracegroupgap\":0},\"margin\":{\"t\":60},\"barmode\":\"relative\"},                        {\"responsive\": true}                    ).then(function(){\n",
       "                            \n",
       "var gd = document.getElementById('22f1b23c-c7c0-4c56-b7bb-4521de2a9276');\n",
       "var x = new MutationObserver(function (mutations, observer) {{\n",
       "        var display = window.getComputedStyle(gd).display;\n",
       "        if (!display || display === 'none') {{\n",
       "            console.log([gd, 'removed!']);\n",
       "            Plotly.purge(gd);\n",
       "            observer.disconnect();\n",
       "        }}\n",
       "}});\n",
       "\n",
       "// Listen for the removal of the full notebook cells\n",
       "var notebookContainer = gd.closest('#notebook-container');\n",
       "if (notebookContainer) {{\n",
       "    x.observe(notebookContainer, {childList: true});\n",
       "}}\n",
       "\n",
       "// Listen for the clearing of the current output cell\n",
       "var outputEl = gd.closest('.output');\n",
       "if (outputEl) {{\n",
       "    x.observe(outputEl, {childList: true});\n",
       "}}\n",
       "\n",
       "                        })                };                });            </script>        </div>"
      ]
     },
     "metadata": {},
     "output_type": "display_data"
    }
   ],
   "source": [
    "df_total_prenoms_annees = df_nat[df_nat.sexe == 1].groupby('annais').agg({'preusuel' : 'count'})\n",
    "display(df_total_prenoms_annees.tail())\n",
    "px.bar(df_total_prenoms_annees, y='preusuel')"
   ]
  },
  {
   "cell_type": "markdown",
   "id": "c0469a29-38a6-4e08-be28-9f7b8555188a",
   "metadata": {},
   "source": [
    "# Prénoms par périodes"
   ]
  },
  {
   "cell_type": "markdown",
   "id": "a9b3258f-e292-4f22-b00c-dec83e5c307d",
   "metadata": {},
   "source": [
    "## Récent "
   ]
  },
  {
   "cell_type": "code",
   "execution_count": 37,
   "id": "822dcd6b-b77e-4dba-a0c3-31d490958023",
   "metadata": {},
   "outputs": [
    {
     "data": {
      "text/html": [
       "<div>\n",
       "<style scoped>\n",
       "    .dataframe tbody tr th:only-of-type {\n",
       "        vertical-align: middle;\n",
       "    }\n",
       "\n",
       "    .dataframe tbody tr th {\n",
       "        vertical-align: top;\n",
       "    }\n",
       "\n",
       "    .dataframe thead th {\n",
       "        text-align: right;\n",
       "    }\n",
       "</style>\n",
       "<table border=\"1\" class=\"dataframe\">\n",
       "  <thead>\n",
       "    <tr style=\"text-align: right;\">\n",
       "      <th></th>\n",
       "      <th>nombre</th>\n",
       "    </tr>\n",
       "    <tr>\n",
       "      <th>preusuel</th>\n",
       "      <th></th>\n",
       "    </tr>\n",
       "  </thead>\n",
       "  <tbody>\n",
       "    <tr>\n",
       "      <th>_prenoms_rares</th>\n",
       "      <td>241526</td>\n",
       "    </tr>\n",
       "    <tr>\n",
       "      <th>gabriel</th>\n",
       "      <td>52332</td>\n",
       "    </tr>\n",
       "    <tr>\n",
       "      <th>leo</th>\n",
       "      <td>48692</td>\n",
       "    </tr>\n",
       "    <tr>\n",
       "      <th>lucas</th>\n",
       "      <td>47633</td>\n",
       "    </tr>\n",
       "    <tr>\n",
       "      <th>raphael</th>\n",
       "      <td>45944</td>\n",
       "    </tr>\n",
       "    <tr>\n",
       "      <th>louis</th>\n",
       "      <td>45935</td>\n",
       "    </tr>\n",
       "    <tr>\n",
       "      <th>jules</th>\n",
       "      <td>42799</td>\n",
       "    </tr>\n",
       "    <tr>\n",
       "      <th>hugo</th>\n",
       "      <td>41919</td>\n",
       "    </tr>\n",
       "    <tr>\n",
       "      <th>adam</th>\n",
       "      <td>41127</td>\n",
       "    </tr>\n",
       "    <tr>\n",
       "      <th>ethan</th>\n",
       "      <td>39382</td>\n",
       "    </tr>\n",
       "    <tr>\n",
       "      <th>nathan</th>\n",
       "      <td>39104</td>\n",
       "    </tr>\n",
       "    <tr>\n",
       "      <th>arthur</th>\n",
       "      <td>38503</td>\n",
       "    </tr>\n",
       "    <tr>\n",
       "      <th>mael</th>\n",
       "      <td>34617</td>\n",
       "    </tr>\n",
       "    <tr>\n",
       "      <th>enzo</th>\n",
       "      <td>31959</td>\n",
       "    </tr>\n",
       "    <tr>\n",
       "      <th>paul</th>\n",
       "      <td>31612</td>\n",
       "    </tr>\n",
       "    <tr>\n",
       "      <th>nolan</th>\n",
       "      <td>30434</td>\n",
       "    </tr>\n",
       "    <tr>\n",
       "      <th>timeo</th>\n",
       "      <td>30069</td>\n",
       "    </tr>\n",
       "    <tr>\n",
       "      <th>tom</th>\n",
       "      <td>29521</td>\n",
       "    </tr>\n",
       "    <tr>\n",
       "      <th>sacha</th>\n",
       "      <td>29335</td>\n",
       "    </tr>\n",
       "    <tr>\n",
       "      <th>liam</th>\n",
       "      <td>29292</td>\n",
       "    </tr>\n",
       "    <tr>\n",
       "      <th>noah</th>\n",
       "      <td>29192</td>\n",
       "    </tr>\n",
       "    <tr>\n",
       "      <th>theo</th>\n",
       "      <td>29063</td>\n",
       "    </tr>\n",
       "    <tr>\n",
       "      <th>mathis</th>\n",
       "      <td>26707</td>\n",
       "    </tr>\n",
       "    <tr>\n",
       "      <th>gabin</th>\n",
       "      <td>26278</td>\n",
       "    </tr>\n",
       "    <tr>\n",
       "      <th>mohamed</th>\n",
       "      <td>24926</td>\n",
       "    </tr>\n",
       "    <tr>\n",
       "      <th>clement</th>\n",
       "      <td>23595</td>\n",
       "    </tr>\n",
       "    <tr>\n",
       "      <th>noe</th>\n",
       "      <td>22790</td>\n",
       "    </tr>\n",
       "    <tr>\n",
       "      <th>axel</th>\n",
       "      <td>22538</td>\n",
       "    </tr>\n",
       "    <tr>\n",
       "      <th>aaron</th>\n",
       "      <td>21363</td>\n",
       "    </tr>\n",
       "    <tr>\n",
       "      <th>maxime</th>\n",
       "      <td>21301</td>\n",
       "    </tr>\n",
       "    <tr>\n",
       "      <th>antoine</th>\n",
       "      <td>21138</td>\n",
       "    </tr>\n",
       "    <tr>\n",
       "      <th>matheo</th>\n",
       "      <td>20451</td>\n",
       "    </tr>\n",
       "    <tr>\n",
       "      <th>yanis</th>\n",
       "      <td>19909</td>\n",
       "    </tr>\n",
       "    <tr>\n",
       "      <th>baptiste</th>\n",
       "      <td>19878</td>\n",
       "    </tr>\n",
       "    <tr>\n",
       "      <th>victor</th>\n",
       "      <td>19647</td>\n",
       "    </tr>\n",
       "    <tr>\n",
       "      <th>martin</th>\n",
       "      <td>18707</td>\n",
       "    </tr>\n",
       "    <tr>\n",
       "      <th>evan</th>\n",
       "      <td>18572</td>\n",
       "    </tr>\n",
       "    <tr>\n",
       "      <th>valentin</th>\n",
       "      <td>18523</td>\n",
       "    </tr>\n",
       "    <tr>\n",
       "      <th>robin</th>\n",
       "      <td>18456</td>\n",
       "    </tr>\n",
       "    <tr>\n",
       "      <th>rayan</th>\n",
       "      <td>18109</td>\n",
       "    </tr>\n",
       "    <tr>\n",
       "      <th>thomas</th>\n",
       "      <td>18100</td>\n",
       "    </tr>\n",
       "    <tr>\n",
       "      <th>maxence</th>\n",
       "      <td>17673</td>\n",
       "    </tr>\n",
       "    <tr>\n",
       "      <th>eden</th>\n",
       "      <td>17257</td>\n",
       "    </tr>\n",
       "    <tr>\n",
       "      <th>nael</th>\n",
       "      <td>16932</td>\n",
       "    </tr>\n",
       "    <tr>\n",
       "      <th>alexandre</th>\n",
       "      <td>16497</td>\n",
       "    </tr>\n",
       "    <tr>\n",
       "      <th>samuel</th>\n",
       "      <td>15786</td>\n",
       "    </tr>\n",
       "    <tr>\n",
       "      <th>marius</th>\n",
       "      <td>15556</td>\n",
       "    </tr>\n",
       "    <tr>\n",
       "      <th>leon</th>\n",
       "      <td>15217</td>\n",
       "    </tr>\n",
       "    <tr>\n",
       "      <th>tiago</th>\n",
       "      <td>14863</td>\n",
       "    </tr>\n",
       "    <tr>\n",
       "      <th>simon</th>\n",
       "      <td>14679</td>\n",
       "    </tr>\n",
       "  </tbody>\n",
       "</table>\n",
       "</div>"
      ],
      "text/plain": [
       "                nombre\n",
       "preusuel              \n",
       "_prenoms_rares  241526\n",
       "gabriel          52332\n",
       "leo              48692\n",
       "lucas            47633\n",
       "raphael          45944\n",
       "louis            45935\n",
       "jules            42799\n",
       "hugo             41919\n",
       "adam             41127\n",
       "ethan            39382\n",
       "nathan           39104\n",
       "arthur           38503\n",
       "mael             34617\n",
       "enzo             31959\n",
       "paul             31612\n",
       "nolan            30434\n",
       "timeo            30069\n",
       "tom              29521\n",
       "sacha            29335\n",
       "liam             29292\n",
       "noah             29192\n",
       "theo             29063\n",
       "mathis           26707\n",
       "gabin            26278\n",
       "mohamed          24926\n",
       "clement          23595\n",
       "noe              22790\n",
       "axel             22538\n",
       "aaron            21363\n",
       "maxime           21301\n",
       "antoine          21138\n",
       "matheo           20451\n",
       "yanis            19909\n",
       "baptiste         19878\n",
       "victor           19647\n",
       "martin           18707\n",
       "evan             18572\n",
       "valentin         18523\n",
       "robin            18456\n",
       "rayan            18109\n",
       "thomas           18100\n",
       "maxence          17673\n",
       "eden             17257\n",
       "nael             16932\n",
       "alexandre        16497\n",
       "samuel           15786\n",
       "marius           15556\n",
       "leon             15217\n",
       "tiago            14863\n",
       "simon            14679"
      ]
     },
     "execution_count": 37,
     "metadata": {},
     "output_type": "execute_result"
    }
   ],
   "source": [
    "nb_annees = 10\n",
    "n_display = 50\n",
    "df_last_years = df_nat[(df_nat.annais.isin([year for year in range(2021 - nb_annees, 2021)])) & (df_nat.sexe == 1)]\n",
    "df_last_years.groupby(['preusuel']).agg({'nombre' : sum}).sort_values(by='nombre', ascending=False).head(n_display)"
   ]
  },
  {
   "cell_type": "code",
   "execution_count": 176,
   "id": "b626ed2b-4fc3-4d5e-a58e-da6b3216e3cb",
   "metadata": {},
   "outputs": [
    {
     "data": {
      "text/html": [
       "<div>\n",
       "<style scoped>\n",
       "    .dataframe tbody tr th:only-of-type {\n",
       "        vertical-align: middle;\n",
       "    }\n",
       "\n",
       "    .dataframe tbody tr th {\n",
       "        vertical-align: top;\n",
       "    }\n",
       "\n",
       "    .dataframe thead th {\n",
       "        text-align: right;\n",
       "    }\n",
       "</style>\n",
       "<table border=\"1\" class=\"dataframe\">\n",
       "  <thead>\n",
       "    <tr style=\"text-align: right;\">\n",
       "      <th></th>\n",
       "      <th>last_10</th>\n",
       "      <th>last_3</th>\n",
       "    </tr>\n",
       "    <tr>\n",
       "      <th>preusuel</th>\n",
       "      <th></th>\n",
       "      <th></th>\n",
       "    </tr>\n",
       "  </thead>\n",
       "  <tbody>\n",
       "    <tr>\n",
       "      <th>_prenoms_rares</th>\n",
       "      <td>50244</td>\n",
       "      <td>52740.0</td>\n",
       "    </tr>\n",
       "    <tr>\n",
       "      <th>gabriel</th>\n",
       "      <td>5233</td>\n",
       "      <td>4969.0</td>\n",
       "    </tr>\n",
       "    <tr>\n",
       "      <th>leo</th>\n",
       "      <td>4873</td>\n",
       "      <td>4789.0</td>\n",
       "    </tr>\n",
       "    <tr>\n",
       "      <th>lucas</th>\n",
       "      <td>4763</td>\n",
       "      <td>3657.0</td>\n",
       "    </tr>\n",
       "    <tr>\n",
       "      <th>emma</th>\n",
       "      <td>4625</td>\n",
       "      <td>3945.0</td>\n",
       "    </tr>\n",
       "    <tr>\n",
       "      <th>raphael</th>\n",
       "      <td>4594</td>\n",
       "      <td>4552.0</td>\n",
       "    </tr>\n",
       "    <tr>\n",
       "      <th>louis</th>\n",
       "      <td>4593</td>\n",
       "      <td>4061.0</td>\n",
       "    </tr>\n",
       "    <tr>\n",
       "      <th>jules</th>\n",
       "      <td>4279</td>\n",
       "      <td>3597.0</td>\n",
       "    </tr>\n",
       "    <tr>\n",
       "      <th>hugo</th>\n",
       "      <td>4191</td>\n",
       "      <td>3437.0</td>\n",
       "    </tr>\n",
       "    <tr>\n",
       "      <th>jade</th>\n",
       "      <td>4182</td>\n",
       "      <td>3877.0</td>\n",
       "    </tr>\n",
       "    <tr>\n",
       "      <th>louise</th>\n",
       "      <td>4158</td>\n",
       "      <td>3788.0</td>\n",
       "    </tr>\n",
       "    <tr>\n",
       "      <th>adam</th>\n",
       "      <td>4115</td>\n",
       "      <td>3658.0</td>\n",
       "    </tr>\n",
       "    <tr>\n",
       "      <th>ethan</th>\n",
       "      <td>3938</td>\n",
       "      <td>2895.0</td>\n",
       "    </tr>\n",
       "    <tr>\n",
       "      <th>chloe</th>\n",
       "      <td>3912</td>\n",
       "      <td>2928.0</td>\n",
       "    </tr>\n",
       "    <tr>\n",
       "      <th>nathan</th>\n",
       "      <td>3910</td>\n",
       "      <td>2638.0</td>\n",
       "    </tr>\n",
       "    <tr>\n",
       "      <th>arthur</th>\n",
       "      <td>3850</td>\n",
       "      <td>3853.0</td>\n",
       "    </tr>\n",
       "    <tr>\n",
       "      <th>camille</th>\n",
       "      <td>3795</td>\n",
       "      <td>2893.0</td>\n",
       "    </tr>\n",
       "    <tr>\n",
       "      <th>ines</th>\n",
       "      <td>3736</td>\n",
       "      <td>2791.0</td>\n",
       "    </tr>\n",
       "    <tr>\n",
       "      <th>lea</th>\n",
       "      <td>3624</td>\n",
       "      <td>2705.0</td>\n",
       "    </tr>\n",
       "    <tr>\n",
       "      <th>mael</th>\n",
       "      <td>3469</td>\n",
       "      <td>3501.0</td>\n",
       "    </tr>\n",
       "    <tr>\n",
       "      <th>manon</th>\n",
       "      <td>3201</td>\n",
       "      <td>1883.0</td>\n",
       "    </tr>\n",
       "    <tr>\n",
       "      <th>enzo</th>\n",
       "      <td>3196</td>\n",
       "      <td>1830.0</td>\n",
       "    </tr>\n",
       "    <tr>\n",
       "      <th>paul</th>\n",
       "      <td>3161</td>\n",
       "      <td>2770.0</td>\n",
       "    </tr>\n",
       "    <tr>\n",
       "      <th>lina</th>\n",
       "      <td>3140</td>\n",
       "      <td>2865.0</td>\n",
       "    </tr>\n",
       "    <tr>\n",
       "      <th>alice</th>\n",
       "      <td>3095</td>\n",
       "      <td>3198.0</td>\n",
       "    </tr>\n",
       "    <tr>\n",
       "      <th>nolan</th>\n",
       "      <td>3043</td>\n",
       "      <td>1835.0</td>\n",
       "    </tr>\n",
       "    <tr>\n",
       "      <th>lena</th>\n",
       "      <td>3033</td>\n",
       "      <td>2380.0</td>\n",
       "    </tr>\n",
       "    <tr>\n",
       "      <th>sacha</th>\n",
       "      <td>3022</td>\n",
       "      <td>2721.0</td>\n",
       "    </tr>\n",
       "    <tr>\n",
       "      <th>timeo</th>\n",
       "      <td>3006</td>\n",
       "      <td>1942.0</td>\n",
       "    </tr>\n",
       "    <tr>\n",
       "      <th>tom</th>\n",
       "      <td>2952</td>\n",
       "      <td>2368.0</td>\n",
       "    </tr>\n",
       "    <tr>\n",
       "      <th>lola</th>\n",
       "      <td>2937</td>\n",
       "      <td>1841.0</td>\n",
       "    </tr>\n",
       "    <tr>\n",
       "      <th>liam</th>\n",
       "      <td>2933</td>\n",
       "      <td>3020.0</td>\n",
       "    </tr>\n",
       "    <tr>\n",
       "      <th>noah</th>\n",
       "      <td>2931</td>\n",
       "      <td>2792.0</td>\n",
       "    </tr>\n",
       "    <tr>\n",
       "      <th>theo</th>\n",
       "      <td>2906</td>\n",
       "      <td>2158.0</td>\n",
       "    </tr>\n",
       "    <tr>\n",
       "      <th>zoe</th>\n",
       "      <td>2771</td>\n",
       "      <td>2014.0</td>\n",
       "    </tr>\n",
       "    <tr>\n",
       "      <th>mathis</th>\n",
       "      <td>2670</td>\n",
       "      <td>1929.0</td>\n",
       "    </tr>\n",
       "    <tr>\n",
       "      <th>gabin</th>\n",
       "      <td>2627</td>\n",
       "      <td>2715.0</td>\n",
       "    </tr>\n",
       "    <tr>\n",
       "      <th>mohamed</th>\n",
       "      <td>2492</td>\n",
       "      <td>2445.0</td>\n",
       "    </tr>\n",
       "    <tr>\n",
       "      <th>sarah</th>\n",
       "      <td>2422</td>\n",
       "      <td>1541.0</td>\n",
       "    </tr>\n",
       "    <tr>\n",
       "      <th>ambre</th>\n",
       "      <td>2364</td>\n",
       "      <td>2585.0</td>\n",
       "    </tr>\n",
       "    <tr>\n",
       "      <th>clement</th>\n",
       "      <td>2359</td>\n",
       "      <td>1465.0</td>\n",
       "    </tr>\n",
       "    <tr>\n",
       "      <th>eden</th>\n",
       "      <td>2351</td>\n",
       "      <td>2846.0</td>\n",
       "    </tr>\n",
       "    <tr>\n",
       "      <th>anna</th>\n",
       "      <td>2287</td>\n",
       "      <td>2506.0</td>\n",
       "    </tr>\n",
       "    <tr>\n",
       "      <th>noe</th>\n",
       "      <td>2280</td>\n",
       "      <td>2197.0</td>\n",
       "    </tr>\n",
       "    <tr>\n",
       "      <th>rose</th>\n",
       "      <td>2264</td>\n",
       "      <td>2694.0</td>\n",
       "    </tr>\n",
       "    <tr>\n",
       "      <th>juliette</th>\n",
       "      <td>2260</td>\n",
       "      <td>2028.0</td>\n",
       "    </tr>\n",
       "    <tr>\n",
       "      <th>axel</th>\n",
       "      <td>2254</td>\n",
       "      <td>1827.0</td>\n",
       "    </tr>\n",
       "    <tr>\n",
       "      <th>eva</th>\n",
       "      <td>2252</td>\n",
       "      <td>1930.0</td>\n",
       "    </tr>\n",
       "    <tr>\n",
       "      <th>julia</th>\n",
       "      <td>2195</td>\n",
       "      <td>2334.0</td>\n",
       "    </tr>\n",
       "    <tr>\n",
       "      <th>mila</th>\n",
       "      <td>2195</td>\n",
       "      <td>2528.0</td>\n",
       "    </tr>\n",
       "  </tbody>\n",
       "</table>\n",
       "</div>"
      ],
      "text/plain": [
       "                last_10   last_3\n",
       "preusuel                        \n",
       "_prenoms_rares    50244  52740.0\n",
       "gabriel            5233   4969.0\n",
       "leo                4873   4789.0\n",
       "lucas              4763   3657.0\n",
       "emma               4625   3945.0\n",
       "raphael            4594   4552.0\n",
       "louis              4593   4061.0\n",
       "jules              4279   3597.0\n",
       "hugo               4191   3437.0\n",
       "jade               4182   3877.0\n",
       "louise             4158   3788.0\n",
       "adam               4115   3658.0\n",
       "ethan              3938   2895.0\n",
       "chloe              3912   2928.0\n",
       "nathan             3910   2638.0\n",
       "arthur             3850   3853.0\n",
       "camille            3795   2893.0\n",
       "ines               3736   2791.0\n",
       "lea                3624   2705.0\n",
       "mael               3469   3501.0\n",
       "manon              3201   1883.0\n",
       "enzo               3196   1830.0\n",
       "paul               3161   2770.0\n",
       "lina               3140   2865.0\n",
       "alice              3095   3198.0\n",
       "nolan              3043   1835.0\n",
       "lena               3033   2380.0\n",
       "sacha              3022   2721.0\n",
       "timeo              3006   1942.0\n",
       "tom                2952   2368.0\n",
       "lola               2937   1841.0\n",
       "liam               2933   3020.0\n",
       "noah               2931   2792.0\n",
       "theo               2906   2158.0\n",
       "zoe                2771   2014.0\n",
       "mathis             2670   1929.0\n",
       "gabin              2627   2715.0\n",
       "mohamed            2492   2445.0\n",
       "sarah              2422   1541.0\n",
       "ambre              2364   2585.0\n",
       "clement            2359   1465.0\n",
       "eden               2351   2846.0\n",
       "anna               2287   2506.0\n",
       "noe                2280   2197.0\n",
       "rose               2264   2694.0\n",
       "juliette           2260   2028.0\n",
       "axel               2254   1827.0\n",
       "eva                2252   1930.0\n",
       "julia              2195   2334.0\n",
       "mila               2195   2528.0"
      ]
     },
     "execution_count": 176,
     "metadata": {},
     "output_type": "execute_result"
    }
   ],
   "source": [
    "n_display = 50\n",
    "df_last_3 = df_nat[(df_nat.annais.isin([year for year in range(2021 - 3, 2021)])) & (df_nat.sexe.isin([1, 2]))]\n",
    "df_gb_3 = df_last_3.groupby(['preusuel']).agg(last_3=('nombre', sum)).sort_values(by='last_3', ascending=False).last_3.apply(lambda x: int(x / 3))\n",
    "df_last_10 = df_nat[(df_nat.annais.isin([year for year in range(2021 - 10, 2021)])) & (df_nat.sexe.isin([1, 2]))]\n",
    "df_gb_10 = df_last_10.groupby(['preusuel']).agg(last_10=('nombre', sum)).sort_values(by='last_10', ascending=False).last_10.apply(lambda x: int(x / 10))\n",
    "df_compare = pd.concat((df_gb_10, df_gb_3), axis=1)\n",
    "df_compare.head(n_display)"
   ]
  },
  {
   "cell_type": "code",
   "execution_count": 180,
   "id": "00fc0b8c",
   "metadata": {},
   "outputs": [
    {
     "data": {
      "text/html": [
       "<div>\n",
       "<style scoped>\n",
       "    .dataframe tbody tr th:only-of-type {\n",
       "        vertical-align: middle;\n",
       "    }\n",
       "\n",
       "    .dataframe tbody tr th {\n",
       "        vertical-align: top;\n",
       "    }\n",
       "\n",
       "    .dataframe thead th {\n",
       "        text-align: right;\n",
       "    }\n",
       "</style>\n",
       "<table border=\"1\" class=\"dataframe\">\n",
       "  <thead>\n",
       "    <tr style=\"text-align: right;\">\n",
       "      <th></th>\n",
       "      <th>preusuel</th>\n",
       "      <th>total</th>\n",
       "      <th>sexe</th>\n",
       "      <th>nombre</th>\n",
       "      <th>prop_sexe</th>\n",
       "      <th>number_color</th>\n",
       "      <th>color</th>\n",
       "    </tr>\n",
       "  </thead>\n",
       "  <tbody>\n",
       "    <tr>\n",
       "      <th>1259</th>\n",
       "      <td>alice</td>\n",
       "      <td>198863</td>\n",
       "      <td>2</td>\n",
       "      <td>198817</td>\n",
       "      <td>0.999769</td>\n",
       "      <td>2</td>\n",
       "      <td>pink</td>\n",
       "    </tr>\n",
       "    <tr>\n",
       "      <th>4603</th>\n",
       "      <td>camille</td>\n",
       "      <td>282947</td>\n",
       "      <td>2</td>\n",
       "      <td>205213</td>\n",
       "      <td>0.725270</td>\n",
       "      <td>3</td>\n",
       "      <td>plum</td>\n",
       "    </tr>\n",
       "    <tr>\n",
       "      <th>8306</th>\n",
       "      <td>emma</td>\n",
       "      <td>162435</td>\n",
       "      <td>2</td>\n",
       "      <td>162326</td>\n",
       "      <td>0.999329</td>\n",
       "      <td>2</td>\n",
       "      <td>pink</td>\n",
       "    </tr>\n",
       "    <tr>\n",
       "      <th>11974</th>\n",
       "      <td>hugo</td>\n",
       "      <td>145770</td>\n",
       "      <td>1</td>\n",
       "      <td>145770</td>\n",
       "      <td>1.000000</td>\n",
       "      <td>1</td>\n",
       "      <td>lightskyblue</td>\n",
       "    </tr>\n",
       "    <tr>\n",
       "      <th>12988</th>\n",
       "      <td>jade</td>\n",
       "      <td>94466</td>\n",
       "      <td>2</td>\n",
       "      <td>94218</td>\n",
       "      <td>0.997375</td>\n",
       "      <td>2</td>\n",
       "      <td>pink</td>\n",
       "    </tr>\n",
       "    <tr>\n",
       "      <th>13197</th>\n",
       "      <td>janne</td>\n",
       "      <td>145</td>\n",
       "      <td>2</td>\n",
       "      <td>145</td>\n",
       "      <td>1.000000</td>\n",
       "      <td>2</td>\n",
       "      <td>pink</td>\n",
       "    </tr>\n",
       "    <tr>\n",
       "      <th>17600</th>\n",
       "      <td>louis</td>\n",
       "      <td>525425</td>\n",
       "      <td>1</td>\n",
       "      <td>525309</td>\n",
       "      <td>0.999779</td>\n",
       "      <td>1</td>\n",
       "      <td>lightskyblue</td>\n",
       "    </tr>\n",
       "    <tr>\n",
       "      <th>26177</th>\n",
       "      <td>sacha</td>\n",
       "      <td>56927</td>\n",
       "      <td>1</td>\n",
       "      <td>53561</td>\n",
       "      <td>0.940872</td>\n",
       "      <td>3</td>\n",
       "      <td>plum</td>\n",
       "    </tr>\n",
       "  </tbody>\n",
       "</table>\n",
       "</div>"
      ],
      "text/plain": [
       "      preusuel   total  sexe  nombre  prop_sexe  number_color         color\n",
       "1259     alice  198863     2  198817   0.999769             2          pink\n",
       "4603   camille  282947     2  205213   0.725270             3          plum\n",
       "8306      emma  162435     2  162326   0.999329             2          pink\n",
       "11974     hugo  145770     1  145770   1.000000             1  lightskyblue\n",
       "12988     jade   94466     2   94218   0.997375             2          pink\n",
       "13197    janne     145     2     145   1.000000             2          pink\n",
       "17600    louis  525425     1  525309   0.999779             1  lightskyblue\n",
       "26177    sacha   56927     1   53561   0.940872             3          plum"
      ]
     },
     "metadata": {},
     "output_type": "display_data"
    },
    {
     "data": {
      "text/plain": [
       "{'_prenoms_rares': 'plum',\n",
       " 'a': 'lightskyblue',\n",
       " 'aadam': 'lightskyblue',\n",
       " 'aadel': 'lightskyblue',\n",
       " 'aadil': 'lightskyblue',\n",
       " 'aahil': 'lightskyblue',\n",
       " 'aakash': 'lightskyblue',\n",
       " 'aaleyah': 'pink',\n",
       " 'aalia': 'pink',\n",
       " 'aaliya': 'pink',\n",
       " 'aaliyah': 'pink',\n",
       " 'aalya': 'pink',\n",
       " 'aalyah': 'pink',\n",
       " 'aanor': 'pink',\n",
       " 'aarav': 'lightskyblue',\n",
       " 'aaricia': 'pink',\n",
       " 'aaron': 'lightskyblue',\n",
       " 'aarone': 'lightskyblue',\n",
       " 'aaronn': 'lightskyblue',\n",
       " 'aaroun': 'lightskyblue',\n",
       " 'aarush': 'lightskyblue',\n",
       " 'aaya': 'pink',\n",
       " 'aayan': 'lightskyblue',\n",
       " 'aaziz': 'lightskyblue',\n",
       " 'ab': 'lightskyblue',\n",
       " 'ab-del': 'lightskyblue',\n",
       " 'ababacar': 'lightskyblue',\n",
       " 'abakar': 'lightskyblue',\n",
       " 'abane': 'lightskyblue',\n",
       " 'abas': 'lightskyblue',\n",
       " 'abass': 'lightskyblue',\n",
       " 'abasse': 'lightskyblue',\n",
       " 'abassia': 'pink',\n",
       " 'abbas': 'lightskyblue',\n",
       " 'abbes': 'lightskyblue',\n",
       " 'abbie': 'pink',\n",
       " 'abbigaelle': 'pink',\n",
       " 'abby': 'pink',\n",
       " 'abby-gaelle': 'pink',\n",
       " 'abbygael': 'pink',\n",
       " 'abbygaelle': 'pink',\n",
       " 'abbygail': 'pink',\n",
       " 'abd': 'lightskyblue',\n",
       " \"abd'allah\": 'lightskyblue',\n",
       " 'abd-allah': 'lightskyblue',\n",
       " 'abd-el': 'lightskyblue',\n",
       " 'abd-el-kader': 'lightskyblue',\n",
       " 'abd-el-krim': 'lightskyblue',\n",
       " 'abd-el-rahman': 'lightskyblue',\n",
       " 'abd-rahim': 'lightskyblue',\n",
       " 'abd-rahman': 'lightskyblue',\n",
       " 'abd-samad': 'lightskyblue',\n",
       " 'abdala': 'lightskyblue',\n",
       " 'abdalah': 'lightskyblue',\n",
       " 'abdalaye': 'lightskyblue',\n",
       " 'abdalha': 'lightskyblue',\n",
       " 'abdalla': 'lightskyblue',\n",
       " 'abdallah': 'lightskyblue',\n",
       " 'abdalrahman': 'lightskyblue',\n",
       " 'abdarahim': 'lightskyblue',\n",
       " 'abdarahman': 'lightskyblue',\n",
       " 'abdarahmane': 'lightskyblue',\n",
       " 'abdarrahman': 'lightskyblue',\n",
       " 'abdassamad': 'lightskyblue',\n",
       " 'abde': 'lightskyblue',\n",
       " 'abdel': 'lightskyblue',\n",
       " 'abdel-akim': 'lightskyblue',\n",
       " 'abdel-ali': 'lightskyblue',\n",
       " 'abdel-aziz': 'lightskyblue',\n",
       " 'abdel-djalil': 'lightskyblue',\n",
       " 'abdel-ghani': 'lightskyblue',\n",
       " 'abdel-hadi': 'lightskyblue',\n",
       " 'abdel-hafid': 'lightskyblue',\n",
       " 'abdel-hakim': 'lightskyblue',\n",
       " 'abdel-halim': 'lightskyblue',\n",
       " 'abdel-hamid': 'lightskyblue',\n",
       " 'abdel-ilah': 'lightskyblue',\n",
       " 'abdel-illah': 'lightskyblue',\n",
       " 'abdel-jalil': 'lightskyblue',\n",
       " 'abdel-kader': 'lightskyblue',\n",
       " 'abdel-karim': 'lightskyblue',\n",
       " 'abdel-krim': 'lightskyblue',\n",
       " 'abdel-latif': 'lightskyblue',\n",
       " 'abdel-madjid': 'lightskyblue',\n",
       " 'abdel-majid': 'lightskyblue',\n",
       " 'abdel-malek': 'lightskyblue',\n",
       " 'abdel-malik': 'lightskyblue',\n",
       " 'abdel-moumen': 'lightskyblue',\n",
       " 'abdel-nasser': 'lightskyblue',\n",
       " 'abdel-nour': 'lightskyblue',\n",
       " 'abdel-rahim': 'lightskyblue',\n",
       " 'abdel-rahman': 'lightskyblue',\n",
       " 'abdel-rahmane': 'lightskyblue',\n",
       " 'abdel-rahmen': 'lightskyblue',\n",
       " 'abdel-rani': 'lightskyblue',\n",
       " 'abdel-raouf': 'lightskyblue',\n",
       " 'abdel-samad': 'lightskyblue',\n",
       " 'abdel-wahab': 'lightskyblue',\n",
       " 'abdel-waheb': 'lightskyblue',\n",
       " 'abdel-wahid': 'lightskyblue',\n",
       " 'abdel-wakil': 'lightskyblue',\n",
       " 'abdela': 'lightskyblue',\n",
       " 'abdelaali': 'lightskyblue',\n",
       " 'abdeladim': 'lightskyblue',\n",
       " 'abdelafid': 'lightskyblue',\n",
       " 'abdelah': 'lightskyblue',\n",
       " 'abdelakim': 'lightskyblue',\n",
       " 'abdelali': 'lightskyblue',\n",
       " 'abdelatif': 'lightskyblue',\n",
       " 'abdelaziz': 'lightskyblue',\n",
       " 'abdelazize': 'lightskyblue',\n",
       " 'abdelazziz': 'lightskyblue',\n",
       " 'abdelbaki': 'lightskyblue',\n",
       " 'abdelbasset': 'lightskyblue',\n",
       " 'abdeldjalil': 'lightskyblue',\n",
       " 'abdeldjallil': 'lightskyblue',\n",
       " 'abdelfatah': 'lightskyblue',\n",
       " 'abdelfattah': 'lightskyblue',\n",
       " 'abdelfetah': 'lightskyblue',\n",
       " 'abdelfettah': 'lightskyblue',\n",
       " 'abdelghafour': 'lightskyblue',\n",
       " 'abdelghani': 'lightskyblue',\n",
       " 'abdelha': 'lightskyblue',\n",
       " 'abdelhadi': 'lightskyblue',\n",
       " 'abdelhafid': 'lightskyblue',\n",
       " 'abdelhafide': 'lightskyblue',\n",
       " 'abdelhak': 'lightskyblue',\n",
       " 'abdelhake': 'lightskyblue',\n",
       " 'abdelhakim': 'lightskyblue',\n",
       " 'abdelhakime': 'lightskyblue',\n",
       " 'abdelhali': 'lightskyblue',\n",
       " 'abdelhalim': 'lightskyblue',\n",
       " 'abdelhalime': 'lightskyblue',\n",
       " 'abdelhamed': 'lightskyblue',\n",
       " 'abdelhamid': 'lightskyblue',\n",
       " 'abdelhaq': 'lightskyblue',\n",
       " 'abdelhatif': 'lightskyblue',\n",
       " 'abdelhaziz': 'lightskyblue',\n",
       " 'abdelhedi': 'lightskyblue',\n",
       " 'abdelhouab': 'lightskyblue',\n",
       " 'abdelilah': 'lightskyblue',\n",
       " 'abdelillah': 'lightskyblue',\n",
       " 'abdeljalil': 'lightskyblue',\n",
       " 'abdeljallil': 'lightskyblue',\n",
       " 'abdeljawad': 'lightskyblue',\n",
       " 'abdelkader': 'lightskyblue',\n",
       " 'abdelkarim': 'lightskyblue',\n",
       " 'abdelkarime': 'lightskyblue',\n",
       " 'abdelkhader': 'lightskyblue',\n",
       " 'abdelkhalek': 'lightskyblue',\n",
       " 'abdelkrim': 'lightskyblue',\n",
       " 'abdelkrime': 'lightskyblue',\n",
       " 'abdella': 'lightskyblue',\n",
       " 'abdellah': 'lightskyblue',\n",
       " 'abdellali': 'lightskyblue',\n",
       " 'abdellatif': 'lightskyblue',\n",
       " 'abdellaziz': 'lightskyblue',\n",
       " 'abdelmadjid': 'lightskyblue',\n",
       " 'abdelmagid': 'lightskyblue',\n",
       " 'abdelmajid': 'lightskyblue',\n",
       " 'abdelmajide': 'lightskyblue',\n",
       " 'abdelmalek': 'lightskyblue',\n",
       " 'abdelmalik': 'lightskyblue',\n",
       " 'abdelmatine': 'lightskyblue',\n",
       " 'abdelmoula': 'lightskyblue',\n",
       " 'abdelmoumen': 'lightskyblue',\n",
       " 'abdelmoumene': 'lightskyblue',\n",
       " 'abdelmounaim': 'lightskyblue',\n",
       " 'abdelnacer': 'lightskyblue',\n",
       " 'abdelnasser': 'lightskyblue',\n",
       " 'abdelnor': 'lightskyblue',\n",
       " 'abdelnour': 'lightskyblue',\n",
       " 'abdeloihab': 'lightskyblue',\n",
       " 'abdelouab': 'lightskyblue',\n",
       " 'abdelouahab': 'lightskyblue',\n",
       " 'abdelouahad': 'lightskyblue',\n",
       " 'abdelouaheb': 'lightskyblue',\n",
       " 'abdelouahed': 'lightskyblue',\n",
       " 'abdelouahid': 'lightskyblue',\n",
       " 'abdelouhab': 'lightskyblue',\n",
       " 'abdelrahim': 'lightskyblue',\n",
       " 'abdelrahman': 'lightskyblue',\n",
       " 'abdelrahmane': 'lightskyblue',\n",
       " 'abdelrahmen': 'lightskyblue',\n",
       " 'abdelrahmene': 'lightskyblue',\n",
       " 'abdelrahni': 'lightskyblue',\n",
       " 'abdelramane': 'lightskyblue',\n",
       " 'abdelrani': 'lightskyblue',\n",
       " 'abdelraouf': 'lightskyblue',\n",
       " 'abdelrazak': 'lightskyblue',\n",
       " 'abdelrazek': 'lightskyblue',\n",
       " 'abdelrezak': 'lightskyblue',\n",
       " 'abdelrhani': 'lightskyblue',\n",
       " 'abdelsalam': 'lightskyblue',\n",
       " 'abdelsalem': 'lightskyblue',\n",
       " 'abdelsamad': 'lightskyblue',\n",
       " 'abdelslam': 'lightskyblue',\n",
       " 'abdelssamad': 'lightskyblue',\n",
       " 'abdeltif': 'lightskyblue',\n",
       " 'abdelwadoud': 'lightskyblue',\n",
       " 'abdelwahab': 'lightskyblue',\n",
       " 'abdelwahad': 'lightskyblue',\n",
       " 'abdelwaheb': 'lightskyblue',\n",
       " 'abdelwahed': 'lightskyblue',\n",
       " 'abdelwahid': 'lightskyblue',\n",
       " 'abdelwakil': 'lightskyblue',\n",
       " 'abdenabi': 'lightskyblue',\n",
       " 'abdenacer': 'lightskyblue',\n",
       " 'abdenasser': 'lightskyblue',\n",
       " 'abdenbi': 'lightskyblue',\n",
       " 'abdennasser': 'lightskyblue',\n",
       " 'abdennour': 'lightskyblue',\n",
       " 'abdenor': 'lightskyblue',\n",
       " 'abdenour': 'lightskyblue',\n",
       " 'abderahim': 'lightskyblue',\n",
       " 'abderahime': 'lightskyblue',\n",
       " 'abderahman': 'lightskyblue',\n",
       " 'abderahmane': 'lightskyblue',\n",
       " 'abderahmen': 'lightskyblue',\n",
       " 'abderahmene': 'lightskyblue',\n",
       " 'abderaman': 'lightskyblue',\n",
       " 'abderamane': 'lightskyblue',\n",
       " 'abderaouf': 'lightskyblue',\n",
       " 'abderazak': 'lightskyblue',\n",
       " 'abderemane': 'lightskyblue',\n",
       " 'abderezak': 'lightskyblue',\n",
       " 'abderhaman': 'lightskyblue',\n",
       " 'abderhamane': 'lightskyblue',\n",
       " 'abderrahim': 'lightskyblue',\n",
       " 'abderrahime': 'lightskyblue',\n",
       " 'abderrahman': 'lightskyblue',\n",
       " 'abderrahmane': 'lightskyblue',\n",
       " 'abderrahmen': 'lightskyblue',\n",
       " 'abderrahmene': 'lightskyblue',\n",
       " 'abderramane': 'lightskyblue',\n",
       " 'abderraouf': 'lightskyblue',\n",
       " 'abderrazak': 'lightskyblue',\n",
       " 'abderrezak': 'lightskyblue',\n",
       " 'abderrhamane': 'lightskyblue',\n",
       " 'abderzak': 'lightskyblue',\n",
       " 'abdesalam': 'lightskyblue',\n",
       " 'abdesamad': 'lightskyblue',\n",
       " 'abdeslam': 'lightskyblue',\n",
       " 'abdeslem': 'lightskyblue',\n",
       " 'abdessalam': 'lightskyblue',\n",
       " 'abdessalem': 'lightskyblue',\n",
       " 'abdessamad': 'lightskyblue',\n",
       " 'abdessamade': 'lightskyblue',\n",
       " 'abdessamed': 'lightskyblue',\n",
       " 'abdessatar': 'lightskyblue',\n",
       " 'abdesselam': 'lightskyblue',\n",
       " 'abdesselem': 'lightskyblue',\n",
       " 'abdesslam': 'lightskyblue',\n",
       " 'abdesslem': 'lightskyblue',\n",
       " 'abdi': 'lightskyblue',\n",
       " 'abdias': 'lightskyblue',\n",
       " 'abdil': 'lightskyblue',\n",
       " 'abdillah': 'lightskyblue',\n",
       " 'abdirahman': 'lightskyblue',\n",
       " 'abdnour': 'lightskyblue',\n",
       " 'abdo': 'lightskyblue',\n",
       " 'abdollah': 'lightskyblue',\n",
       " 'abdon': 'plum',\n",
       " 'abdonie': 'pink',\n",
       " 'abdonise': 'pink',\n",
       " 'abdool': 'lightskyblue',\n",
       " 'abdou': 'lightskyblue',\n",
       " 'abdou-aziz': 'lightskyblue',\n",
       " 'abdou-karim': 'lightskyblue',\n",
       " 'abdou-rahman': 'lightskyblue',\n",
       " 'abdou-salam': 'lightskyblue',\n",
       " 'abdouallah': 'lightskyblue',\n",
       " 'abdoukarim': 'lightskyblue',\n",
       " 'abdoul': 'lightskyblue',\n",
       " 'abdoul-aziz': 'lightskyblue',\n",
       " 'abdoul-hamid': 'lightskyblue',\n",
       " 'abdoul-kader': 'lightskyblue',\n",
       " 'abdoul-karim': 'lightskyblue',\n",
       " 'abdoul-malik': 'lightskyblue',\n",
       " 'abdoul-rahim': 'lightskyblue',\n",
       " 'abdoul-rahman': 'lightskyblue',\n",
       " 'abdoul-wahab': 'lightskyblue',\n",
       " 'abdoula': 'lightskyblue',\n",
       " 'abdoulah': 'lightskyblue',\n",
       " 'abdoulahi': 'lightskyblue',\n",
       " 'abdoulai': 'lightskyblue',\n",
       " 'abdoulatif': 'lightskyblue',\n",
       " 'abdoulay': 'lightskyblue',\n",
       " 'abdoulaye': 'lightskyblue',\n",
       " 'abdoulaziz': 'lightskyblue',\n",
       " 'abdoulhakim': 'lightskyblue',\n",
       " 'abdoulhamid': 'lightskyblue',\n",
       " 'abdoulkader': 'lightskyblue',\n",
       " 'abdoulkarim': 'lightskyblue',\n",
       " 'abdoulla': 'lightskyblue',\n",
       " 'abdoullah': 'lightskyblue',\n",
       " 'abdoullahi': 'lightskyblue',\n",
       " 'abdoullaye': 'lightskyblue',\n",
       " 'abdoulwahab': 'lightskyblue',\n",
       " 'abdourahamane': 'lightskyblue',\n",
       " 'abdourahim': 'lightskyblue',\n",
       " 'abdourahman': 'lightskyblue',\n",
       " 'abdourahmane': 'lightskyblue',\n",
       " 'abdouramane': 'lightskyblue',\n",
       " 'abdourazak': 'lightskyblue',\n",
       " 'abdourrahman': 'lightskyblue',\n",
       " 'abdourrahmane': 'lightskyblue',\n",
       " 'abdrahamane': 'lightskyblue',\n",
       " 'abdrahim': 'lightskyblue',\n",
       " 'abdrahman': 'lightskyblue',\n",
       " 'abdrahmane': 'lightskyblue',\n",
       " 'abdramane': 'lightskyblue',\n",
       " 'abdsamad': 'lightskyblue',\n",
       " 'abdu': 'lightskyblue',\n",
       " 'abdul': 'lightskyblue',\n",
       " 'abdul-kadir': 'lightskyblue',\n",
       " 'abdul-karim': 'lightskyblue',\n",
       " 'abdul-malik': 'lightskyblue',\n",
       " 'abdul-rahman': 'lightskyblue',\n",
       " 'abdul-samet': 'lightskyblue',\n",
       " 'abdulah': 'lightskyblue',\n",
       " 'abdulaziz': 'lightskyblue',\n",
       " 'abdulbaki': 'lightskyblue',\n",
       " 'abdulhamid': 'lightskyblue',\n",
       " 'abdulkadir': 'lightskyblue',\n",
       " 'abdulkerim': 'lightskyblue',\n",
       " 'abdulla': 'lightskyblue',\n",
       " 'abdullah': 'lightskyblue',\n",
       " 'abdulmalik': 'lightskyblue',\n",
       " 'abdulrahman': 'lightskyblue',\n",
       " 'abdulsamed': 'lightskyblue',\n",
       " 'abdulsamet': 'lightskyblue',\n",
       " 'abdurahman': 'lightskyblue',\n",
       " 'abdurrahim': 'lightskyblue',\n",
       " 'abdurrahman': 'lightskyblue',\n",
       " 'abdussamed': 'lightskyblue',\n",
       " 'abed': 'lightskyblue',\n",
       " 'abeer': 'pink',\n",
       " 'abel': 'lightskyblue',\n",
       " 'abelard': 'lightskyblue',\n",
       " 'abelardo': 'lightskyblue',\n",
       " 'abele': 'pink',\n",
       " 'abelia': 'pink',\n",
       " 'abelina': 'pink',\n",
       " 'abeline': 'pink',\n",
       " 'abelino': 'lightskyblue',\n",
       " 'abella': 'pink',\n",
       " 'abelle': 'pink',\n",
       " 'abes': 'lightskyblue',\n",
       " 'abesse': 'lightskyblue',\n",
       " 'abi': 'pink',\n",
       " 'abib': 'lightskyblue',\n",
       " 'abiba': 'pink',\n",
       " 'abibata': 'pink',\n",
       " 'abibatou': 'pink',\n",
       " 'abid': 'lightskyblue',\n",
       " 'abida': 'pink',\n",
       " 'abidin': 'lightskyblue',\n",
       " 'abidine': 'lightskyblue',\n",
       " 'abie': 'pink',\n",
       " 'abiel': 'lightskyblue',\n",
       " 'abigael': 'pink',\n",
       " 'abigaelle': 'pink',\n",
       " 'abigahel': 'pink',\n",
       " 'abigail': 'pink',\n",
       " 'abiha': 'pink',\n",
       " 'abilash': 'lightskyblue',\n",
       " 'abilio': 'lightskyblue',\n",
       " 'abimael': 'lightskyblue',\n",
       " 'abina': 'pink',\n",
       " 'abinash': 'lightskyblue',\n",
       " 'abinaya': 'pink',\n",
       " 'abinesh': 'lightskyblue',\n",
       " 'abiola': 'lightskyblue',\n",
       " 'abir': 'pink',\n",
       " 'abira': 'pink',\n",
       " 'abiram': 'lightskyblue',\n",
       " 'abirami': 'pink',\n",
       " 'abiramy': 'pink',\n",
       " 'abire': 'pink',\n",
       " 'abisan': 'lightskyblue',\n",
       " 'abisha': 'pink',\n",
       " 'abishan': 'lightskyblue',\n",
       " 'abishek': 'lightskyblue',\n",
       " 'abla': 'pink',\n",
       " 'ablaye': 'lightskyblue',\n",
       " 'abner': 'lightskyblue',\n",
       " 'abou': 'lightskyblue',\n",
       " 'abou-bakar': 'lightskyblue',\n",
       " 'abou-baker': 'lightskyblue',\n",
       " 'abou-bakr': 'lightskyblue',\n",
       " 'abou-sofiane': 'lightskyblue',\n",
       " 'aboubacar': 'lightskyblue',\n",
       " 'aboubacar-sidiki': 'lightskyblue',\n",
       " 'aboubacari': 'lightskyblue',\n",
       " 'aboubacary': 'lightskyblue',\n",
       " 'aboubacry': 'lightskyblue',\n",
       " 'aboubaka': 'lightskyblue',\n",
       " 'aboubakar': 'lightskyblue',\n",
       " 'aboubakari': 'lightskyblue',\n",
       " 'aboubakary': 'lightskyblue',\n",
       " 'aboubaker': 'lightskyblue',\n",
       " 'aboubakr': 'lightskyblue',\n",
       " 'aboubakri': 'lightskyblue',\n",
       " 'aboubakry': 'lightskyblue',\n",
       " 'aboudou': 'lightskyblue',\n",
       " 'aboudoulaye': 'lightskyblue',\n",
       " 'aboudramane': 'lightskyblue',\n",
       " 'aboulay': 'lightskyblue',\n",
       " 'aboulaye': 'lightskyblue',\n",
       " 'abraham': 'lightskyblue',\n",
       " 'abrahim': 'lightskyblue',\n",
       " 'abram': 'lightskyblue',\n",
       " 'abrar': 'plum',\n",
       " 'abriel': 'lightskyblue',\n",
       " 'abril': 'pink',\n",
       " 'absa': 'pink',\n",
       " 'absatou': 'pink',\n",
       " 'abu': 'lightskyblue',\n",
       " 'abu-bakr': 'lightskyblue',\n",
       " 'abubakar': 'lightskyblue',\n",
       " 'aby': 'pink',\n",
       " 'aby-gaelle': 'pink',\n",
       " 'abygael': 'pink',\n",
       " 'abygaelle': 'pink',\n",
       " 'abygail': 'pink',\n",
       " 'acacia': 'pink',\n",
       " 'acacio': 'lightskyblue',\n",
       " 'ace': 'lightskyblue',\n",
       " 'acelia': 'pink',\n",
       " 'acelya': 'pink',\n",
       " 'acene': 'lightskyblue',\n",
       " 'achata': 'pink',\n",
       " 'acher': 'lightskyblue',\n",
       " 'acheraf': 'lightskyblue',\n",
       " 'achida': 'pink',\n",
       " 'achil': 'lightskyblue',\n",
       " 'achile': 'lightskyblue',\n",
       " 'achille': 'lightskyblue',\n",
       " 'achilles': 'lightskyblue',\n",
       " 'achim': 'lightskyblue',\n",
       " 'achley': 'pink',\n",
       " 'achmi': 'lightskyblue',\n",
       " 'achot': 'lightskyblue',\n",
       " 'achouak': 'pink',\n",
       " 'achour': 'lightskyblue',\n",
       " 'achraf': 'lightskyblue',\n",
       " 'achrafe': 'lightskyblue',\n",
       " 'achref': 'lightskyblue',\n",
       " 'achta': 'pink',\n",
       " 'achwak': 'pink',\n",
       " 'acia': 'pink',\n",
       " 'acil': 'plum',\n",
       " 'acile': 'pink',\n",
       " 'acya': 'pink',\n",
       " 'acyl': 'lightskyblue',\n",
       " 'ada': 'plum',\n",
       " 'adalbert': 'lightskyblue',\n",
       " 'adalgisa': 'pink',\n",
       " 'adaline': 'pink',\n",
       " 'adalyne': 'pink',\n",
       " 'adalynn': 'pink',\n",
       " 'adam': 'lightskyblue',\n",
       " \"adam's\": 'lightskyblue',\n",
       " 'adam-mohamed': 'lightskyblue',\n",
       " 'adama': 'plum',\n",
       " 'adame': 'plum',\n",
       " 'adamm': 'lightskyblue',\n",
       " 'adamo': 'lightskyblue',\n",
       " 'adams': 'lightskyblue',\n",
       " 'adan': 'lightskyblue',\n",
       " 'adane': 'lightskyblue',\n",
       " 'adao': 'lightskyblue',\n",
       " 'adar': 'lightskyblue',\n",
       " 'adassa': 'pink',\n",
       " 'adda': 'plum',\n",
       " 'addam': 'lightskyblue',\n",
       " 'addel': 'lightskyblue',\n",
       " 'addil': 'lightskyblue',\n",
       " 'addison': 'plum',\n",
       " 'addolorata': 'pink',\n",
       " 'addy': 'lightskyblue',\n",
       " 'addyson': 'pink',\n",
       " 'adea': 'pink',\n",
       " 'adeel': 'lightskyblue',\n",
       " 'adel': 'lightskyblue',\n",
       " 'adela': 'pink',\n",
       " 'adelaida': 'pink',\n",
       " 'adelaide': 'plum',\n",
       " 'adelais': 'pink',\n",
       " 'adelbert': 'lightskyblue',\n",
       " 'adele': 'pink',\n",
       " 'adele-rose': 'pink',\n",
       " 'adeleine': 'pink',\n",
       " 'adelheid': 'pink',\n",
       " 'adelia': 'pink',\n",
       " 'adelice': 'pink',\n",
       " 'adelie': 'pink',\n",
       " 'adelin': 'lightskyblue',\n",
       " 'adelina': 'pink',\n",
       " 'adeline': 'pink',\n",
       " 'adelino': 'lightskyblue',\n",
       " 'adelio': 'lightskyblue',\n",
       " 'adelisa': 'pink',\n",
       " 'adelise': 'pink',\n",
       " 'adella': 'pink',\n",
       " 'adelle': 'pink',\n",
       " 'adelma': 'pink',\n",
       " 'adelmo': 'lightskyblue',\n",
       " 'adelphe': 'lightskyblue',\n",
       " 'adelphine': 'pink',\n",
       " 'adelson': 'lightskyblue',\n",
       " 'adelya': 'pink',\n",
       " 'adelyne': 'pink',\n",
       " 'adelys': 'pink',\n",
       " 'adem': 'lightskyblue',\n",
       " 'adema': 'pink',\n",
       " 'ademar': 'lightskyblue',\n",
       " 'ademe': 'lightskyblue',\n",
       " 'aden': 'plum',\n",
       " 'adena': 'pink',\n",
       " 'adenise': 'pink',\n",
       " 'adenora': 'pink',\n",
       " 'adeodat': 'lightskyblue',\n",
       " 'aderito': 'lightskyblue',\n",
       " 'adham': 'lightskyblue',\n",
       " 'adhan': 'lightskyblue',\n",
       " 'adhem': 'lightskyblue',\n",
       " 'adhemar': 'lightskyblue',\n",
       " 'adhen': 'lightskyblue',\n",
       " 'adi': 'lightskyblue',\n",
       " 'adia': 'pink',\n",
       " 'adiaratou': 'pink',\n",
       " 'adib': 'lightskyblue',\n",
       " 'adiba': 'pink',\n",
       " 'adidi': 'pink',\n",
       " 'adidja': 'pink',\n",
       " 'adiel': 'lightskyblue',\n",
       " 'adija': 'pink',\n",
       " 'adil': 'lightskyblue',\n",
       " 'adila': 'pink',\n",
       " 'adile': 'plum',\n",
       " 'adilia': 'pink',\n",
       " 'adille': 'lightskyblue',\n",
       " 'adilson': 'lightskyblue',\n",
       " 'adim': 'lightskyblue',\n",
       " 'adin': 'lightskyblue',\n",
       " 'adina': 'pink',\n",
       " 'adine': 'pink',\n",
       " 'adis': 'lightskyblue',\n",
       " 'adisson': 'pink',\n",
       " 'adithya': 'lightskyblue',\n",
       " 'aditi': 'pink',\n",
       " 'aditya': 'lightskyblue',\n",
       " 'adixia': 'pink',\n",
       " 'adiza': 'pink',\n",
       " 'adja': 'pink',\n",
       " 'adjara': 'pink',\n",
       " 'adjaratou': 'pink',\n",
       " 'adji': 'plum',\n",
       " 'adjia': 'pink',\n",
       " 'adjila': 'pink',\n",
       " 'adjira': 'pink',\n",
       " 'adjmal': 'lightskyblue',\n",
       " 'adlan': 'lightskyblue',\n",
       " 'adlane': 'lightskyblue',\n",
       " 'adlen': 'lightskyblue',\n",
       " 'adlene': 'lightskyblue',\n",
       " 'adler': 'lightskyblue',\n",
       " 'adley': 'lightskyblue',\n",
       " 'adline': 'pink',\n",
       " 'admir': 'lightskyblue',\n",
       " 'adna': 'pink',\n",
       " 'adnan': 'lightskyblue',\n",
       " 'adnane': 'lightskyblue',\n",
       " 'adnen': 'lightskyblue',\n",
       " 'adnene': 'lightskyblue',\n",
       " 'adolf': 'lightskyblue',\n",
       " 'adolfo': 'lightskyblue',\n",
       " 'adolie': 'pink',\n",
       " 'adoline': 'pink',\n",
       " 'adolph': 'lightskyblue',\n",
       " 'adolpha': 'pink',\n",
       " 'adolphe': 'lightskyblue',\n",
       " 'adolphine': 'pink',\n",
       " 'adon': 'lightskyblue',\n",
       " 'adonai': 'plum',\n",
       " 'adonay': 'plum',\n",
       " 'adonia': 'pink',\n",
       " 'adonie': 'pink',\n",
       " 'adonis': 'lightskyblue',\n",
       " 'adonise': 'pink',\n",
       " 'adonys': 'lightskyblue',\n",
       " 'adora': 'pink',\n",
       " 'adoracion': 'pink',\n",
       " 'adoration': 'pink',\n",
       " 'adra': 'pink',\n",
       " 'adria': 'pink',\n",
       " 'adriaan': 'lightskyblue',\n",
       " 'adrian': 'lightskyblue',\n",
       " 'adriana': 'pink',\n",
       " 'adriane': 'pink',\n",
       " 'adriann': 'lightskyblue',\n",
       " 'adrianna': 'pink',\n",
       " 'adrianne': 'pink',\n",
       " 'adriano': 'lightskyblue',\n",
       " 'adriel': 'lightskyblue',\n",
       " 'adrielle': 'pink',\n",
       " 'adrien': 'lightskyblue',\n",
       " 'adrienne': 'pink',\n",
       " 'adrina': 'pink',\n",
       " 'adrya': 'pink',\n",
       " 'adryan': 'lightskyblue',\n",
       " 'adryana': 'pink',\n",
       " 'adryann': 'lightskyblue',\n",
       " 'adryano': 'lightskyblue',\n",
       " 'adryel': 'lightskyblue',\n",
       " 'adryen': 'lightskyblue',\n",
       " 'advik': 'lightskyblue',\n",
       " 'adyan': 'lightskyblue',\n",
       " 'adyl': 'lightskyblue',\n",
       " 'adyson': 'pink',\n",
       " 'adysson': 'pink',\n",
       " 'adzo': 'lightskyblue',\n",
       " 'aedan': 'lightskyblue',\n",
       " 'aedann': 'lightskyblue',\n",
       " 'aeden': 'lightskyblue',\n",
       " 'aegon': 'lightskyblue',\n",
       " 'ael': 'plum',\n",
       " 'aela': 'pink',\n",
       " 'aelaig': 'pink',\n",
       " 'aelia': 'pink',\n",
       " 'aelie': 'pink',\n",
       " 'aelig': 'plum',\n",
       " 'aeline': 'pink',\n",
       " 'aelis': 'pink',\n",
       " 'aelita': 'pink',\n",
       " 'aella': 'pink',\n",
       " 'aelle': 'pink',\n",
       " 'aely': 'pink',\n",
       " 'aelya': 'pink',\n",
       " 'aelyn': 'pink',\n",
       " 'aelyne': 'pink',\n",
       " 'aelynn': 'pink',\n",
       " 'aelys': 'pink',\n",
       " 'aena': 'pink',\n",
       " 'aenaelle': 'pink',\n",
       " 'aenor': 'pink',\n",
       " 'aenora': 'pink',\n",
       " 'aeris': 'pink',\n",
       " 'aerith': 'pink',\n",
       " 'aeron': 'lightskyblue',\n",
       " 'aeryn': 'pink',\n",
       " 'aeryne': 'pink',\n",
       " 'aerys': 'pink',\n",
       " 'aesa': 'pink',\n",
       " 'afaf': 'pink',\n",
       " 'afafe': 'pink',\n",
       " 'afdal': 'lightskyblue',\n",
       " 'afef': 'pink',\n",
       " 'afeni': 'pink',\n",
       " 'affaf': 'pink',\n",
       " 'affan': 'lightskyblue',\n",
       " 'affef': 'pink',\n",
       " 'affif': 'lightskyblue',\n",
       " 'affou': 'pink',\n",
       " 'affoue': 'pink',\n",
       " 'afi': 'pink',\n",
       " 'afia': 'pink',\n",
       " 'afid': 'lightskyblue',\n",
       " 'afida': 'pink',\n",
       " 'afif': 'lightskyblue',\n",
       " 'afifa': 'pink',\n",
       " 'afiya': 'pink',\n",
       " 'afnan': 'pink',\n",
       " 'afnane': 'pink',\n",
       " 'afnen': 'pink',\n",
       " 'afnene': 'pink',\n",
       " 'afonso': 'lightskyblue',\n",
       " 'afra': 'pink',\n",
       " 'afrah': 'pink',\n",
       " 'afrahim': 'lightskyblue',\n",
       " 'africa': 'pink',\n",
       " 'afrim': 'lightskyblue',\n",
       " 'afsa': 'pink',\n",
       " 'afsana': 'pink',\n",
       " 'aftab': 'lightskyblue',\n",
       " 'afton': 'pink',\n",
       " 'aftone': 'pink',\n",
       " 'afzal': 'lightskyblue',\n",
       " 'agapito': 'lightskyblue',\n",
       " 'agash': 'lightskyblue',\n",
       " 'agata': 'pink',\n",
       " 'agate': 'pink',\n",
       " 'agatha': 'pink',\n",
       " 'agathe': 'pink',\n",
       " 'agathon': 'lightskyblue',\n",
       " 'agenor': 'lightskyblue',\n",
       " 'aghilas': 'lightskyblue',\n",
       " 'aghiles': 'lightskyblue',\n",
       " 'agit': 'lightskyblue',\n",
       " 'aglae': 'pink',\n",
       " 'aglaee': 'pink',\n",
       " 'aglaia': 'pink',\n",
       " 'agnan': 'plum',\n",
       " 'agnel': 'lightskyblue',\n",
       " 'agnela': 'pink',\n",
       " 'agnella': 'pink',\n",
       " 'agnes': 'pink',\n",
       " 'agnes-marie': 'pink',\n",
       " 'agnesa': 'pink',\n",
       " 'agnese': 'pink',\n",
       " 'agniela': 'pink',\n",
       " 'agnies': 'pink',\n",
       " 'agop': 'lightskyblue',\n",
       " 'agostina': 'pink',\n",
       " 'agostinho': 'lightskyblue',\n",
       " 'agostino': 'lightskyblue',\n",
       " 'agueda': 'pink',\n",
       " 'aguibou': 'lightskyblue',\n",
       " 'agustin': 'lightskyblue',\n",
       " 'agustina': 'pink',\n",
       " 'agustinho': 'lightskyblue',\n",
       " 'agustino': 'lightskyblue',\n",
       " 'ah': 'plum',\n",
       " 'ahad': 'lightskyblue',\n",
       " 'ahamada': 'lightskyblue',\n",
       " 'ahamadou': 'lightskyblue',\n",
       " 'ahamed': 'lightskyblue',\n",
       " 'ahana': 'pink',\n",
       " 'aharon': 'lightskyblue',\n",
       " 'aharone': 'lightskyblue',\n",
       " 'ahava': 'pink',\n",
       " 'ahcen': 'lightskyblue',\n",
       " 'ahcene': 'lightskyblue',\n",
       " 'ahed': 'pink',\n",
       " 'ahil': 'lightskyblue',\n",
       " 'ahkim': 'lightskyblue',\n",
       " 'ahlam': 'pink',\n",
       " 'ahlame': 'pink',\n",
       " 'ahlan': 'lightskyblue',\n",
       " 'ahlem': 'pink',\n",
       " 'ahleme': 'pink',\n",
       " 'ahlima': 'pink',\n",
       " 'ahmad': 'lightskyblue',\n",
       " 'ahmada': 'lightskyblue',\n",
       " 'ahmadou': 'lightskyblue',\n",
       " 'ahmadou-bamba': 'lightskyblue',\n",
       " 'ahmar': 'lightskyblue',\n",
       " 'ahmat': 'lightskyblue',\n",
       " 'ahmed': 'lightskyblue',\n",
       " 'ahmed-ali': 'lightskyblue',\n",
       " 'ahmed-amin': 'lightskyblue',\n",
       " 'ahmed-amine': 'lightskyblue',\n",
       " 'ahmed-yacine': 'lightskyblue',\n",
       " 'ahmed-yassine': 'lightskyblue',\n",
       " 'ahmel': 'pink',\n",
       " 'ahmet': 'lightskyblue',\n",
       " 'ahmet-can': 'lightskyblue',\n",
       " 'ahmid': 'lightskyblue',\n",
       " 'ahna': 'pink',\n",
       " 'ahnaf': 'lightskyblue',\n",
       " 'ahron': 'lightskyblue',\n",
       " 'ahsan': 'lightskyblue',\n",
       " 'ahsen': 'pink',\n",
       " 'ahyan': 'lightskyblue',\n",
       " 'ahyna': 'pink',\n",
       " 'ai': 'pink',\n",
       " 'aia': 'pink',\n",
       " 'aiana': 'pink',\n",
       " 'aicha': 'pink',\n",
       " 'aichat': 'pink',\n",
       " 'aichata': 'pink',\n",
       " 'aichatou': 'pink',\n",
       " 'aiche': 'pink',\n",
       " 'aichetou': 'pink',\n",
       " 'aichouche': 'pink',\n",
       " 'aid': 'lightskyblue',\n",
       " 'aida': 'pink',\n",
       " 'aidan': 'lightskyblue',\n",
       " 'aidann': 'lightskyblue',\n",
       " 'aidee': 'pink',\n",
       " 'aidem': 'lightskyblue',\n",
       " 'aiden': 'plum',\n",
       " 'aidenn': 'lightskyblue',\n",
       " 'aidi': 'pink',\n",
       " 'aifa': 'pink',\n",
       " 'aigline': 'pink',\n",
       " 'aignan': 'lightskyblue',\n",
       " 'aiham': 'lightskyblue',\n",
       " 'aikel': 'lightskyblue',\n",
       " 'aiko': 'plum',\n",
       " 'aila': 'pink',\n",
       " 'ailan': 'lightskyblue',\n",
       " 'aileen': 'pink',\n",
       " 'ailey': 'plum',\n",
       " 'ailine': 'pink',\n",
       " 'ailis': 'pink',\n",
       " 'ailsa': 'pink',\n",
       " 'ailvin': 'lightskyblue',\n",
       " 'aily': 'pink',\n",
       " 'ailyn': 'pink',\n",
       " 'ailyne': 'pink',\n",
       " 'ailys': 'pink',\n",
       " 'aima': 'pink',\n",
       " 'aimable': 'plum',\n",
       " 'aimad': 'lightskyblue',\n",
       " 'aimade': 'lightskyblue',\n",
       " 'aiman': 'plum',\n",
       " 'aimane': 'plum',\n",
       " 'aimar': 'lightskyblue',\n",
       " 'aime': 'lightskyblue',\n",
       " 'aimed': 'lightskyblue',\n",
       " 'aimee': 'pink',\n",
       " 'aimeline': 'pink',\n",
       " 'aimelyne': 'pink',\n",
       " 'aimen': 'lightskyblue',\n",
       " 'aimene': 'lightskyblue',\n",
       " 'aimeric': 'lightskyblue',\n",
       " 'aimerick': 'lightskyblue',\n",
       " 'aimerik': 'lightskyblue',\n",
       " 'aimery': 'lightskyblue',\n",
       " 'aimeryc': 'lightskyblue',\n",
       " 'aimi': 'pink',\n",
       " 'aimie': 'pink',\n",
       " 'aimine': 'lightskyblue',\n",
       " 'aimmee': 'pink',\n",
       " 'aimran': 'lightskyblue',\n",
       " 'aimrane': 'lightskyblue',\n",
       " 'aimy': 'pink',\n",
       " 'aina': 'plum',\n",
       " 'ainah': 'pink',\n",
       " 'ainara': 'pink',\n",
       " 'aines': 'pink',\n",
       " 'ainhoa': 'pink',\n",
       " 'aini': 'pink',\n",
       " 'ainis': 'lightskyblue',\n",
       " 'ainoa': 'pink',\n",
       " 'ainoha': 'pink',\n",
       " 'ainsley': 'lightskyblue',\n",
       " 'aintzane': 'pink',\n",
       " 'aioub': 'lightskyblue',\n",
       " 'airelle': 'pink',\n",
       " 'aires': 'lightskyblue',\n",
       " 'airon': 'lightskyblue',\n",
       " 'airy': 'lightskyblue',\n",
       " 'aisam': 'lightskyblue',\n",
       " 'aisata': 'pink',\n",
       " 'aisatou': 'pink',\n",
       " 'aise': 'pink',\n",
       " 'aisetou': 'pink',\n",
       " 'aisha': 'pink',\n",
       " 'aishwarya': 'pink',\n",
       " 'aisling': 'pink',\n",
       " 'aislinn': 'pink',\n",
       " 'aisosa': 'pink',\n",
       " 'aissa': 'plum',\n",
       " 'aissam': 'lightskyblue',\n",
       " 'aissame': 'lightskyblue',\n",
       " 'aissata': 'pink',\n",
       " 'aissatou': 'pink',\n",
       " 'aisse': 'pink',\n",
       " 'aisseta': 'pink',\n",
       " 'aissetou': 'pink',\n",
       " 'aissia': 'pink',\n",
       " 'aissya': 'pink',\n",
       " 'aita': 'pink',\n",
       " 'aitana': 'pink',\n",
       " 'aito': 'lightskyblue',\n",
       " 'aitor': 'lightskyblue',\n",
       " 'aivy': 'pink',\n",
       " 'aiwen': 'lightskyblue',\n",
       " 'aixandre': 'lightskyblue',\n",
       " 'aiya': 'pink',\n",
       " 'aiyana': 'pink',\n",
       " 'aiyanna': 'pink',\n",
       " 'aiyoub': 'lightskyblue',\n",
       " 'aiza': 'pink',\n",
       " 'aizah': 'pink',\n",
       " 'ajad': 'lightskyblue',\n",
       " 'ajan': 'lightskyblue',\n",
       " 'ajana': 'pink',\n",
       " 'ajanthan': 'lightskyblue',\n",
       " 'ajar': 'pink',\n",
       " 'ajay': 'lightskyblue',\n",
       " 'ajdin': 'lightskyblue',\n",
       " 'ajeesh': 'lightskyblue',\n",
       " 'ajla': 'pink',\n",
       " 'ajmal': 'lightskyblue',\n",
       " 'ajna': 'pink',\n",
       " 'aka': 'lightskyblue',\n",
       " 'akan': 'lightskyblue',\n",
       " 'akane': 'pink',\n",
       " 'akaran': 'lightskyblue',\n",
       " 'akash': 'lightskyblue',\n",
       " 'akasya': 'pink',\n",
       " 'akay': 'lightskyblue',\n",
       " 'akbar': 'lightskyblue',\n",
       " 'akcel': 'lightskyblue',\n",
       " 'akeem': 'lightskyblue',\n",
       " 'akela': 'pink',\n",
       " 'akemi': 'pink',\n",
       " 'akheane': 'pink',\n",
       " 'akhesa': 'pink',\n",
       " 'akhil': 'lightskyblue',\n",
       " 'akhim': 'lightskyblue',\n",
       " 'akhmad': 'lightskyblue',\n",
       " 'akhmed': 'lightskyblue',\n",
       " 'akif': 'lightskyblue',\n",
       " 'akiko': 'pink',\n",
       " 'akil': 'lightskyblue',\n",
       " 'akila': 'pink',\n",
       " 'akilan': 'lightskyblue',\n",
       " 'akim': 'lightskyblue',\n",
       " 'akima': 'pink',\n",
       " 'akime': 'lightskyblue',\n",
       " 'akin': 'lightskyblue',\n",
       " 'akina': 'pink',\n",
       " 'akio': 'lightskyblue',\n",
       " 'akira': 'plum',\n",
       " 'akissi': 'pink',\n",
       " 'akito': 'lightskyblue',\n",
       " 'akiva': 'lightskyblue',\n",
       " 'akli': 'lightskyblue',\n",
       " 'akmal': 'lightskyblue',\n",
       " 'akmar': 'lightskyblue',\n",
       " 'akram': 'lightskyblue',\n",
       " 'akrame': 'lightskyblue',\n",
       " 'akrem': 'lightskyblue',\n",
       " 'aksa': 'pink',\n",
       " 'aksel': 'lightskyblue',\n",
       " 'aksha': 'pink',\n",
       " 'akshan': 'lightskyblue',\n",
       " 'akshana': 'pink',\n",
       " 'akshara': 'pink',\n",
       " 'akshay': 'lightskyblue',\n",
       " 'akshaya': 'pink',\n",
       " 'akshayan': 'lightskyblue',\n",
       " 'aksil': 'lightskyblue',\n",
       " 'aksim': 'lightskyblue',\n",
       " 'aksyl': 'lightskyblue',\n",
       " 'akym': 'lightskyblue',\n",
       " 'al': 'plum',\n",
       " 'al-amine': 'lightskyblue',\n",
       " 'al-hassan': 'lightskyblue',\n",
       " 'al-hassane': 'lightskyblue',\n",
       " 'ala': 'plum',\n",
       " 'ala-eddine': 'lightskyblue',\n",
       " 'alaa': 'plum',\n",
       " 'alaa-eddine': 'lightskyblue',\n",
       " 'alabama': 'pink',\n",
       " 'aladdin': 'lightskyblue',\n",
       " 'aladin': 'lightskyblue',\n",
       " 'aladine': 'lightskyblue',\n",
       " 'aladji': 'lightskyblue',\n",
       " 'alae': 'plum',\n",
       " 'alaeddine': 'lightskyblue',\n",
       " 'alaedine': 'lightskyblue',\n",
       " 'alaia': 'pink',\n",
       " 'alain': 'lightskyblue',\n",
       " 'alain-claude': 'lightskyblue',\n",
       " 'alain-michel': 'lightskyblue',\n",
       " 'alain-paul': 'lightskyblue',\n",
       " 'alain-pierre': 'lightskyblue',\n",
       " 'alaina': 'pink',\n",
       " 'alaine': 'pink',\n",
       " 'alais': 'pink',\n",
       " 'alaitz': 'pink',\n",
       " 'alan': 'lightskyblue',\n",
       " 'alana': 'pink',\n",
       " 'alanah': 'pink',\n",
       " 'alandra': 'pink',\n",
       " 'alane': 'lightskyblue',\n",
       " 'alanis': 'pink',\n",
       " 'alann': 'lightskyblue',\n",
       " 'alanna': 'pink',\n",
       " 'alannah': 'pink',\n",
       " 'alanys': 'pink',\n",
       " 'alanzo': 'lightskyblue',\n",
       " 'alaoua': 'lightskyblue',\n",
       " 'alaoui': 'lightskyblue',\n",
       " 'alara': 'pink',\n",
       " 'alaric': 'lightskyblue',\n",
       " 'alarick': 'lightskyblue',\n",
       " 'alarik': 'lightskyblue',\n",
       " 'alassan': 'lightskyblue',\n",
       " 'alassana': 'lightskyblue',\n",
       " 'alassane': 'lightskyblue',\n",
       " 'alastair': 'lightskyblue',\n",
       " 'alaya': 'plum',\n",
       " 'alayah': 'pink',\n",
       " 'alayna': 'pink',\n",
       " 'alays': 'pink',\n",
       " 'alaz': 'lightskyblue',\n",
       " 'alba': 'pink',\n",
       " 'albain': 'lightskyblue',\n",
       " 'alban': 'lightskyblue',\n",
       " 'albane': 'pink',\n",
       " 'albanie': 'pink',\n",
       " 'albanne': 'pink',\n",
       " ...}"
      ]
     },
     "execution_count": 180,
     "metadata": {},
     "output_type": "execute_result"
    }
   ],
   "source": [
    "# Table rows colors\n",
    "boyColor = 'lightskyblue'\n",
    "girlColor = 'pink'\n",
    "boyOrGirlColor = 'plum'\n",
    "dict_colors = {1 : boyColor, 2 : girlColor, 3 : boyOrGirlColor}\n",
    "\n",
    "\n",
    "df_prenoms_sexes = df_nat.groupby(['preusuel', 'sexe']).agg(nombre=('nombre', sum)).reset_index().sort_values(by=['preusuel', 'nombre'], ascending=False)\n",
    "# display(df_prenoms_sexes[df_prenoms_sexes.preusuel.isin(['louis', 'hugo', 'camille'])])\n",
    "\n",
    "df_prenoms_tot = df_prenoms_sexes.groupby('preusuel').agg(total=('nombre', sum)).reset_index()\n",
    "# display(df_prenoms_tot[df_prenoms_tot.preusuel.isin(['louis', 'hugo', 'camille'])])\n",
    "\n",
    "df_prenom = pd.merge(df_prenoms_tot, df_prenoms_sexes, on='preusuel')\n",
    "# display(df_prenom[df_prenom.preusuel.isin(['louis', 'hugo', 'camille'])])\n",
    "\n",
    "df_prenom['prop_sexe'] = df_prenom.nombre / df_prenom.total\n",
    "df_prenom.drop_duplicates(subset=['preusuel'], inplace=True)\n",
    "\n",
    "df_prenom['number_color'] = df_prenom.apply(lambda row: row.sexe if row.prop_sexe > 0.99 else 3, axis=1)\n",
    "df_prenom['color'] = df_prenom.number_color.apply(lambda numcol: dict_colors[numcol])\n",
    "\n",
    "display(df_prenom[df_prenom.preusuel.isin(['louis', 'hugo', 'camille', 'sacha', 'janne', 'emma', 'jade', 'alice'])])\n",
    "\n",
    "dict_prenom_color = dict(df_prenom.loc[:, ['preusuel', 'color']].values)\n",
    "dict_prenom_color"
   ]
  },
  {
   "cell_type": "code",
   "execution_count": 181,
   "id": "8cd9133a",
   "metadata": {},
   "outputs": [
    {
     "data": {
      "text/html": [
       "<div>\n",
       "<style scoped>\n",
       "    .dataframe tbody tr th:only-of-type {\n",
       "        vertical-align: middle;\n",
       "    }\n",
       "\n",
       "    .dataframe tbody tr th {\n",
       "        vertical-align: top;\n",
       "    }\n",
       "\n",
       "    .dataframe thead th {\n",
       "        text-align: right;\n",
       "    }\n",
       "</style>\n",
       "<table border=\"1\" class=\"dataframe\">\n",
       "  <thead>\n",
       "    <tr style=\"text-align: right;\">\n",
       "      <th></th>\n",
       "      <th>preusuel</th>\n",
       "      <th>last_10</th>\n",
       "      <th>last_3</th>\n",
       "      <th>color</th>\n",
       "    </tr>\n",
       "  </thead>\n",
       "  <tbody>\n",
       "    <tr>\n",
       "      <th>0</th>\n",
       "      <td>_prenoms_rares</td>\n",
       "      <td>50244</td>\n",
       "      <td>52740.0</td>\n",
       "      <td>plum</td>\n",
       "    </tr>\n",
       "    <tr>\n",
       "      <th>1</th>\n",
       "      <td>gabriel</td>\n",
       "      <td>5233</td>\n",
       "      <td>4969.0</td>\n",
       "      <td>lightskyblue</td>\n",
       "    </tr>\n",
       "    <tr>\n",
       "      <th>2</th>\n",
       "      <td>leo</td>\n",
       "      <td>4873</td>\n",
       "      <td>4789.0</td>\n",
       "      <td>lightskyblue</td>\n",
       "    </tr>\n",
       "    <tr>\n",
       "      <th>3</th>\n",
       "      <td>lucas</td>\n",
       "      <td>4763</td>\n",
       "      <td>3657.0</td>\n",
       "      <td>lightskyblue</td>\n",
       "    </tr>\n",
       "    <tr>\n",
       "      <th>4</th>\n",
       "      <td>emma</td>\n",
       "      <td>4625</td>\n",
       "      <td>3945.0</td>\n",
       "      <td>pink</td>\n",
       "    </tr>\n",
       "    <tr>\n",
       "      <th>5</th>\n",
       "      <td>raphael</td>\n",
       "      <td>4594</td>\n",
       "      <td>4552.0</td>\n",
       "      <td>lightskyblue</td>\n",
       "    </tr>\n",
       "    <tr>\n",
       "      <th>6</th>\n",
       "      <td>louis</td>\n",
       "      <td>4593</td>\n",
       "      <td>4061.0</td>\n",
       "      <td>lightskyblue</td>\n",
       "    </tr>\n",
       "    <tr>\n",
       "      <th>7</th>\n",
       "      <td>jules</td>\n",
       "      <td>4279</td>\n",
       "      <td>3597.0</td>\n",
       "      <td>lightskyblue</td>\n",
       "    </tr>\n",
       "    <tr>\n",
       "      <th>8</th>\n",
       "      <td>hugo</td>\n",
       "      <td>4191</td>\n",
       "      <td>3437.0</td>\n",
       "      <td>lightskyblue</td>\n",
       "    </tr>\n",
       "    <tr>\n",
       "      <th>9</th>\n",
       "      <td>jade</td>\n",
       "      <td>4182</td>\n",
       "      <td>3877.0</td>\n",
       "      <td>pink</td>\n",
       "    </tr>\n",
       "    <tr>\n",
       "      <th>10</th>\n",
       "      <td>louise</td>\n",
       "      <td>4158</td>\n",
       "      <td>3788.0</td>\n",
       "      <td>pink</td>\n",
       "    </tr>\n",
       "    <tr>\n",
       "      <th>11</th>\n",
       "      <td>adam</td>\n",
       "      <td>4115</td>\n",
       "      <td>3658.0</td>\n",
       "      <td>lightskyblue</td>\n",
       "    </tr>\n",
       "    <tr>\n",
       "      <th>12</th>\n",
       "      <td>ethan</td>\n",
       "      <td>3938</td>\n",
       "      <td>2895.0</td>\n",
       "      <td>lightskyblue</td>\n",
       "    </tr>\n",
       "    <tr>\n",
       "      <th>13</th>\n",
       "      <td>chloe</td>\n",
       "      <td>3912</td>\n",
       "      <td>2928.0</td>\n",
       "      <td>pink</td>\n",
       "    </tr>\n",
       "    <tr>\n",
       "      <th>14</th>\n",
       "      <td>nathan</td>\n",
       "      <td>3910</td>\n",
       "      <td>2638.0</td>\n",
       "      <td>lightskyblue</td>\n",
       "    </tr>\n",
       "    <tr>\n",
       "      <th>15</th>\n",
       "      <td>arthur</td>\n",
       "      <td>3850</td>\n",
       "      <td>3853.0</td>\n",
       "      <td>lightskyblue</td>\n",
       "    </tr>\n",
       "    <tr>\n",
       "      <th>16</th>\n",
       "      <td>camille</td>\n",
       "      <td>3795</td>\n",
       "      <td>2893.0</td>\n",
       "      <td>plum</td>\n",
       "    </tr>\n",
       "    <tr>\n",
       "      <th>17</th>\n",
       "      <td>ines</td>\n",
       "      <td>3736</td>\n",
       "      <td>2791.0</td>\n",
       "      <td>pink</td>\n",
       "    </tr>\n",
       "    <tr>\n",
       "      <th>18</th>\n",
       "      <td>lea</td>\n",
       "      <td>3624</td>\n",
       "      <td>2705.0</td>\n",
       "      <td>pink</td>\n",
       "    </tr>\n",
       "    <tr>\n",
       "      <th>19</th>\n",
       "      <td>mael</td>\n",
       "      <td>3469</td>\n",
       "      <td>3501.0</td>\n",
       "      <td>lightskyblue</td>\n",
       "    </tr>\n",
       "    <tr>\n",
       "      <th>20</th>\n",
       "      <td>manon</td>\n",
       "      <td>3201</td>\n",
       "      <td>1883.0</td>\n",
       "      <td>pink</td>\n",
       "    </tr>\n",
       "    <tr>\n",
       "      <th>21</th>\n",
       "      <td>enzo</td>\n",
       "      <td>3196</td>\n",
       "      <td>1830.0</td>\n",
       "      <td>lightskyblue</td>\n",
       "    </tr>\n",
       "    <tr>\n",
       "      <th>22</th>\n",
       "      <td>paul</td>\n",
       "      <td>3161</td>\n",
       "      <td>2770.0</td>\n",
       "      <td>lightskyblue</td>\n",
       "    </tr>\n",
       "    <tr>\n",
       "      <th>23</th>\n",
       "      <td>lina</td>\n",
       "      <td>3140</td>\n",
       "      <td>2865.0</td>\n",
       "      <td>pink</td>\n",
       "    </tr>\n",
       "    <tr>\n",
       "      <th>24</th>\n",
       "      <td>alice</td>\n",
       "      <td>3095</td>\n",
       "      <td>3198.0</td>\n",
       "      <td>pink</td>\n",
       "    </tr>\n",
       "    <tr>\n",
       "      <th>25</th>\n",
       "      <td>nolan</td>\n",
       "      <td>3043</td>\n",
       "      <td>1835.0</td>\n",
       "      <td>lightskyblue</td>\n",
       "    </tr>\n",
       "    <tr>\n",
       "      <th>26</th>\n",
       "      <td>lena</td>\n",
       "      <td>3033</td>\n",
       "      <td>2380.0</td>\n",
       "      <td>pink</td>\n",
       "    </tr>\n",
       "    <tr>\n",
       "      <th>27</th>\n",
       "      <td>sacha</td>\n",
       "      <td>3022</td>\n",
       "      <td>2721.0</td>\n",
       "      <td>plum</td>\n",
       "    </tr>\n",
       "    <tr>\n",
       "      <th>28</th>\n",
       "      <td>timeo</td>\n",
       "      <td>3006</td>\n",
       "      <td>1942.0</td>\n",
       "      <td>lightskyblue</td>\n",
       "    </tr>\n",
       "    <tr>\n",
       "      <th>29</th>\n",
       "      <td>tom</td>\n",
       "      <td>2952</td>\n",
       "      <td>2368.0</td>\n",
       "      <td>lightskyblue</td>\n",
       "    </tr>\n",
       "  </tbody>\n",
       "</table>\n",
       "</div>"
      ],
      "text/plain": [
       "          preusuel  last_10   last_3         color\n",
       "0   _prenoms_rares    50244  52740.0          plum\n",
       "1          gabriel     5233   4969.0  lightskyblue\n",
       "2              leo     4873   4789.0  lightskyblue\n",
       "3            lucas     4763   3657.0  lightskyblue\n",
       "4             emma     4625   3945.0          pink\n",
       "5          raphael     4594   4552.0  lightskyblue\n",
       "6            louis     4593   4061.0  lightskyblue\n",
       "7            jules     4279   3597.0  lightskyblue\n",
       "8             hugo     4191   3437.0  lightskyblue\n",
       "9             jade     4182   3877.0          pink\n",
       "10          louise     4158   3788.0          pink\n",
       "11            adam     4115   3658.0  lightskyblue\n",
       "12           ethan     3938   2895.0  lightskyblue\n",
       "13           chloe     3912   2928.0          pink\n",
       "14          nathan     3910   2638.0  lightskyblue\n",
       "15          arthur     3850   3853.0  lightskyblue\n",
       "16         camille     3795   2893.0          plum\n",
       "17            ines     3736   2791.0          pink\n",
       "18             lea     3624   2705.0          pink\n",
       "19            mael     3469   3501.0  lightskyblue\n",
       "20           manon     3201   1883.0          pink\n",
       "21            enzo     3196   1830.0  lightskyblue\n",
       "22            paul     3161   2770.0  lightskyblue\n",
       "23            lina     3140   2865.0          pink\n",
       "24           alice     3095   3198.0          pink\n",
       "25           nolan     3043   1835.0  lightskyblue\n",
       "26            lena     3033   2380.0          pink\n",
       "27           sacha     3022   2721.0          plum\n",
       "28           timeo     3006   1942.0  lightskyblue\n",
       "29             tom     2952   2368.0  lightskyblue"
      ]
     },
     "execution_count": 181,
     "metadata": {},
     "output_type": "execute_result"
    }
   ],
   "source": [
    "df_compare = df_compare.reset_index()\n",
    "df_compare['color'] = df_compare.preusuel.apply(lambda prenom: dict_prenom_color[prenom])\n",
    "df_compare.head(30)"
   ]
  },
  {
   "cell_type": "code",
   "execution_count": 185,
   "id": "922b7531",
   "metadata": {},
   "outputs": [
    {
     "data": {
      "text/plain": [
       "[['plum',\n",
       "  'lightskyblue',\n",
       "  'lightskyblue',\n",
       "  'lightskyblue',\n",
       "  'pink',\n",
       "  'lightskyblue',\n",
       "  'lightskyblue',\n",
       "  'lightskyblue',\n",
       "  'lightskyblue',\n",
       "  'pink',\n",
       "  'pink',\n",
       "  'lightskyblue',\n",
       "  'lightskyblue',\n",
       "  'pink',\n",
       "  'lightskyblue',\n",
       "  'lightskyblue',\n",
       "  'plum',\n",
       "  'pink',\n",
       "  'pink',\n",
       "  'lightskyblue',\n",
       "  'pink',\n",
       "  'lightskyblue',\n",
       "  'lightskyblue',\n",
       "  'pink',\n",
       "  'pink',\n",
       "  'lightskyblue',\n",
       "  'pink',\n",
       "  'plum',\n",
       "  'lightskyblue',\n",
       "  'lightskyblue',\n",
       "  'pink',\n",
       "  'lightskyblue',\n",
       "  'lightskyblue',\n",
       "  'lightskyblue',\n",
       "  'pink',\n",
       "  'lightskyblue',\n",
       "  'lightskyblue',\n",
       "  'lightskyblue',\n",
       "  'pink',\n",
       "  'pink',\n",
       "  'lightskyblue',\n",
       "  'plum',\n",
       "  'pink',\n",
       "  'lightskyblue',\n",
       "  'pink',\n",
       "  'pink',\n",
       "  'lightskyblue',\n",
       "  'pink',\n",
       "  'pink',\n",
       "  'pink',\n",
       "  'lightskyblue',\n",
       "  'lightskyblue',\n",
       "  'pink',\n",
       "  'lightskyblue',\n",
       "  'plum',\n",
       "  'pink',\n",
       "  'lightskyblue',\n",
       "  'lightskyblue',\n",
       "  'lightskyblue',\n",
       "  'lightskyblue',\n",
       "  'pink',\n",
       "  'pink',\n",
       "  'pink',\n",
       "  'lightskyblue',\n",
       "  'pink',\n",
       "  'lightskyblue',\n",
       "  'lightskyblue',\n",
       "  'lightskyblue',\n",
       "  'pink',\n",
       "  'pink',\n",
       "  'pink',\n",
       "  'lightskyblue',\n",
       "  'lightskyblue',\n",
       "  'plum',\n",
       "  'pink',\n",
       "  'plum',\n",
       "  'pink',\n",
       "  'lightskyblue',\n",
       "  'pink',\n",
       "  'pink',\n",
       "  'pink',\n",
       "  'pink',\n",
       "  'lightskyblue',\n",
       "  'pink',\n",
       "  'pink',\n",
       "  'lightskyblue',\n",
       "  'plum',\n",
       "  'lightskyblue',\n",
       "  'lightskyblue',\n",
       "  'lightskyblue',\n",
       "  'plum',\n",
       "  'pink',\n",
       "  'pink',\n",
       "  'plum',\n",
       "  'lightskyblue',\n",
       "  'pink',\n",
       "  'lightskyblue',\n",
       "  'pink',\n",
       "  'pink',\n",
       "  'pink',\n",
       "  'lightskyblue',\n",
       "  'pink',\n",
       "  'lightskyblue',\n",
       "  'pink',\n",
       "  'pink',\n",
       "  'lightskyblue',\n",
       "  'pink',\n",
       "  'pink',\n",
       "  'pink',\n",
       "  'lightskyblue',\n",
       "  'pink',\n",
       "  'lightskyblue',\n",
       "  'lightskyblue',\n",
       "  'lightskyblue',\n",
       "  'lightskyblue',\n",
       "  'lightskyblue',\n",
       "  'pink',\n",
       "  'pink',\n",
       "  'pink',\n",
       "  'plum',\n",
       "  'lightskyblue',\n",
       "  'pink',\n",
       "  'pink',\n",
       "  'lightskyblue',\n",
       "  'pink',\n",
       "  'pink',\n",
       "  'lightskyblue',\n",
       "  'plum',\n",
       "  'plum',\n",
       "  'lightskyblue',\n",
       "  'lightskyblue',\n",
       "  'pink',\n",
       "  'lightskyblue',\n",
       "  'lightskyblue',\n",
       "  'pink',\n",
       "  'pink',\n",
       "  'lightskyblue',\n",
       "  'pink',\n",
       "  'pink',\n",
       "  'lightskyblue',\n",
       "  'pink',\n",
       "  'pink',\n",
       "  'plum',\n",
       "  'lightskyblue',\n",
       "  'plum',\n",
       "  'lightskyblue',\n",
       "  'pink',\n",
       "  'lightskyblue',\n",
       "  'pink',\n",
       "  'lightskyblue',\n",
       "  'pink',\n",
       "  'pink',\n",
       "  'pink',\n",
       "  'lightskyblue',\n",
       "  'plum',\n",
       "  'pink',\n",
       "  'pink',\n",
       "  'lightskyblue',\n",
       "  'pink',\n",
       "  'lightskyblue',\n",
       "  'pink',\n",
       "  'lightskyblue',\n",
       "  'pink',\n",
       "  'lightskyblue',\n",
       "  'pink',\n",
       "  'plum',\n",
       "  'lightskyblue',\n",
       "  'lightskyblue',\n",
       "  'lightskyblue',\n",
       "  'pink',\n",
       "  'lightskyblue',\n",
       "  'lightskyblue',\n",
       "  'pink',\n",
       "  'lightskyblue',\n",
       "  'plum',\n",
       "  'lightskyblue',\n",
       "  'lightskyblue',\n",
       "  'lightskyblue',\n",
       "  'lightskyblue',\n",
       "  'pink',\n",
       "  'plum',\n",
       "  'lightskyblue',\n",
       "  'pink',\n",
       "  'pink',\n",
       "  'lightskyblue',\n",
       "  'lightskyblue',\n",
       "  'lightskyblue',\n",
       "  'pink',\n",
       "  'lightskyblue',\n",
       "  'plum',\n",
       "  'pink',\n",
       "  'pink',\n",
       "  'pink',\n",
       "  'lightskyblue',\n",
       "  'lightskyblue',\n",
       "  'pink',\n",
       "  'lightskyblue',\n",
       "  'pink',\n",
       "  'plum',\n",
       "  'pink',\n",
       "  'pink',\n",
       "  'pink',\n",
       "  'pink',\n",
       "  'lightskyblue',\n",
       "  'pink',\n",
       "  'lightskyblue',\n",
       "  'plum',\n",
       "  'pink',\n",
       "  'pink',\n",
       "  'plum',\n",
       "  'lightskyblue',\n",
       "  'plum',\n",
       "  'lightskyblue',\n",
       "  'lightskyblue',\n",
       "  'lightskyblue',\n",
       "  'pink',\n",
       "  'pink',\n",
       "  'pink',\n",
       "  'pink',\n",
       "  'pink',\n",
       "  'plum',\n",
       "  'pink',\n",
       "  'lightskyblue',\n",
       "  'plum',\n",
       "  'pink',\n",
       "  'lightskyblue',\n",
       "  'pink',\n",
       "  'pink',\n",
       "  'pink',\n",
       "  'pink',\n",
       "  'lightskyblue',\n",
       "  'lightskyblue',\n",
       "  'plum',\n",
       "  'lightskyblue',\n",
       "  'lightskyblue',\n",
       "  'lightskyblue',\n",
       "  'pink',\n",
       "  'lightskyblue',\n",
       "  'lightskyblue',\n",
       "  'lightskyblue',\n",
       "  'lightskyblue',\n",
       "  'pink',\n",
       "  'pink',\n",
       "  'pink',\n",
       "  'lightskyblue',\n",
       "  'lightskyblue',\n",
       "  'lightskyblue',\n",
       "  'lightskyblue',\n",
       "  'lightskyblue',\n",
       "  'lightskyblue',\n",
       "  'lightskyblue',\n",
       "  'pink',\n",
       "  'lightskyblue',\n",
       "  'lightskyblue',\n",
       "  'lightskyblue',\n",
       "  'pink',\n",
       "  'lightskyblue',\n",
       "  'lightskyblue',\n",
       "  'lightskyblue',\n",
       "  'lightskyblue',\n",
       "  'pink',\n",
       "  'lightskyblue',\n",
       "  'lightskyblue',\n",
       "  'pink',\n",
       "  'pink',\n",
       "  'lightskyblue',\n",
       "  'lightskyblue',\n",
       "  'lightskyblue',\n",
       "  'pink',\n",
       "  'plum',\n",
       "  'pink',\n",
       "  'pink',\n",
       "  'lightskyblue',\n",
       "  'plum',\n",
       "  'lightskyblue',\n",
       "  'lightskyblue',\n",
       "  'lightskyblue',\n",
       "  'lightskyblue',\n",
       "  'lightskyblue',\n",
       "  'pink',\n",
       "  'pink',\n",
       "  'pink',\n",
       "  'lightskyblue',\n",
       "  'pink',\n",
       "  'pink',\n",
       "  'lightskyblue',\n",
       "  'lightskyblue',\n",
       "  'pink',\n",
       "  'pink',\n",
       "  'pink',\n",
       "  'pink',\n",
       "  'pink',\n",
       "  'lightskyblue',\n",
       "  'lightskyblue',\n",
       "  'pink',\n",
       "  'lightskyblue',\n",
       "  'plum',\n",
       "  'pink',\n",
       "  'plum',\n",
       "  'lightskyblue',\n",
       "  'lightskyblue',\n",
       "  'pink',\n",
       "  'lightskyblue',\n",
       "  'lightskyblue',\n",
       "  'pink',\n",
       "  'lightskyblue',\n",
       "  'pink',\n",
       "  'pink',\n",
       "  'pink',\n",
       "  'lightskyblue',\n",
       "  'lightskyblue',\n",
       "  'plum',\n",
       "  'lightskyblue',\n",
       "  'lightskyblue',\n",
       "  'pink',\n",
       "  'pink',\n",
       "  'pink',\n",
       "  'lightskyblue',\n",
       "  'pink',\n",
       "  'pink',\n",
       "  'lightskyblue',\n",
       "  'pink',\n",
       "  'pink',\n",
       "  'plum',\n",
       "  'lightskyblue',\n",
       "  'lightskyblue',\n",
       "  'lightskyblue',\n",
       "  'pink',\n",
       "  'pink',\n",
       "  'lightskyblue',\n",
       "  'lightskyblue',\n",
       "  'pink',\n",
       "  'pink',\n",
       "  'pink',\n",
       "  'pink',\n",
       "  'pink',\n",
       "  'lightskyblue',\n",
       "  'pink',\n",
       "  'lightskyblue',\n",
       "  'pink',\n",
       "  'pink',\n",
       "  'pink',\n",
       "  'lightskyblue',\n",
       "  'pink',\n",
       "  'pink',\n",
       "  'plum',\n",
       "  'plum',\n",
       "  'pink',\n",
       "  'pink',\n",
       "  'plum',\n",
       "  'lightskyblue',\n",
       "  'plum',\n",
       "  'plum',\n",
       "  'pink',\n",
       "  'pink',\n",
       "  'pink',\n",
       "  'lightskyblue',\n",
       "  'lightskyblue',\n",
       "  'lightskyblue',\n",
       "  'pink',\n",
       "  'pink',\n",
       "  'plum',\n",
       "  'lightskyblue',\n",
       "  'pink',\n",
       "  'pink',\n",
       "  'pink',\n",
       "  'pink',\n",
       "  'pink',\n",
       "  'lightskyblue',\n",
       "  'plum',\n",
       "  'plum',\n",
       "  'plum',\n",
       "  'lightskyblue',\n",
       "  'pink',\n",
       "  'pink',\n",
       "  'pink',\n",
       "  'lightskyblue',\n",
       "  'lightskyblue',\n",
       "  'lightskyblue',\n",
       "  'lightskyblue',\n",
       "  'lightskyblue',\n",
       "  'lightskyblue',\n",
       "  'pink',\n",
       "  'lightskyblue',\n",
       "  'pink',\n",
       "  'pink',\n",
       "  'pink',\n",
       "  'pink',\n",
       "  'pink',\n",
       "  'lightskyblue',\n",
       "  'plum',\n",
       "  'pink',\n",
       "  'lightskyblue',\n",
       "  'pink',\n",
       "  'pink',\n",
       "  'pink',\n",
       "  'pink',\n",
       "  'lightskyblue',\n",
       "  'lightskyblue',\n",
       "  'pink',\n",
       "  'pink',\n",
       "  'plum',\n",
       "  'pink',\n",
       "  'plum',\n",
       "  'lightskyblue',\n",
       "  'lightskyblue',\n",
       "  'pink',\n",
       "  'lightskyblue',\n",
       "  'lightskyblue',\n",
       "  'pink',\n",
       "  'lightskyblue',\n",
       "  'pink',\n",
       "  'pink',\n",
       "  'pink',\n",
       "  'lightskyblue',\n",
       "  'lightskyblue',\n",
       "  'lightskyblue',\n",
       "  'pink',\n",
       "  'lightskyblue',\n",
       "  'lightskyblue',\n",
       "  'pink',\n",
       "  'pink',\n",
       "  'lightskyblue',\n",
       "  'lightskyblue',\n",
       "  'pink',\n",
       "  'pink',\n",
       "  'lightskyblue',\n",
       "  'pink',\n",
       "  'pink',\n",
       "  'pink',\n",
       "  'pink',\n",
       "  'plum',\n",
       "  'lightskyblue',\n",
       "  'pink',\n",
       "  'pink',\n",
       "  'lightskyblue',\n",
       "  'pink',\n",
       "  'pink',\n",
       "  'pink',\n",
       "  'lightskyblue',\n",
       "  'plum',\n",
       "  'pink',\n",
       "  'lightskyblue',\n",
       "  'pink',\n",
       "  'lightskyblue',\n",
       "  'plum',\n",
       "  'lightskyblue',\n",
       "  'pink',\n",
       "  'pink',\n",
       "  'pink',\n",
       "  'lightskyblue',\n",
       "  'lightskyblue',\n",
       "  'plum',\n",
       "  'lightskyblue',\n",
       "  'lightskyblue',\n",
       "  'plum',\n",
       "  'pink',\n",
       "  'lightskyblue',\n",
       "  'pink',\n",
       "  'lightskyblue',\n",
       "  'pink',\n",
       "  'pink',\n",
       "  'pink',\n",
       "  'pink',\n",
       "  'lightskyblue',\n",
       "  'pink',\n",
       "  'plum',\n",
       "  'lightskyblue',\n",
       "  'pink',\n",
       "  'pink',\n",
       "  'pink',\n",
       "  'pink',\n",
       "  'pink',\n",
       "  'lightskyblue',\n",
       "  'lightskyblue',\n",
       "  'pink',\n",
       "  'pink',\n",
       "  'pink',\n",
       "  'lightskyblue',\n",
       "  'lightskyblue',\n",
       "  'lightskyblue',\n",
       "  'pink',\n",
       "  'pink',\n",
       "  'pink',\n",
       "  'pink',\n",
       "  'lightskyblue',\n",
       "  'lightskyblue',\n",
       "  'pink',\n",
       "  'lightskyblue',\n",
       "  'pink',\n",
       "  'pink',\n",
       "  'pink',\n",
       "  'pink',\n",
       "  'lightskyblue',\n",
       "  'pink',\n",
       "  'lightskyblue',\n",
       "  'lightskyblue',\n",
       "  'lightskyblue',\n",
       "  'pink',\n",
       "  'lightskyblue',\n",
       "  'pink',\n",
       "  'pink',\n",
       "  'lightskyblue',\n",
       "  'lightskyblue',\n",
       "  'pink',\n",
       "  'lightskyblue',\n",
       "  'lightskyblue',\n",
       "  'lightskyblue',\n",
       "  'pink',\n",
       "  'pink',\n",
       "  'pink',\n",
       "  'lightskyblue',\n",
       "  'lightskyblue',\n",
       "  'pink',\n",
       "  'plum',\n",
       "  'pink',\n",
       "  'pink',\n",
       "  'pink',\n",
       "  'pink',\n",
       "  'pink',\n",
       "  'lightskyblue',\n",
       "  'lightskyblue',\n",
       "  'lightskyblue',\n",
       "  'pink',\n",
       "  'lightskyblue',\n",
       "  'pink',\n",
       "  'pink',\n",
       "  'lightskyblue',\n",
       "  'pink',\n",
       "  'pink',\n",
       "  'lightskyblue',\n",
       "  'plum',\n",
       "  'pink',\n",
       "  'pink',\n",
       "  'lightskyblue',\n",
       "  'plum',\n",
       "  'plum',\n",
       "  'pink',\n",
       "  'pink',\n",
       "  'lightskyblue',\n",
       "  'pink',\n",
       "  'plum',\n",
       "  'lightskyblue',\n",
       "  'plum',\n",
       "  'pink',\n",
       "  'pink',\n",
       "  'pink',\n",
       "  'lightskyblue',\n",
       "  'plum',\n",
       "  'plum',\n",
       "  'pink',\n",
       "  'pink',\n",
       "  'pink',\n",
       "  'lightskyblue',\n",
       "  'pink',\n",
       "  'lightskyblue',\n",
       "  'lightskyblue',\n",
       "  'lightskyblue',\n",
       "  'lightskyblue',\n",
       "  'plum',\n",
       "  'pink',\n",
       "  'pink',\n",
       "  'plum',\n",
       "  'pink',\n",
       "  'lightskyblue',\n",
       "  'lightskyblue',\n",
       "  'lightskyblue',\n",
       "  'pink',\n",
       "  'pink',\n",
       "  'lightskyblue',\n",
       "  'lightskyblue',\n",
       "  'pink',\n",
       "  'pink',\n",
       "  'pink',\n",
       "  'lightskyblue',\n",
       "  'lightskyblue',\n",
       "  'pink',\n",
       "  'lightskyblue',\n",
       "  'pink',\n",
       "  'lightskyblue',\n",
       "  'pink',\n",
       "  'lightskyblue',\n",
       "  'lightskyblue',\n",
       "  'pink',\n",
       "  'lightskyblue',\n",
       "  'plum',\n",
       "  'pink',\n",
       "  'pink',\n",
       "  'lightskyblue',\n",
       "  'pink',\n",
       "  'pink',\n",
       "  'pink',\n",
       "  'lightskyblue',\n",
       "  'plum',\n",
       "  'lightskyblue',\n",
       "  'lightskyblue',\n",
       "  'pink',\n",
       "  'plum',\n",
       "  'pink',\n",
       "  'pink',\n",
       "  'lightskyblue',\n",
       "  'lightskyblue',\n",
       "  'pink',\n",
       "  'pink',\n",
       "  'lightskyblue',\n",
       "  'lightskyblue',\n",
       "  'pink',\n",
       "  'lightskyblue',\n",
       "  'lightskyblue',\n",
       "  'lightskyblue',\n",
       "  'pink',\n",
       "  'pink',\n",
       "  'pink',\n",
       "  'lightskyblue',\n",
       "  'pink',\n",
       "  'plum',\n",
       "  'pink',\n",
       "  'pink',\n",
       "  'lightskyblue',\n",
       "  'lightskyblue',\n",
       "  'pink',\n",
       "  'lightskyblue',\n",
       "  'lightskyblue',\n",
       "  'lightskyblue',\n",
       "  'pink',\n",
       "  'plum',\n",
       "  'plum',\n",
       "  'plum',\n",
       "  'pink',\n",
       "  'pink',\n",
       "  'lightskyblue',\n",
       "  'plum',\n",
       "  'pink',\n",
       "  'pink',\n",
       "  'lightskyblue',\n",
       "  'lightskyblue',\n",
       "  'lightskyblue',\n",
       "  'pink',\n",
       "  'pink',\n",
       "  'pink',\n",
       "  'lightskyblue',\n",
       "  'pink',\n",
       "  'pink',\n",
       "  'lightskyblue',\n",
       "  'pink',\n",
       "  'pink',\n",
       "  'pink',\n",
       "  'pink',\n",
       "  'pink',\n",
       "  'lightskyblue',\n",
       "  'lightskyblue',\n",
       "  'pink',\n",
       "  'pink',\n",
       "  'lightskyblue',\n",
       "  'pink',\n",
       "  'pink',\n",
       "  'lightskyblue',\n",
       "  'pink',\n",
       "  'pink',\n",
       "  'lightskyblue',\n",
       "  'lightskyblue',\n",
       "  'lightskyblue',\n",
       "  'lightskyblue',\n",
       "  'pink',\n",
       "  'lightskyblue',\n",
       "  'pink',\n",
       "  'lightskyblue',\n",
       "  'lightskyblue',\n",
       "  'pink',\n",
       "  'pink',\n",
       "  'pink',\n",
       "  'lightskyblue',\n",
       "  'plum',\n",
       "  'lightskyblue',\n",
       "  'plum',\n",
       "  'plum',\n",
       "  'lightskyblue',\n",
       "  'lightskyblue',\n",
       "  'lightskyblue',\n",
       "  'pink',\n",
       "  'pink',\n",
       "  'lightskyblue',\n",
       "  'plum',\n",
       "  'pink',\n",
       "  'lightskyblue',\n",
       "  'lightskyblue',\n",
       "  'pink',\n",
       "  'lightskyblue',\n",
       "  'lightskyblue',\n",
       "  'pink',\n",
       "  'pink',\n",
       "  'pink',\n",
       "  'pink',\n",
       "  'pink',\n",
       "  'pink',\n",
       "  'pink',\n",
       "  'pink',\n",
       "  'pink',\n",
       "  'pink',\n",
       "  'pink',\n",
       "  'lightskyblue',\n",
       "  'lightskyblue',\n",
       "  'pink',\n",
       "  'lightskyblue',\n",
       "  'lightskyblue',\n",
       "  'pink',\n",
       "  'lightskyblue',\n",
       "  'pink',\n",
       "  'lightskyblue',\n",
       "  'plum',\n",
       "  'pink',\n",
       "  'pink',\n",
       "  'pink',\n",
       "  'lightskyblue',\n",
       "  'pink',\n",
       "  'lightskyblue',\n",
       "  'pink',\n",
       "  'lightskyblue',\n",
       "  'pink',\n",
       "  'pink',\n",
       "  'pink',\n",
       "  'pink',\n",
       "  'lightskyblue',\n",
       "  'pink',\n",
       "  'plum',\n",
       "  'pink',\n",
       "  'pink',\n",
       "  'lightskyblue',\n",
       "  'pink',\n",
       "  'pink',\n",
       "  'lightskyblue',\n",
       "  'lightskyblue',\n",
       "  'pink',\n",
       "  'pink',\n",
       "  'plum',\n",
       "  'pink',\n",
       "  'pink',\n",
       "  'lightskyblue',\n",
       "  'lightskyblue',\n",
       "  'lightskyblue',\n",
       "  'plum',\n",
       "  'pink',\n",
       "  'lightskyblue',\n",
       "  'lightskyblue',\n",
       "  'pink',\n",
       "  'lightskyblue',\n",
       "  'lightskyblue',\n",
       "  'pink',\n",
       "  'lightskyblue',\n",
       "  'lightskyblue',\n",
       "  'lightskyblue',\n",
       "  'pink',\n",
       "  'pink',\n",
       "  'lightskyblue',\n",
       "  'lightskyblue',\n",
       "  'pink',\n",
       "  'lightskyblue',\n",
       "  'pink',\n",
       "  'pink',\n",
       "  'pink',\n",
       "  'pink',\n",
       "  'pink',\n",
       "  'lightskyblue',\n",
       "  'plum',\n",
       "  'lightskyblue',\n",
       "  'pink',\n",
       "  'pink',\n",
       "  'lightskyblue',\n",
       "  'pink',\n",
       "  'lightskyblue',\n",
       "  'lightskyblue',\n",
       "  'lightskyblue',\n",
       "  'pink',\n",
       "  'lightskyblue',\n",
       "  'plum',\n",
       "  'pink',\n",
       "  'lightskyblue',\n",
       "  'plum',\n",
       "  'lightskyblue',\n",
       "  'pink',\n",
       "  'pink',\n",
       "  'lightskyblue',\n",
       "  'lightskyblue',\n",
       "  'pink',\n",
       "  'pink',\n",
       "  'plum',\n",
       "  'pink',\n",
       "  'pink',\n",
       "  'pink',\n",
       "  'lightskyblue',\n",
       "  'pink',\n",
       "  'pink',\n",
       "  'pink',\n",
       "  'lightskyblue',\n",
       "  'plum',\n",
       "  'lightskyblue',\n",
       "  'pink',\n",
       "  'lightskyblue',\n",
       "  'plum',\n",
       "  'plum',\n",
       "  'lightskyblue',\n",
       "  'lightskyblue',\n",
       "  'pink',\n",
       "  'plum',\n",
       "  'lightskyblue',\n",
       "  'pink',\n",
       "  'plum',\n",
       "  'plum',\n",
       "  'lightskyblue',\n",
       "  'lightskyblue',\n",
       "  'lightskyblue',\n",
       "  'plum',\n",
       "  'plum',\n",
       "  'pink',\n",
       "  'plum',\n",
       "  'pink',\n",
       "  'lightskyblue',\n",
       "  'pink',\n",
       "  'pink',\n",
       "  'pink',\n",
       "  'pink',\n",
       "  'lightskyblue',\n",
       "  'lightskyblue',\n",
       "  'pink',\n",
       "  'pink',\n",
       "  'lightskyblue',\n",
       "  'lightskyblue',\n",
       "  'lightskyblue',\n",
       "  'pink',\n",
       "  'pink',\n",
       "  'lightskyblue',\n",
       "  'pink',\n",
       "  'pink',\n",
       "  'pink',\n",
       "  'lightskyblue',\n",
       "  'pink',\n",
       "  'plum',\n",
       "  'pink',\n",
       "  'plum',\n",
       "  'pink',\n",
       "  'lightskyblue',\n",
       "  'lightskyblue',\n",
       "  'pink',\n",
       "  'pink',\n",
       "  'pink',\n",
       "  'lightskyblue',\n",
       "  'lightskyblue',\n",
       "  'pink',\n",
       "  'pink',\n",
       "  'pink',\n",
       "  'pink',\n",
       "  'pink',\n",
       "  'lightskyblue',\n",
       "  'pink',\n",
       "  'plum',\n",
       "  'lightskyblue',\n",
       "  'pink',\n",
       "  'lightskyblue',\n",
       "  'lightskyblue',\n",
       "  'pink',\n",
       "  'lightskyblue',\n",
       "  'lightskyblue',\n",
       "  'lightskyblue',\n",
       "  'pink',\n",
       "  'lightskyblue',\n",
       "  'lightskyblue',\n",
       "  'lightskyblue',\n",
       "  'pink',\n",
       "  'pink',\n",
       "  'lightskyblue',\n",
       "  'lightskyblue',\n",
       "  'pink',\n",
       "  'pink',\n",
       "  'pink',\n",
       "  'pink',\n",
       "  'lightskyblue',\n",
       "  'lightskyblue',\n",
       "  'pink',\n",
       "  'pink',\n",
       "  'lightskyblue',\n",
       "  'plum',\n",
       "  'pink',\n",
       "  'lightskyblue',\n",
       "  'lightskyblue',\n",
       "  'plum',\n",
       "  'lightskyblue',\n",
       "  'plum',\n",
       "  'pink',\n",
       "  'pink',\n",
       "  'pink',\n",
       "  'plum',\n",
       "  'lightskyblue',\n",
       "  'plum',\n",
       "  'lightskyblue',\n",
       "  'pink',\n",
       "  'pink',\n",
       "  'lightskyblue',\n",
       "  'pink',\n",
       "  'pink',\n",
       "  'pink',\n",
       "  'lightskyblue',\n",
       "  'plum',\n",
       "  'pink',\n",
       "  'pink',\n",
       "  'lightskyblue',\n",
       "  'pink',\n",
       "  'pink',\n",
       "  'pink',\n",
       "  'pink',\n",
       "  'plum',\n",
       "  'plum',\n",
       "  'pink',\n",
       "  'lightskyblue',\n",
       "  'plum',\n",
       "  'pink',\n",
       "  'lightskyblue',\n",
       "  'pink',\n",
       "  'pink',\n",
       "  'plum',\n",
       "  'pink',\n",
       "  'pink',\n",
       "  'pink',\n",
       "  'pink',\n",
       "  'pink',\n",
       "  'lightskyblue',\n",
       "  'pink',\n",
       "  'lightskyblue',\n",
       "  'pink',\n",
       "  'plum',\n",
       "  'pink',\n",
       "  'pink',\n",
       "  'pink',\n",
       "  'plum',\n",
       "  'lightskyblue',\n",
       "  'pink',\n",
       "  'pink',\n",
       "  'lightskyblue',\n",
       "  'pink',\n",
       "  'pink',\n",
       "  'plum',\n",
       "  'lightskyblue',\n",
       "  'lightskyblue',\n",
       "  'pink',\n",
       "  'pink',\n",
       "  'pink',\n",
       "  'plum',\n",
       "  'plum',\n",
       "  'pink',\n",
       "  'lightskyblue',\n",
       "  'pink',\n",
       "  'plum',\n",
       "  'plum',\n",
       "  'lightskyblue',\n",
       "  'lightskyblue',\n",
       "  'lightskyblue',\n",
       "  'pink',\n",
       "  'pink',\n",
       "  'plum',\n",
       "  'lightskyblue',\n",
       "  'lightskyblue',\n",
       "  'pink',\n",
       "  'pink',\n",
       "  'lightskyblue',\n",
       "  'plum',\n",
       "  'pink',\n",
       "  'pink',\n",
       "  'lightskyblue',\n",
       "  'pink',\n",
       "  'lightskyblue',\n",
       "  'pink',\n",
       "  'lightskyblue',\n",
       "  'pink',\n",
       "  'plum',\n",
       "  'pink',\n",
       "  'pink',\n",
       "  'pink',\n",
       "  'pink',\n",
       "  'pink',\n",
       "  'lightskyblue',\n",
       "  'lightskyblue',\n",
       "  'pink',\n",
       "  'lightskyblue',\n",
       "  'lightskyblue',\n",
       "  'pink',\n",
       "  'lightskyblue',\n",
       "  'pink',\n",
       "  'pink',\n",
       "  'pink',\n",
       "  'plum',\n",
       "  'lightskyblue',\n",
       "  'pink',\n",
       "  'lightskyblue',\n",
       "  'lightskyblue',\n",
       "  'lightskyblue',\n",
       "  'pink',\n",
       "  'pink',\n",
       "  'pink',\n",
       "  'pink',\n",
       "  'plum',\n",
       "  'pink',\n",
       "  ...]]"
      ]
     },
     "execution_count": 185,
     "metadata": {},
     "output_type": "execute_result"
    }
   ],
   "source": [
    "# Get number of sexes by Prénom\n",
    "df_compare_prenoms = df_compare.reset_index()\n",
    "df_compare_prenoms = df_compare_prenoms[['preusuel']]\n",
    "df_compare_prenoms['color'] = df_compare_prenoms.preusuel.apply(lambda prenom: dict_prenom_color[prenom])\n",
    "ar_colors = df_compare_prenoms.color.values.tolist()\n",
    "\n",
    "[ar_colors * 5]"
   ]
  },
  {
   "cell_type": "code",
   "execution_count": 188,
   "id": "e7e2fc9c",
   "metadata": {},
   "outputs": [
    {
     "data": {
      "text/plain": [
       "[[1, 2, 3, 1, 2, 3, 1, 2, 3, 1, 2, 3, 1, 2, 3]]"
      ]
     },
     "execution_count": 188,
     "metadata": {},
     "output_type": "execute_result"
    }
   ],
   "source": [
    "liste = [1, 2, 3]\n",
    "\n",
    "[[1, 2, 3] * 5]"
   ]
  },
  {
   "cell_type": "code",
   "execution_count": 52,
   "id": "2c98d106",
   "metadata": {},
   "outputs": [
    {
     "data": {
      "text/html": [
       "<div>\n",
       "<style scoped>\n",
       "    .dataframe tbody tr th:only-of-type {\n",
       "        vertical-align: middle;\n",
       "    }\n",
       "\n",
       "    .dataframe tbody tr th {\n",
       "        vertical-align: top;\n",
       "    }\n",
       "\n",
       "    .dataframe thead th {\n",
       "        text-align: right;\n",
       "    }\n",
       "</style>\n",
       "<table border=\"1\" class=\"dataframe\">\n",
       "  <thead>\n",
       "    <tr style=\"text-align: right;\">\n",
       "      <th></th>\n",
       "      <th>sexe</th>\n",
       "      <th>preusuel</th>\n",
       "      <th>annais</th>\n",
       "      <th>nombre</th>\n",
       "    </tr>\n",
       "  </thead>\n",
       "  <tbody>\n",
       "    <tr>\n",
       "      <th>0</th>\n",
       "      <td>1</td>\n",
       "      <td>_prenoms_rares</td>\n",
       "      <td>1900</td>\n",
       "      <td>1250</td>\n",
       "    </tr>\n",
       "    <tr>\n",
       "      <th>1</th>\n",
       "      <td>1</td>\n",
       "      <td>_prenoms_rares</td>\n",
       "      <td>1901</td>\n",
       "      <td>1342</td>\n",
       "    </tr>\n",
       "    <tr>\n",
       "      <th>2</th>\n",
       "      <td>1</td>\n",
       "      <td>_prenoms_rares</td>\n",
       "      <td>1902</td>\n",
       "      <td>1330</td>\n",
       "    </tr>\n",
       "    <tr>\n",
       "      <th>3</th>\n",
       "      <td>1</td>\n",
       "      <td>_prenoms_rares</td>\n",
       "      <td>1903</td>\n",
       "      <td>1286</td>\n",
       "    </tr>\n",
       "    <tr>\n",
       "      <th>4</th>\n",
       "      <td>1</td>\n",
       "      <td>_prenoms_rares</td>\n",
       "      <td>1904</td>\n",
       "      <td>1430</td>\n",
       "    </tr>\n",
       "    <tr>\n",
       "      <th>...</th>\n",
       "      <td>...</td>\n",
       "      <td>...</td>\n",
       "      <td>...</td>\n",
       "      <td>...</td>\n",
       "    </tr>\n",
       "    <tr>\n",
       "      <th>667358</th>\n",
       "      <td>2</td>\n",
       "      <td>zyneb</td>\n",
       "      <td>2016</td>\n",
       "      <td>6</td>\n",
       "    </tr>\n",
       "    <tr>\n",
       "      <th>667359</th>\n",
       "      <td>2</td>\n",
       "      <td>zyneb</td>\n",
       "      <td>2017</td>\n",
       "      <td>6</td>\n",
       "    </tr>\n",
       "    <tr>\n",
       "      <th>667360</th>\n",
       "      <td>2</td>\n",
       "      <td>zyneb</td>\n",
       "      <td>2018</td>\n",
       "      <td>5</td>\n",
       "    </tr>\n",
       "    <tr>\n",
       "      <th>667361</th>\n",
       "      <td>2</td>\n",
       "      <td>zyneb</td>\n",
       "      <td>2019</td>\n",
       "      <td>7</td>\n",
       "    </tr>\n",
       "    <tr>\n",
       "      <th>667362</th>\n",
       "      <td>2</td>\n",
       "      <td>zyneb</td>\n",
       "      <td>2020</td>\n",
       "      <td>8</td>\n",
       "    </tr>\n",
       "  </tbody>\n",
       "</table>\n",
       "<p>630688 rows × 4 columns</p>\n",
       "</div>"
      ],
      "text/plain": [
       "        sexe        preusuel  annais  nombre\n",
       "0          1  _prenoms_rares    1900    1250\n",
       "1          1  _prenoms_rares    1901    1342\n",
       "2          1  _prenoms_rares    1902    1330\n",
       "3          1  _prenoms_rares    1903    1286\n",
       "4          1  _prenoms_rares    1904    1430\n",
       "...      ...             ...     ...     ...\n",
       "667358     2           zyneb    2016       6\n",
       "667359     2           zyneb    2017       6\n",
       "667360     2           zyneb    2018       5\n",
       "667361     2           zyneb    2019       7\n",
       "667362     2           zyneb    2020       8\n",
       "\n",
       "[630688 rows x 4 columns]"
      ]
     },
     "execution_count": 52,
     "metadata": {},
     "output_type": "execute_result"
    }
   ],
   "source": [
    "df_nat"
   ]
  },
  {
   "cell_type": "code",
   "execution_count": 104,
   "id": "1873b6c7",
   "metadata": {},
   "outputs": [
    {
     "data": {
      "text/html": [
       "<div>\n",
       "<style scoped>\n",
       "    .dataframe tbody tr th:only-of-type {\n",
       "        vertical-align: middle;\n",
       "    }\n",
       "\n",
       "    .dataframe tbody tr th {\n",
       "        vertical-align: top;\n",
       "    }\n",
       "\n",
       "    .dataframe thead th {\n",
       "        text-align: right;\n",
       "    }\n",
       "</style>\n",
       "<table border=\"1\" class=\"dataframe\">\n",
       "  <thead>\n",
       "    <tr style=\"text-align: right;\">\n",
       "      <th></th>\n",
       "      <th>preusuel</th>\n",
       "      <th>last_10</th>\n",
       "      <th>last_3</th>\n",
       "    </tr>\n",
       "  </thead>\n",
       "  <tbody>\n",
       "    <tr>\n",
       "      <th>0</th>\n",
       "      <td>_prenoms_rares</td>\n",
       "      <td>24152</td>\n",
       "      <td>25526.0</td>\n",
       "    </tr>\n",
       "    <tr>\n",
       "      <th>1</th>\n",
       "      <td>gabriel</td>\n",
       "      <td>5233</td>\n",
       "      <td>4968.0</td>\n",
       "    </tr>\n",
       "    <tr>\n",
       "      <th>2</th>\n",
       "      <td>leo</td>\n",
       "      <td>4869</td>\n",
       "      <td>4781.0</td>\n",
       "    </tr>\n",
       "    <tr>\n",
       "      <th>3</th>\n",
       "      <td>lucas</td>\n",
       "      <td>4763</td>\n",
       "      <td>3657.0</td>\n",
       "    </tr>\n",
       "    <tr>\n",
       "      <th>4</th>\n",
       "      <td>raphael</td>\n",
       "      <td>4594</td>\n",
       "      <td>4551.0</td>\n",
       "    </tr>\n",
       "    <tr>\n",
       "      <th>...</th>\n",
       "      <td>...</td>\n",
       "      <td>...</td>\n",
       "      <td>...</td>\n",
       "    </tr>\n",
       "    <tr>\n",
       "      <th>9836</th>\n",
       "      <td>djamel-eddine</td>\n",
       "      <td>0</td>\n",
       "      <td>NaN</td>\n",
       "    </tr>\n",
       "    <tr>\n",
       "      <th>9837</th>\n",
       "      <td>tran</td>\n",
       "      <td>0</td>\n",
       "      <td>NaN</td>\n",
       "    </tr>\n",
       "    <tr>\n",
       "      <th>9838</th>\n",
       "      <td>jean-maxime</td>\n",
       "      <td>0</td>\n",
       "      <td>NaN</td>\n",
       "    </tr>\n",
       "    <tr>\n",
       "      <th>9839</th>\n",
       "      <td>jean-mathis</td>\n",
       "      <td>0</td>\n",
       "      <td>NaN</td>\n",
       "    </tr>\n",
       "    <tr>\n",
       "      <th>9840</th>\n",
       "      <td>roxan</td>\n",
       "      <td>0</td>\n",
       "      <td>NaN</td>\n",
       "    </tr>\n",
       "  </tbody>\n",
       "</table>\n",
       "<p>9841 rows × 3 columns</p>\n",
       "</div>"
      ],
      "text/plain": [
       "            preusuel  last_10   last_3\n",
       "0     _prenoms_rares    24152  25526.0\n",
       "1            gabriel     5233   4968.0\n",
       "2                leo     4869   4781.0\n",
       "3              lucas     4763   3657.0\n",
       "4            raphael     4594   4551.0\n",
       "...              ...      ...      ...\n",
       "9836   djamel-eddine        0      NaN\n",
       "9837            tran        0      NaN\n",
       "9838     jean-maxime        0      NaN\n",
       "9839     jean-mathis        0      NaN\n",
       "9840           roxan        0      NaN\n",
       "\n",
       "[9841 rows x 3 columns]"
      ]
     },
     "execution_count": 104,
     "metadata": {},
     "output_type": "execute_result"
    }
   ],
   "source": [
    "df_compare.reset_index()"
   ]
  },
  {
   "cell_type": "code",
   "execution_count": 84,
   "id": "ab6ddb03",
   "metadata": {},
   "outputs": [
    {
     "data": {
      "text/html": [
       "<div>\n",
       "<style scoped>\n",
       "    .dataframe tbody tr th:only-of-type {\n",
       "        vertical-align: middle;\n",
       "    }\n",
       "\n",
       "    .dataframe tbody tr th {\n",
       "        vertical-align: top;\n",
       "    }\n",
       "\n",
       "    .dataframe thead th {\n",
       "        text-align: right;\n",
       "    }\n",
       "</style>\n",
       "<table border=\"1\" class=\"dataframe\">\n",
       "  <thead>\n",
       "    <tr style=\"text-align: right;\">\n",
       "      <th></th>\n",
       "      <th>nsexes</th>\n",
       "      <th>sexe</th>\n",
       "      <th>fsexe</th>\n",
       "    </tr>\n",
       "    <tr>\n",
       "      <th>preusuel</th>\n",
       "      <th></th>\n",
       "      <th></th>\n",
       "      <th></th>\n",
       "    </tr>\n",
       "  </thead>\n",
       "  <tbody>\n",
       "    <tr>\n",
       "      <th>ariel</th>\n",
       "      <td>2</td>\n",
       "      <td>2</td>\n",
       "      <td>1</td>\n",
       "    </tr>\n",
       "    <tr>\n",
       "      <th>stefanu</th>\n",
       "      <td>1</td>\n",
       "      <td>1</td>\n",
       "      <td>1</td>\n",
       "    </tr>\n",
       "    <tr>\n",
       "      <th>thibo</th>\n",
       "      <td>1</td>\n",
       "      <td>1</td>\n",
       "      <td>1</td>\n",
       "    </tr>\n",
       "    <tr>\n",
       "      <th>millan</th>\n",
       "      <td>1</td>\n",
       "      <td>1</td>\n",
       "      <td>1</td>\n",
       "    </tr>\n",
       "    <tr>\n",
       "      <th>chamsdine</th>\n",
       "      <td>1</td>\n",
       "      <td>1</td>\n",
       "      <td>1</td>\n",
       "    </tr>\n",
       "    <tr>\n",
       "      <th>timour</th>\n",
       "      <td>1</td>\n",
       "      <td>1</td>\n",
       "      <td>1</td>\n",
       "    </tr>\n",
       "    <tr>\n",
       "      <th>mocktar</th>\n",
       "      <td>1</td>\n",
       "      <td>1</td>\n",
       "      <td>1</td>\n",
       "    </tr>\n",
       "    <tr>\n",
       "      <th>tyson</th>\n",
       "      <td>1</td>\n",
       "      <td>1</td>\n",
       "      <td>1</td>\n",
       "    </tr>\n",
       "    <tr>\n",
       "      <th>fouad</th>\n",
       "      <td>1</td>\n",
       "      <td>1</td>\n",
       "      <td>1</td>\n",
       "    </tr>\n",
       "    <tr>\n",
       "      <th>galdric</th>\n",
       "      <td>1</td>\n",
       "      <td>1</td>\n",
       "      <td>1</td>\n",
       "    </tr>\n",
       "    <tr>\n",
       "      <th>sohane</th>\n",
       "      <td>2</td>\n",
       "      <td>2</td>\n",
       "      <td>1</td>\n",
       "    </tr>\n",
       "    <tr>\n",
       "      <th>adao</th>\n",
       "      <td>1</td>\n",
       "      <td>1</td>\n",
       "      <td>1</td>\n",
       "    </tr>\n",
       "    <tr>\n",
       "      <th>pierre-loup</th>\n",
       "      <td>1</td>\n",
       "      <td>1</td>\n",
       "      <td>1</td>\n",
       "    </tr>\n",
       "    <tr>\n",
       "      <th>lenz</th>\n",
       "      <td>1</td>\n",
       "      <td>1</td>\n",
       "      <td>1</td>\n",
       "    </tr>\n",
       "    <tr>\n",
       "      <th>djenael</th>\n",
       "      <td>1</td>\n",
       "      <td>1</td>\n",
       "      <td>1</td>\n",
       "    </tr>\n",
       "    <tr>\n",
       "      <th>noane</th>\n",
       "      <td>2</td>\n",
       "      <td>2</td>\n",
       "      <td>1</td>\n",
       "    </tr>\n",
       "    <tr>\n",
       "      <th>aimine</th>\n",
       "      <td>1</td>\n",
       "      <td>1</td>\n",
       "      <td>1</td>\n",
       "    </tr>\n",
       "    <tr>\n",
       "      <th>zayyan</th>\n",
       "      <td>1</td>\n",
       "      <td>1</td>\n",
       "      <td>1</td>\n",
       "    </tr>\n",
       "    <tr>\n",
       "      <th>abdou-aziz</th>\n",
       "      <td>1</td>\n",
       "      <td>1</td>\n",
       "      <td>1</td>\n",
       "    </tr>\n",
       "    <tr>\n",
       "      <th>shaun</th>\n",
       "      <td>1</td>\n",
       "      <td>1</td>\n",
       "      <td>1</td>\n",
       "    </tr>\n",
       "    <tr>\n",
       "      <th>tedd</th>\n",
       "      <td>1</td>\n",
       "      <td>1</td>\n",
       "      <td>1</td>\n",
       "    </tr>\n",
       "    <tr>\n",
       "      <th>elysio</th>\n",
       "      <td>1</td>\n",
       "      <td>1</td>\n",
       "      <td>1</td>\n",
       "    </tr>\n",
       "    <tr>\n",
       "      <th>amedee</th>\n",
       "      <td>2</td>\n",
       "      <td>2</td>\n",
       "      <td>1</td>\n",
       "    </tr>\n",
       "    <tr>\n",
       "      <th>yun</th>\n",
       "      <td>2</td>\n",
       "      <td>2</td>\n",
       "      <td>1</td>\n",
       "    </tr>\n",
       "    <tr>\n",
       "      <th>binjamin</th>\n",
       "      <td>1</td>\n",
       "      <td>1</td>\n",
       "      <td>1</td>\n",
       "    </tr>\n",
       "    <tr>\n",
       "      <th>rui</th>\n",
       "      <td>1</td>\n",
       "      <td>1</td>\n",
       "      <td>1</td>\n",
       "    </tr>\n",
       "    <tr>\n",
       "      <th>welat</th>\n",
       "      <td>1</td>\n",
       "      <td>1</td>\n",
       "      <td>1</td>\n",
       "    </tr>\n",
       "    <tr>\n",
       "      <th>elrick</th>\n",
       "      <td>1</td>\n",
       "      <td>1</td>\n",
       "      <td>1</td>\n",
       "    </tr>\n",
       "    <tr>\n",
       "      <th>manael</th>\n",
       "      <td>2</td>\n",
       "      <td>2</td>\n",
       "      <td>1</td>\n",
       "    </tr>\n",
       "    <tr>\n",
       "      <th>kaiden</th>\n",
       "      <td>1</td>\n",
       "      <td>1</td>\n",
       "      <td>1</td>\n",
       "    </tr>\n",
       "  </tbody>\n",
       "</table>\n",
       "</div>"
      ],
      "text/plain": [
       "             nsexes  sexe  fsexe\n",
       "preusuel                        \n",
       "ariel             2     2      1\n",
       "stefanu           1     1      1\n",
       "thibo             1     1      1\n",
       "millan            1     1      1\n",
       "chamsdine         1     1      1\n",
       "timour            1     1      1\n",
       "mocktar           1     1      1\n",
       "tyson             1     1      1\n",
       "fouad             1     1      1\n",
       "galdric           1     1      1\n",
       "sohane            2     2      1\n",
       "adao              1     1      1\n",
       "pierre-loup       1     1      1\n",
       "lenz              1     1      1\n",
       "djenael           1     1      1\n",
       "noane             2     2      1\n",
       "aimine            1     1      1\n",
       "zayyan            1     1      1\n",
       "abdou-aziz        1     1      1\n",
       "shaun             1     1      1\n",
       "tedd              1     1      1\n",
       "elysio            1     1      1\n",
       "amedee            2     2      1\n",
       "yun               2     2      1\n",
       "binjamin          1     1      1\n",
       "rui               1     1      1\n",
       "welat             1     1      1\n",
       "elrick            1     1      1\n",
       "manael            2     2      1\n",
       "kaiden            1     1      1"
      ]
     },
     "execution_count": 84,
     "metadata": {},
     "output_type": "execute_result"
    }
   ],
   "source": [
    "# df_nat[df_nat.preusuel.isin(df_compare.index.values)].groupby(['preusuel', 'sexe']).agg(preusuel=('preusuel', 'first'))\n",
    "# ser_sexe_color = df_nat[df_nat.preusuel.isin(df_compare.index.values)].groupby('preusuel').sexe.nunique()\n",
    "ser_sexe_color = df_nat[df_nat.preusuel.isin(df_compare.index.values)].groupby('preusuel').agg(nsexes=('sexe', 'nunique'), sexe=('sexe', 'min'))\n",
    "ser_sexe_color.sample(30)"
   ]
  },
  {
   "cell_type": "code",
   "execution_count": 66,
   "id": "507ec6d7",
   "metadata": {},
   "outputs": [
    {
     "data": {
      "text/plain": [
       "preusuel\n",
       "_prenoms_rares    2\n",
       "gabriel           2\n",
       "leo               2\n",
       "lucas             2\n",
       "raphael           2\n",
       "                 ..\n",
       "djamel-eddine     1\n",
       "tran              2\n",
       "jean-maxime       1\n",
       "jean-mathis       1\n",
       "roxan             1\n",
       "Name: sexe, Length: 9841, dtype: int64"
      ]
     },
     "execution_count": 66,
     "metadata": {},
     "output_type": "execute_result"
    }
   ],
   "source": [
    "ser_sexe_color.loc[df_compare.index.values]"
   ]
  },
  {
   "cell_type": "code",
   "execution_count": 48,
   "id": "280e8ab2",
   "metadata": {},
   "outputs": [
    {
     "data": {
      "text/html": [
       "<div>\n",
       "<style scoped>\n",
       "    .dataframe tbody tr th:only-of-type {\n",
       "        vertical-align: middle;\n",
       "    }\n",
       "\n",
       "    .dataframe tbody tr th {\n",
       "        vertical-align: top;\n",
       "    }\n",
       "\n",
       "    .dataframe thead th {\n",
       "        text-align: right;\n",
       "    }\n",
       "</style>\n",
       "<table border=\"1\" class=\"dataframe\">\n",
       "  <thead>\n",
       "    <tr style=\"text-align: right;\">\n",
       "      <th></th>\n",
       "      <th>last_10</th>\n",
       "      <th>last_3</th>\n",
       "    </tr>\n",
       "    <tr>\n",
       "      <th>preusuel</th>\n",
       "      <th></th>\n",
       "      <th></th>\n",
       "    </tr>\n",
       "  </thead>\n",
       "  <tbody>\n",
       "    <tr>\n",
       "      <th>_prenoms_rares</th>\n",
       "      <td>24152</td>\n",
       "      <td>25526.0</td>\n",
       "    </tr>\n",
       "    <tr>\n",
       "      <th>gabriel</th>\n",
       "      <td>5233</td>\n",
       "      <td>4968.0</td>\n",
       "    </tr>\n",
       "    <tr>\n",
       "      <th>leo</th>\n",
       "      <td>4869</td>\n",
       "      <td>4781.0</td>\n",
       "    </tr>\n",
       "    <tr>\n",
       "      <th>lucas</th>\n",
       "      <td>4763</td>\n",
       "      <td>3657.0</td>\n",
       "    </tr>\n",
       "    <tr>\n",
       "      <th>raphael</th>\n",
       "      <td>4594</td>\n",
       "      <td>4551.0</td>\n",
       "    </tr>\n",
       "  </tbody>\n",
       "</table>\n",
       "</div>"
      ],
      "text/plain": [
       "                last_10   last_3\n",
       "preusuel                        \n",
       "_prenoms_rares    24152  25526.0\n",
       "gabriel            5233   4968.0\n",
       "leo                4869   4781.0\n",
       "lucas              4763   3657.0\n",
       "raphael            4594   4551.0"
      ]
     },
     "execution_count": 48,
     "metadata": {},
     "output_type": "execute_result"
    }
   ],
   "source": [
    "df_compare.head()"
   ]
  },
  {
   "cell_type": "markdown",
   "id": "b5f4f77d-dbf9-4383-96dd-a7e5ab66a69c",
   "metadata": {},
   "source": [
    "## Passé"
   ]
  },
  {
   "cell_type": "code",
   "execution_count": 49,
   "id": "b3f8c56e-8155-4627-bf02-c74b40e8479c",
   "metadata": {},
   "outputs": [
    {
     "data": {
      "text/html": [
       "<div>\n",
       "<style scoped>\n",
       "    .dataframe tbody tr th:only-of-type {\n",
       "        vertical-align: middle;\n",
       "    }\n",
       "\n",
       "    .dataframe tbody tr th {\n",
       "        vertical-align: top;\n",
       "    }\n",
       "\n",
       "    .dataframe thead th {\n",
       "        text-align: right;\n",
       "    }\n",
       "</style>\n",
       "<table border=\"1\" class=\"dataframe\">\n",
       "  <thead>\n",
       "    <tr style=\"text-align: right;\">\n",
       "      <th></th>\n",
       "      <th>nombre</th>\n",
       "    </tr>\n",
       "    <tr>\n",
       "      <th>preusuel</th>\n",
       "      <th></th>\n",
       "    </tr>\n",
       "  </thead>\n",
       "  <tbody>\n",
       "    <tr>\n",
       "      <th>kevin</th>\n",
       "      <td>37396</td>\n",
       "    </tr>\n",
       "    <tr>\n",
       "      <th>thomas</th>\n",
       "      <td>29391</td>\n",
       "    </tr>\n",
       "    <tr>\n",
       "      <th>_prenoms_rares</th>\n",
       "      <td>26376</td>\n",
       "    </tr>\n",
       "    <tr>\n",
       "      <th>nicolas</th>\n",
       "      <td>26075</td>\n",
       "    </tr>\n",
       "    <tr>\n",
       "      <th>alexandre</th>\n",
       "      <td>26032</td>\n",
       "    </tr>\n",
       "    <tr>\n",
       "      <th>julien</th>\n",
       "      <td>25991</td>\n",
       "    </tr>\n",
       "    <tr>\n",
       "      <th>maxime</th>\n",
       "      <td>24970</td>\n",
       "    </tr>\n",
       "    <tr>\n",
       "      <th>anthony</th>\n",
       "      <td>23019</td>\n",
       "    </tr>\n",
       "    <tr>\n",
       "      <th>romain</th>\n",
       "      <td>21620</td>\n",
       "    </tr>\n",
       "    <tr>\n",
       "      <th>florian</th>\n",
       "      <td>20039</td>\n",
       "    </tr>\n",
       "    <tr>\n",
       "      <th>jeremy</th>\n",
       "      <td>19968</td>\n",
       "    </tr>\n",
       "    <tr>\n",
       "      <th>guillaume</th>\n",
       "      <td>19878</td>\n",
       "    </tr>\n",
       "    <tr>\n",
       "      <th>benjamin</th>\n",
       "      <td>18088</td>\n",
       "    </tr>\n",
       "    <tr>\n",
       "      <th>jonathan</th>\n",
       "      <td>15763</td>\n",
       "    </tr>\n",
       "    <tr>\n",
       "      <th>pierre</th>\n",
       "      <td>15740</td>\n",
       "    </tr>\n",
       "    <tr>\n",
       "      <th>clément</th>\n",
       "      <td>15044</td>\n",
       "    </tr>\n",
       "    <tr>\n",
       "      <th>quentin</th>\n",
       "      <td>15002</td>\n",
       "    </tr>\n",
       "    <tr>\n",
       "      <th>vincent</th>\n",
       "      <td>15001</td>\n",
       "    </tr>\n",
       "    <tr>\n",
       "      <th>antoine</th>\n",
       "      <td>14527</td>\n",
       "    </tr>\n",
       "    <tr>\n",
       "      <th>mathieu</th>\n",
       "      <td>14342</td>\n",
       "    </tr>\n",
       "    <tr>\n",
       "      <th>adrien</th>\n",
       "      <td>12431</td>\n",
       "    </tr>\n",
       "    <tr>\n",
       "      <th>damien</th>\n",
       "      <td>12152</td>\n",
       "    </tr>\n",
       "    <tr>\n",
       "      <th>alexis</th>\n",
       "      <td>11984</td>\n",
       "    </tr>\n",
       "    <tr>\n",
       "      <th>sébastien</th>\n",
       "      <td>11970</td>\n",
       "    </tr>\n",
       "    <tr>\n",
       "      <th>david</th>\n",
       "      <td>11949</td>\n",
       "    </tr>\n",
       "    <tr>\n",
       "      <th>mickael</th>\n",
       "      <td>11173</td>\n",
       "    </tr>\n",
       "    <tr>\n",
       "      <th>valentin</th>\n",
       "      <td>9948</td>\n",
       "    </tr>\n",
       "    <tr>\n",
       "      <th>loïc</th>\n",
       "      <td>9144</td>\n",
       "    </tr>\n",
       "    <tr>\n",
       "      <th>aurélien</th>\n",
       "      <td>8599</td>\n",
       "    </tr>\n",
       "    <tr>\n",
       "      <th>jordan</th>\n",
       "      <td>8341</td>\n",
       "    </tr>\n",
       "    <tr>\n",
       "      <th>matthieu</th>\n",
       "      <td>8220</td>\n",
       "    </tr>\n",
       "    <tr>\n",
       "      <th>florent</th>\n",
       "      <td>8103</td>\n",
       "    </tr>\n",
       "    <tr>\n",
       "      <th>arnaud</th>\n",
       "      <td>7757</td>\n",
       "    </tr>\n",
       "    <tr>\n",
       "      <th>cedric</th>\n",
       "      <td>7674</td>\n",
       "    </tr>\n",
       "    <tr>\n",
       "      <th>rémi</th>\n",
       "      <td>7452</td>\n",
       "    </tr>\n",
       "    <tr>\n",
       "      <th>benoît</th>\n",
       "      <td>7328</td>\n",
       "    </tr>\n",
       "    <tr>\n",
       "      <th>christopher</th>\n",
       "      <td>7094</td>\n",
       "    </tr>\n",
       "    <tr>\n",
       "      <th>fabien</th>\n",
       "      <td>6979</td>\n",
       "    </tr>\n",
       "    <tr>\n",
       "      <th>simon</th>\n",
       "      <td>6932</td>\n",
       "    </tr>\n",
       "    <tr>\n",
       "      <th>paul</th>\n",
       "      <td>6420</td>\n",
       "    </tr>\n",
       "    <tr>\n",
       "      <th>baptiste</th>\n",
       "      <td>6398</td>\n",
       "    </tr>\n",
       "    <tr>\n",
       "      <th>jerome</th>\n",
       "      <td>6346</td>\n",
       "    </tr>\n",
       "    <tr>\n",
       "      <th>ludovic</th>\n",
       "      <td>6333</td>\n",
       "    </tr>\n",
       "    <tr>\n",
       "      <th>thibault</th>\n",
       "      <td>6217</td>\n",
       "    </tr>\n",
       "    <tr>\n",
       "      <th>françois</th>\n",
       "      <td>6129</td>\n",
       "    </tr>\n",
       "    <tr>\n",
       "      <th>geoffrey</th>\n",
       "      <td>5972</td>\n",
       "    </tr>\n",
       "    <tr>\n",
       "      <th>sylvain</th>\n",
       "      <td>5836</td>\n",
       "    </tr>\n",
       "    <tr>\n",
       "      <th>christophe</th>\n",
       "      <td>5665</td>\n",
       "    </tr>\n",
       "    <tr>\n",
       "      <th>cyril</th>\n",
       "      <td>5644</td>\n",
       "    </tr>\n",
       "    <tr>\n",
       "      <th>bastien</th>\n",
       "      <td>5536</td>\n",
       "    </tr>\n",
       "  </tbody>\n",
       "</table>\n",
       "</div>"
      ],
      "text/plain": [
       "                nombre\n",
       "preusuel              \n",
       "kevin            37396\n",
       "thomas           29391\n",
       "_prenoms_rares   26376\n",
       "nicolas          26075\n",
       "alexandre        26032\n",
       "julien           25991\n",
       "maxime           24970\n",
       "anthony          23019\n",
       "romain           21620\n",
       "florian          20039\n",
       "jeremy           19968\n",
       "guillaume        19878\n",
       "benjamin         18088\n",
       "jonathan         15763\n",
       "pierre           15740\n",
       "clément          15044\n",
       "quentin          15002\n",
       "vincent          15001\n",
       "antoine          14527\n",
       "mathieu          14342\n",
       "adrien           12431\n",
       "damien           12152\n",
       "alexis           11984\n",
       "sébastien        11970\n",
       "david            11949\n",
       "mickael          11173\n",
       "valentin          9948\n",
       "loïc              9144\n",
       "aurélien          8599\n",
       "jordan            8341\n",
       "matthieu          8220\n",
       "florent           8103\n",
       "arnaud            7757\n",
       "cedric            7674\n",
       "rémi              7452\n",
       "benoît            7328\n",
       "christopher       7094\n",
       "fabien            6979\n",
       "simon             6932\n",
       "paul              6420\n",
       "baptiste          6398\n",
       "jerome            6346\n",
       "ludovic           6333\n",
       "thibault          6217\n",
       "françois          6129\n",
       "geoffrey          5972\n",
       "sylvain           5836\n",
       "christophe        5665\n",
       "cyril             5644\n",
       "bastien           5536"
      ]
     },
     "execution_count": 49,
     "metadata": {},
     "output_type": "execute_result"
    }
   ],
   "source": [
    "target_year = 1991\n",
    "nb_annees = 3\n",
    "n_display = 50\n",
    "df_last_years = df_nat[(df_nat.annais.isin([year for year in range(target_year - 1, target_year + 2)])) & (df_nat.sexe == 1)]\n",
    "df_last_years.groupby(['preusuel']).agg({'nombre' : sum}).sort_values(by='nombre', ascending=False).head(n_display)"
   ]
  }
 ],
 "metadata": {
  "interpreter": {
   "hash": "3cdbd4deb511209dc19878f197ebe1399767d38a3435dde4402620277a5f6c6c"
  },
  "kernelspec": {
   "display_name": "Python3 (app-prenoms)",
   "language": "python",
   "name": "python3"
  },
  "language_info": {
   "codemirror_mode": {
    "name": "ipython",
    "version": 3
   },
   "file_extension": ".py",
   "mimetype": "text/x-python",
   "name": "python",
   "nbconvert_exporter": "python",
   "pygments_lexer": "ipython3",
   "version": "3.10.0"
  }
 },
 "nbformat": 4,
 "nbformat_minor": 5
}
